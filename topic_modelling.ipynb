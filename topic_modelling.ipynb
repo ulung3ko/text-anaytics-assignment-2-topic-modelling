{
  "cells": [
    {
      "cell_type": "markdown",
      "metadata": {
        "id": "91CS8gKP3gj2"
      },
      "source": [
        "# Identifikasi Masalah\n",
        "## Latar Belakang\n",
        "Dalam dunia akademik, artikel ilmiah diterbitkan setiap hari. Volume informasi ini menyulitkan akademisi baik itu mahasiswa, dosen, dan peneliti untuk mengikuti perkembangan terbaru secara menyeluruh. Disinilah penting nya topic modeling, dengan teknik ini, kita dapat secara otomatis mengelompokkan kumpulan abstrak artikel ilmiah ke dalam topik-topik utama seperti Artificial Intelligence, Cybersecurity, atau Computer Vision.\n",
        "\n",
        "Topic modeling memungkinkan kita untuk:\n",
        "\n",
        "- Mengidentifikasi tren penelitian yang sedang berkembang.\n",
        "- Menemukan artikel relevan tanpa membaca satu per satu.\n",
        "- Menyederhanakan eksplorasi literatur dalam jumlah besar.\n",
        "\n",
        "Dalam tugas ini, kita akan membandingkan dua metode topic modeling:\n",
        "\n",
        "- Latent Dirichlet Allocation (LDA).\n",
        "- BERTopic.\n",
        "\n",
        "Fokus tugas ini yaitu menilai model mana yang memberikan hasil pengelompokan topik yang lebih relevan, dapat dimengerti, dan sesuai dengan kategori asli artikel.\n",
        "\n",
        "## Pertanyaan Penelitian\n",
        "1. Topik apa saja yang berhasil ditemukan oleh masing-masing metode?\n",
        "\n",
        "2. Berapa jumlah topik optimal, dan model mana yang memberikan skor kualitas topik terbaik?\n",
        "\n",
        "3. Seberapa sesuai hasil topik dari masing-masing metode dengan label kategori asli dari artikel?\n",
        "\n"
      ]
    },
    {
      "cell_type": "markdown",
      "metadata": {
        "id": "d3VBItqi7Fq-"
      },
      "source": [
        "# Pengumpulan Dataset\n",
        "## Sumber Data\n",
        "Untuk tugas topic modeling ini, dataset yang digunakan adalah dataset publik \"ArXiv Dataset\" yang tersedia di platform Kaggle. Dataset ini berisi metadata dari jutaan publikasi ilmiah dari penerbit arXiv.org.\n",
        "\n",
        "Setiap entri mencakup informasi seperti:\n",
        "- id: ID unik artikel\n",
        "- title: Judul artikel\n",
        "- abstract: Ringkasan isi artikel (digunakan sebagai teks utama analisis)\n",
        "- categories: Label bidang ilmu (misal: cs.AI, cs.CV, math.CO) yang akan digunakan untuk evaluasi model\n",
        "- update_date: Tanggal terakhir artikel diperbarui\n",
        "\n",
        "Dataset ini cocok dengan implementasi topic modeling karena berisi abstrak berkualitas tinggi, terstruktur, dan kaya informasi—ideal untuk pemrosesan bahasa alami (NLP).\n",
        "\n",
        "Link Kaggle : https://www.kaggle.com/datasets/Cornell-University/arxiv\n",
        "\n",
        "## Pengumpulan Data\n",
        "Dataset asli berukuran besar (lebih dari 2 juta entri) dan disimpan dalam format JSON Lines (.jsonl), di mana setiap baris adalah satu objek JSON.\n",
        "\n",
        "Supaya lebih relevan, dataset yang artikel yang digunakan hanya tahun 2021 keatas. Dari tahap ini, diperoleh DataFrame akhir (df_recent) dengan 1.055.586 baris. Karena keterbatasan komputasi, maka diambil sample sebanyak 100.00 saja."
      ]
    },
    {
      "cell_type": "code",
      "execution_count": null,
      "metadata": {
        "colab": {
          "base_uri": "https://localhost:8080/"
        },
        "id": "3eFwjIfP3K_K",
        "outputId": "a8cec9ca-068e-443b-f056-ab0bdc8f9d82"
      },
      "outputs": [
        {
          "name": "stdout",
          "output_type": "stream",
          "text": [
            "Path to dataset files: /kaggle/input/arxiv\n"
          ]
        }
      ],
      "source": [
        "# Ini merupakan kode dari kaggle sendiri untuk mendownload dataset nya\n",
        "import kagglehub\n",
        "\n",
        "# Download latest version\n",
        "path = kagglehub.dataset_download(\"Cornell-University/arxiv\")\n",
        "\n",
        "print(\"Path to dataset files:\", path)"
      ]
    },
    {
      "cell_type": "code",
      "execution_count": null,
      "metadata": {
        "colab": {
          "base_uri": "https://localhost:8080/"
        },
        "id": "ilLaKQAe_PoA",
        "outputId": "5c0f01a6-c134-4bd3-f635-a3b177c242a8"
      },
      "outputs": [
        {
          "name": "stdout",
          "output_type": "stream",
          "text": [
            "Dataset telah dipindahkan ke: /content/dataset\n"
          ]
        }
      ],
      "source": [
        "\"\"\"Kode ini digunakan untuk memindahkan file dataset yang telah ter download\n",
        "kedalam direktori '/content/dataset' google colab\"\"\"\n",
        "import shutil\n",
        "# Source folder dari kagglehub\n",
        "src_path = \"/kaggle/input/arxiv\"\n",
        "\n",
        "# Target folder (direktori kerja biasa)\n",
        "dst_path = \"/content/dataset\"\n",
        "\n",
        "# Salin semua isi folder\n",
        "shutil.copytree(src_path, dst_path, dirs_exist_ok=True)\n",
        "\n",
        "print(\"Dataset telah dipindahkan ke:\", dst_path)"
      ]
    },
    {
      "cell_type": "code",
      "execution_count": null,
      "metadata": {
        "colab": {
          "base_uri": "https://localhost:8080/"
        },
        "id": "RcGNOWYS_qGO",
        "outputId": "fd561928-5df2-46de-a94f-4f3adde42de1"
      },
      "outputs": [
        {
          "name": "stdout",
          "output_type": "stream",
          "text": [
            "Berhasil membaca 1055586 baris data dari tahun 2021 ke atas.\n",
            "\n",
            "Informasi DataFrame:\n",
            "<class 'pandas.core.frame.DataFrame'>\n",
            "RangeIndex: 1055586 entries, 0 to 1055585\n",
            "Data columns (total 14 columns):\n",
            " #   Column          Non-Null Count    Dtype \n",
            "---  ------          --------------    ----- \n",
            " 0   id              1055586 non-null  object\n",
            " 1   submitter       1055554 non-null  object\n",
            " 2   authors         1055586 non-null  object\n",
            " 3   title           1055586 non-null  object\n",
            " 4   comments        673326 non-null   object\n",
            " 5   journal-ref     208190 non-null   object\n",
            " 6   doi             317727 non-null   object\n",
            " 7   report-no       25292 non-null    object\n",
            " 8   categories      1055586 non-null  object\n",
            " 9   license         1054272 non-null  object\n",
            " 10  abstract        1055586 non-null  object\n",
            " 11  versions        1055586 non-null  object\n",
            " 12  update_date     1055586 non-null  object\n",
            " 13  authors_parsed  1055586 non-null  object\n",
            "dtypes: object(14)\n",
            "memory usage: 112.7+ MB\n",
            "\n",
            "5 baris pertama data terbaru:\n",
            "          id          submitter  \\\n",
            "0  0704.0033    Maxim A. Yurkin   \n",
            "1  0704.0038    Maxim A. Yurkin   \n",
            "2  0704.0275  George M. Bergman   \n",
            "3  0704.0348  Grazyna Stasinska   \n",
            "4  0704.0479   Thomas Geisser H   \n",
            "\n",
            "                                             authors  \\\n",
            "0  Maxim A. Yurkin, Valeri P. Maltsev, Alfons G. ...   \n",
            "1                Maxim A. Yurkin, Alfons G. Hoekstra   \n",
            "2                   George M. Bergman (U.C.Berkeley)   \n",
            "3                                       G. Stasinska   \n",
            "4                                          T.Geisser   \n",
            "\n",
            "                                               title  \\\n",
            "0  Convergence of the discrete dipole approximati...   \n",
            "1  The discrete dipole approximation: an overview...   \n",
            "2                     Mapping radii of metric spaces   \n",
            "3                   What can emission lines tell us?   \n",
            "4               The affine part of the Picard scheme   \n",
            "\n",
            "                                            comments  \\\n",
            "0  23 pages, 5 figures; added several corrections...   \n",
            "1  36 pages, 1 figure; added several corrections ...   \n",
            "2  24 pages. To appear, Pacific J. Math. Any upda...   \n",
            "3  55 pages, Lectures given at the XVIII Canary I...   \n",
            "4  This is a correct version of the original pape...   \n",
            "\n",
            "                                         journal-ref  \\\n",
            "0  J.Opt.Soc.Am.A 23, 2578-2591 (2006); Erratum: ...   \n",
            "1  J.Quant.Spectrosc.Radiat.Transf. 106, 558-589 ...   \n",
            "2               Pacific J. Math., 236 (2008) 223-261   \n",
            "3                                               None   \n",
            "4                                               None   \n",
            "\n",
            "                                                 doi report-no  \\\n",
            "0    10.1364/JOSAA.23.002578 10.1364/JOSAA.32.002407      None   \n",
            "1  10.1016/j.jqsrt.2007.01.034 10.1016/j.jqsrt.20...      None   \n",
            "2                           10.2140/pjm.2008.236.223      None   \n",
            "3                       10.1017/CBO9780511552038.003      None   \n",
            "4                                               None      None   \n",
            "\n",
            "                       categories  \\\n",
            "0  physics.optics physics.comp-ph   \n",
            "1  physics.optics physics.comp-ph   \n",
            "2                         math.MG   \n",
            "3                        astro-ph   \n",
            "4                 math.AG math.KT   \n",
            "\n",
            "                                             license  \\\n",
            "0  http://creativecommons.org/licenses/by-nc-nd/4.0/   \n",
            "1  http://creativecommons.org/licenses/by-nc-nd/4.0/   \n",
            "2                                               None   \n",
            "3                                               None   \n",
            "4  http://arxiv.org/licenses/nonexclusive-distrib...   \n",
            "\n",
            "                                            abstract  \\\n",
            "0    We performed a rigorous theoretical converge...   \n",
            "1    We present a review of the discrete dipole a...   \n",
            "2    It is known that every closed curve of lengt...   \n",
            "3    1 Generalities\\n  2 Empirical diagnostics ba...   \n",
            "4    We describe the maximal torus and maximal un...   \n",
            "\n",
            "                                            versions update_date  \\\n",
            "0  [{'version': 'v1', 'created': 'Sat, 31 Mar 200...  2022-03-31   \n",
            "1  [{'version': 'v1', 'created': 'Sat, 31 Mar 200...  2022-03-30   \n",
            "2  [{'version': 'v1', 'created': 'Mon, 2 Apr 2007...  2021-10-15   \n",
            "3  [{'version': 'v1', 'created': 'Tue, 3 Apr 2007...  2023-06-07   \n",
            "4  [{'version': 'v1', 'created': 'Wed, 4 Apr 2007...  2021-01-29   \n",
            "\n",
            "                                      authors_parsed  \n",
            "0  [[Yurkin, Maxim A., ], [Maltsev, Valeri P., ],...  \n",
            "1    [[Yurkin, Maxim A., ], [Hoekstra, Alfons G., ]]  \n",
            "2             [[Bergman, George M., , U.C.Berkeley]]  \n",
            "3                                [[Stasinska, G., ]]  \n",
            "4                                  [[Geisser, T., ]]  \n"
          ]
        }
      ],
      "source": [
        "\"\"\"Kode dibawah digunakan untuk mengkonversi file dataset yang berformat json\n",
        "ke dalam pandas dataframe, dan saat proses nya difilter hanya artikel atau paper\n",
        "dengan tahun >= 2021\"\"\"\n",
        "\n",
        "import pandas as pd\n",
        "import json\n",
        "\n",
        "data = []\n",
        "file_path = '/content/dataset/arxiv-metadata-oai-snapshot.json'\n",
        "start_year = 2021\n",
        "\n",
        "with open(file_path, 'r') as f:\n",
        "    for line in f:\n",
        "        # Megubah setiap baris menjadi dictionary\n",
        "        parsed_line = json.loads(line)\n",
        "\n",
        "        # Membaca tahun dari kolom 'update_date'\n",
        "        # try-except digunakan untuk antisipasi mana tau ada data yang aneh\n",
        "        try:\n",
        "            # Mendapatkan tahun dari kolom 'update date'\n",
        "            year = int(parsed_line['update_date'][:4])\n",
        "\n",
        "            # Simpa data >= 2021\n",
        "            if year >= start_year:\n",
        "                data.append(parsed_line)\n",
        "        except (ValueError, TypeError):\n",
        "            # Jika ada error maka dilanjutkan proses nya\n",
        "            continue\n",
        "\n",
        "# Membuat dataframe dari data-data yang sudah difilter\n",
        "df = pd.DataFrame(data)\n",
        "\n",
        "# Cek hasil dataframe\n",
        "if not df.empty:\n",
        "    print(f\"Berhasil membaca {len(df)} baris data dari tahun {start_year} ke atas.\")\n",
        "    print(\"\\nInformasi DataFrame:\")\n",
        "    df.info()\n",
        "\n",
        "    print(\"\\n5 baris pertama data terbaru:\")\n",
        "    print(df.head())\n",
        "else:\n",
        "    print(f\"Tidak ada data yang ditemukan dari tahun {start_year} ke atas.\")"
      ]
    },
    {
      "cell_type": "code",
      "execution_count": null,
      "metadata": {
        "colab": {
          "base_uri": "https://localhost:8080/"
        },
        "id": "EcKzP5j0p1MW",
        "outputId": "b0489acf-f22c-4f02-dabb-1e8a21dc3c3c"
      },
      "outputs": [
        {
          "name": "stdout",
          "output_type": "stream",
          "text": [
            "\n",
            "Ukuran DataFrame asli: 1055586 baris.\n",
            "Ukuran DataFrame setelah di-sample: 50000 baris.\n"
          ]
        },
        {
          "data": {
            "text/plain": [
              "(50000, 14)"
            ]
          },
          "execution_count": 3,
          "metadata": {},
          "output_type": "execute_result"
        }
      ],
      "source": [
        "\"\"\"Kode pada cell ini berfungsi untuk mengambil 50.000 data dari dataset\n",
        "Hal ini dilakukan karena dataset terlalu besar dan tidak cukup komputasi.\"\"\"\n",
        "\n",
        "sample_size = 50000\n",
        "\n",
        "print(f\"\\nUkuran DataFrame asli: {len(df)} baris.\")\n",
        "\n",
        "# Menyimpan 50.000 data ke df_sampled\n",
        "df_sampled = df.sample(n=sample_size, random_state=42)\n",
        "\n",
        "print(f\"Ukuran DataFrame setelah di-sample: {len(df_sampled)} baris.\")\n",
        "\n",
        "# Timpa df asli dengan df_sampled (tidak digunakan lagi)\n",
        "df = df_sampled.copy()\n",
        "\n",
        "# Reset index DataFrame yang sudah dilakukan proses sample\n",
        "df.reset_index(drop=True, inplace=True)\n",
        "\n",
        "# Cek jumlah baris\n",
        "df.shape"
      ]
    },
    {
      "cell_type": "markdown",
      "metadata": {
        "id": "HNTBTIKZEz2w"
      },
      "source": [
        "# Pra-pemrosesan Teks (pre-processing)\n",
        "Proses ini dilakukan sesuai dengan intruksi soal."
      ]
    },
    {
      "cell_type": "code",
      "execution_count": null,
      "metadata": {
        "colab": {
          "base_uri": "https://localhost:8080/"
        },
        "id": "Xw35o3opEt7a",
        "outputId": "5e64f724-3473-47db-bdf0-7105122818fb"
      },
      "outputs": [
        {
          "name": "stderr",
          "output_type": "stream",
          "text": [
            "[nltk_data] Downloading package punkt to /root/nltk_data...\n",
            "[nltk_data]   Package punkt is already up-to-date!\n",
            "[nltk_data] Downloading package stopwords to /root/nltk_data...\n",
            "[nltk_data]   Package stopwords is already up-to-date!\n",
            "[nltk_data] Downloading package wordnet to /root/nltk_data...\n",
            "[nltk_data]   Package wordnet is already up-to-date!\n"
          ]
        },
        {
          "data": {
            "text/plain": [
              "True"
            ]
          },
          "execution_count": 4,
          "metadata": {},
          "output_type": "execute_result"
        }
      ],
      "source": [
        "# Kode dibawah adalah mendownload beberapa modul dari NLTK untu pre-processing teks\n",
        "import nltk\n",
        "\n",
        "nltk.download('punkt')\n",
        "nltk.download('stopwords')\n",
        "nltk.download('wordnet')"
      ]
    },
    {
      "cell_type": "code",
      "execution_count": null,
      "metadata": {
        "colab": {
          "base_uri": "https://localhost:8080/"
        },
        "id": "BEtvyBKqF3ha",
        "outputId": "2e77326e-c864-46ae-a7dc-833892ea3c13"
      },
      "outputs": [
        {
          "name": "stderr",
          "output_type": "stream",
          "text": [
            "[nltk_data] Downloading package punkt_tab to /root/nltk_data...\n",
            "[nltk_data]   Package punkt_tab is already up-to-date!\n"
          ]
        },
        {
          "data": {
            "text/plain": [
              "True"
            ]
          },
          "execution_count": 5,
          "metadata": {},
          "output_type": "execute_result"
        }
      ],
      "source": [
        "nltk.download('punkt_tab')"
      ]
    },
    {
      "cell_type": "code",
      "execution_count": null,
      "metadata": {
        "id": "hBp9FjW9GdLE"
      },
      "outputs": [],
      "source": [
        "\"\"\"Kode ini digunakan untuk menggabungkan judul artikel dan abstrak menjadi\n",
        "kolom teks untuk memperkaya informasi supaya LDA dan BertTopic lebih bisa\n",
        "menangkap pola dan topik lebih baik\"\"\"\n",
        "\n",
        "df['text'] = df['title'].fillna('') + ' ' + df['abstract'].fillna('')"
      ]
    },
    {
      "cell_type": "code",
      "execution_count": null,
      "metadata": {
        "id": "XODNYPkkFAPs"
      },
      "outputs": [],
      "source": [
        "\"\"\"Kode dibawah didunakan untuk mendefinisikan fungsi pre-processing\n",
        "yang akan diaplikasikan pada dataset\"\"\"\n",
        "\n",
        "import re\n",
        "from nltk.corpus import stopwords\n",
        "from nltk.tokenize import word_tokenize\n",
        "from nltk.stem import WordNetLemmatizer\n",
        "\n",
        "# Inisialisasi lemmatizer dan stopwords\n",
        "lemmatizer = WordNetLemmatizer()\n",
        "# Menggunakan stopwords berbahasa inggris karena dataset artikel berhasasa inggris\n",
        "stop_words = set(stopwords.words('english'))\n",
        "\n",
        "def preprocess_text(text):\n",
        "    # Case Folding: Mengubah semua teks menjadi huruf kecil\n",
        "    text = text.lower()\n",
        "\n",
        "    # Filtering\n",
        "    text = re.sub(r'http\\S+|www\\S+|https\\S+', '', text, flags=re.MULTILINE)\n",
        "    text = re.sub(r'[^a-z\\s]', '', text)\n",
        "\n",
        "    # Tokenisasi: Memecah teks menjadi token\n",
        "    tokens = word_tokenize(text)\n",
        "\n",
        "    # Stopword Removal & Lemmatization & Filtering kata pendek\n",
        "    cleaned_tokens = []\n",
        "    for word in tokens:\n",
        "        # Cek apakah kata bukan stopword dan panjangnya lebih dari 2 huruf\n",
        "        if word not in stop_words and len(word) > 2:\n",
        "            # Lemmatization: Mengubah kata ke bentuk dasarnya\n",
        "            cleaned_tokens.append(lemmatizer.lemmatize(word))\n",
        "\n",
        "    return cleaned_tokens"
      ]
    },
    {
      "cell_type": "code",
      "execution_count": null,
      "metadata": {
        "colab": {
          "base_uri": "https://localhost:8080/"
        },
        "id": "qRzSrNIgFlG6",
        "outputId": "03124b4c-633a-457e-f870-733ebb9b7a7a"
      },
      "outputs": [
        {
          "name": "stdout",
          "output_type": "stream",
          "text": [
            "Hasil uji coba pra-pemrosesan pada 5 baris pertama:\n",
            "0    [morphological, computing, logic, underlying, ...\n",
            "1    [sixteen, point, mathbbp, inverse, galois, pro...\n",
            "2    [aibased, aortic, vessel, tree, segmentation, ...\n",
            "3    [pathwise, unique, solution, stochastic, avera...\n",
            "4    [twodimensional, stabilized, discontinuous, ga...\n",
            "Name: text, dtype: object\n"
          ]
        }
      ],
      "source": [
        "# Test hasil fungsi pre-processing yang telah dibuat\n",
        "print(\"Hasil uji coba pra-pemrosesan pada 5 baris pertama:\")\n",
        "contoh_hasil = df['text'].head(5).apply(preprocess_text)\n",
        "print(contoh_hasil)"
      ]
    },
    {
      "cell_type": "code",
      "execution_count": null,
      "metadata": {
        "id": "_KtWdZW0GzR0"
      },
      "outputs": [],
      "source": [
        "# Mengaplikasikan fungsi pada seluruh data di dataset dan disimpan pada kolom baru\n",
        "df['processed_text'] = df['text'].apply(preprocess_text)"
      ]
    },
    {
      "cell_type": "code",
      "execution_count": null,
      "metadata": {
        "colab": {
          "base_uri": "https://localhost:8080/"
        },
        "id": "GS195qMfHBqg",
        "outputId": "a42dc223-c080-4af4-dc34-d8735826e168"
      },
      "outputs": [
        {
          "name": "stdout",
          "output_type": "stream",
          "text": [
            "                                                    text  \\\n",
            "43445  Laptop Theft in a University Setting can be Av...   \n",
            "22744  A Riemannian Optimization Approach to Clusteri...   \n",
            "23478  On sets where lip(f) is infinite for monotone ...   \n",
            "40602  Geometrical Penrose Tilings are characterized ...   \n",
            "5715   Classification of simply-transitive Levi non-d...   \n",
            "\n",
            "                                          processed_text  \n",
            "43445  [laptop, theft, university, setting, avoided, ...  \n",
            "22744  [riemannian, optimization, approach, clusterin...  \n",
            "23478  [set, lipf, infinite, monotone, continuous, fu...  \n",
            "40602  [geometrical, penrose, tiling, characterized, ...  \n",
            "5715   [classification, simplytransitive, levi, nonde...  \n"
          ]
        }
      ],
      "source": [
        "# Menampilkan dataset sebelum dan sesudah pre-processing\n",
        "print(df[['text', 'processed_text']].sample(5))"
      ]
    },
    {
      "cell_type": "markdown",
      "metadata": {
        "id": "v-PcRtvfrvr3"
      },
      "source": [
        "# Penerapan Algoritma Topic Modeling"
      ]
    },
    {
      "cell_type": "markdown",
      "metadata": {
        "id": "Z9sWFbU63nrJ"
      },
      "source": [
        "## LDA\n",
        "Penerapan algorima LDA pada tugas ini mengunakan library gensim, untuk dapat diaplikasikan pada LDA, kolom processed_text wajib diubah dalam bentuk dictionary lalu corpus. Saat mengkonversi kedalam dictionary, kata-kata dengan kemunculan kurang dari 15 dihapus dan jika muncul diatas 50% dari dokumen juga dihapus (dianggap umum), lalu setelah itu dijadikan corpus dengan metode BoW."
      ]
    },
    {
      "cell_type": "code",
      "execution_count": null,
      "metadata": {
        "colab": {
          "base_uri": "https://localhost:8080/",
          "height": 578
        },
        "id": "v9OAqVSqsofS",
        "outputId": "91f381db-c612-4bd6-ce4f-c02e4c39970c"
      },
      "outputs": [
        {
          "name": "stdout",
          "output_type": "stream",
          "text": [
            "Collecting gensim\n",
            "  Using cached gensim-4.3.3-cp311-cp311-manylinux_2_17_x86_64.manylinux2014_x86_64.whl.metadata (8.1 kB)\n",
            "Collecting numpy<2.0,>=1.18.5 (from gensim)\n",
            "  Using cached numpy-1.26.4-cp311-cp311-manylinux_2_17_x86_64.manylinux2014_x86_64.whl.metadata (61 kB)\n",
            "Collecting scipy<1.14.0,>=1.7.0 (from gensim)\n",
            "  Using cached scipy-1.13.1-cp311-cp311-manylinux_2_17_x86_64.manylinux2014_x86_64.whl.metadata (60 kB)\n",
            "Requirement already satisfied: smart-open>=1.8.1 in /usr/local/lib/python3.11/dist-packages (from gensim) (7.1.0)\n",
            "Requirement already satisfied: wrapt in /usr/local/lib/python3.11/dist-packages (from smart-open>=1.8.1->gensim) (1.17.2)\n",
            "Using cached gensim-4.3.3-cp311-cp311-manylinux_2_17_x86_64.manylinux2014_x86_64.whl (26.7 MB)\n",
            "Using cached numpy-1.26.4-cp311-cp311-manylinux_2_17_x86_64.manylinux2014_x86_64.whl (18.3 MB)\n",
            "Downloading scipy-1.13.1-cp311-cp311-manylinux_2_17_x86_64.manylinux2014_x86_64.whl (38.6 MB)\n",
            "\u001b[2K   \u001b[90m━━━━━━━━━━━━━━━━━━━━━━━━━━━━━━━━━━━━━━━━\u001b[0m \u001b[32m38.6/38.6 MB\u001b[0m \u001b[31m22.7 MB/s\u001b[0m eta \u001b[36m0:00:00\u001b[0m\n",
            "\u001b[?25hInstalling collected packages: numpy, scipy, gensim\n",
            "  Attempting uninstall: numpy\n",
            "    Found existing installation: numpy 2.0.2\n",
            "    Uninstalling numpy-2.0.2:\n",
            "      Successfully uninstalled numpy-2.0.2\n",
            "  Attempting uninstall: scipy\n",
            "    Found existing installation: scipy 1.15.3\n",
            "    Uninstalling scipy-1.15.3:\n",
            "      Successfully uninstalled scipy-1.15.3\n",
            "\u001b[31mERROR: pip's dependency resolver does not currently take into account all the packages that are installed. This behaviour is the source of the following dependency conflicts.\n",
            "thinc 8.3.6 requires numpy<3.0.0,>=2.0.0, but you have numpy 1.26.4 which is incompatible.\n",
            "tsfresh 0.21.0 requires scipy>=1.14.0; python_version >= \"3.10\", but you have scipy 1.13.1 which is incompatible.\u001b[0m\u001b[31m\n",
            "\u001b[0mSuccessfully installed gensim-4.3.3 numpy-1.26.4 scipy-1.13.1\n"
          ]
        },
        {
          "data": {
            "application/vnd.colab-display-data+json": {
              "id": "7a6226db3032458f9cf8ddf270f1d4b4",
              "pip_warning": {
                "packages": [
                  "numpy",
                  "scipy"
                ]
              }
            }
          },
          "metadata": {},
          "output_type": "display_data"
        }
      ],
      "source": [
        "!pip install gensim"
      ]
    },
    {
      "cell_type": "code",
      "execution_count": null,
      "metadata": {
        "colab": {
          "base_uri": "https://localhost:8080/"
        },
        "id": "uqswg1AGr04t",
        "outputId": "809c52bc-9d40-4b74-afc9-3015e5e81ae7"
      },
      "outputs": [
        {
          "name": "stdout",
          "output_type": "stream",
          "text": [
            "Jumlah kata unik dalam kamus setelah filtering: 12554\n",
            "Jumlah dokumen dalam corpus: 50000\n"
          ]
        }
      ],
      "source": [
        "\"\"\"Kode cell ini berfungsi untuk membuat corpus dan dictionary, karena LDA\n",
        "akan dijalankan dengan gensim yang membutuhkan corpus dan dictionary.\"\"\"\n",
        "from gensim.corpora import Dictionary\n",
        "from gensim.models import LdaModel\n",
        "import pandas as pd\n",
        "\n",
        "documents = [doc for doc in df['processed_text'] if doc]\n",
        "\n",
        "# Membuat Dictionary (memetakan setiap kata unik menjadi sebuah ID)\n",
        "dictionary = Dictionary(documents)\n",
        "\n",
        "# Memfilter kata eksrim, kata kuran dari 15 dan lebih dari 50% isi dokumen dihapus\n",
        "dictionary.filter_extremes(no_below=15, no_above=0.5, keep_n=100000)\n",
        "\n",
        "# Membuat Corpus dengan Bag-of-Words\n",
        "# BoW mengubah setiap dokumen menjadi representasi (ID kata, frekuensi)\n",
        "corpus = [dictionary.doc2bow(doc) for doc in documents]\n",
        "\n",
        "print(f\"Jumlah kata unik dalam kamus setelah filtering: {len(dictionary)}\")\n",
        "print(f\"Jumlah dokumen dalam corpus: {len(corpus)}\")"
      ]
    },
    {
      "cell_type": "code",
      "execution_count": null,
      "metadata": {
        "id": "UwBYiAW9vklT"
      },
      "outputs": [],
      "source": [
        "# Latih model LDA\n",
        "# Jumah topik awal adalah 10\n",
        "NUM_TOPICS = 10\n",
        "\n",
        "lda_model = LdaModel(\n",
        "    corpus=corpus,\n",
        "    id2word=dictionary,\n",
        "    num_topics=NUM_TOPICS,\n",
        "    random_state=42,\n",
        "    passes=10,\n",
        "    alpha='auto',\n",
        "    eta='auto'\n",
        ")"
      ]
    },
    {
      "cell_type": "code",
      "execution_count": null,
      "metadata": {
        "colab": {
          "base_uri": "https://localhost:8080/"
        },
        "id": "UvUFpCv_vsVu",
        "outputId": "594ef81d-446e-471a-d889-fc9b0c4f8dd1"
      },
      "outputs": [
        {
          "name": "stdout",
          "output_type": "stream",
          "text": [
            "\n",
            "Topik yang ditemukan oleh LDA:\n",
            "(0, '0.017*\"method\" + 0.016*\"model\" + 0.015*\"network\" + 0.015*\"algorithm\" + 0.014*\"learning\" + 0.011*\"data\" + 0.010*\"problem\" + 0.009*\"approach\" + 0.007*\"optimization\" + 0.007*\"proposed\"')\n",
            "(1, '0.013*\"model\" + 0.011*\"system\" + 0.009*\"language\" + 0.008*\"data\" + 0.006*\"llm\" + 0.006*\"study\" + 0.006*\"research\" + 0.006*\"user\" + 0.005*\"paper\" + 0.005*\"analysis\"')\n",
            "(2, '0.015*\"model\" + 0.014*\"field\" + 0.011*\"magnetic\" + 0.009*\"state\" + 0.008*\"energy\" + 0.008*\"theory\" + 0.008*\"phase\" + 0.008*\"spin\" + 0.007*\"transition\" + 0.007*\"effect\"')\n",
            "(3, '0.042*\"space\" + 0.041*\"function\" + 0.034*\"operator\" + 0.015*\"game\" + 0.012*\"kernel\" + 0.010*\"map\" + 0.010*\"functional\" + 0.008*\"discrete\" + 0.008*\"transformation\" + 0.008*\"property\"')\n",
            "(4, '0.013*\"graph\" + 0.013*\"result\" + 0.013*\"problem\" + 0.011*\"set\" + 0.011*\"number\" + 0.010*\"show\" + 0.009*\"bound\" + 0.008*\"prove\" + 0.008*\"paper\" + 0.008*\"matrix\"')\n",
            "(5, '0.026*\"quantum\" + 0.012*\"state\" + 0.011*\"system\" + 0.008*\"material\" + 0.006*\"phase\" + 0.006*\"channel\" + 0.006*\"using\" + 0.005*\"measurement\" + 0.005*\"energy\" + 0.005*\"property\"')\n",
            "(6, '0.030*\"group\" + 0.016*\"topological\" + 0.016*\"theory\" + 0.015*\"algebra\" + 0.015*\"space\" + 0.013*\"structure\" + 0.012*\"surface\" + 0.010*\"field\" + 0.010*\"manifold\" + 0.010*\"invariant\"')\n",
            "(7, '0.012*\"star\" + 0.010*\"galaxy\" + 0.008*\"mass\" + 0.007*\"observation\" + 0.006*\"emission\" + 0.006*\"model\" + 0.006*\"using\" + 0.005*\"data\" + 0.005*\"source\" + 0.005*\"find\"')\n",
            "(8, '0.026*\"system\" + 0.023*\"equation\" + 0.017*\"dynamic\" + 0.015*\"solution\" + 0.013*\"flow\" + 0.013*\"model\" + 0.009*\"time\" + 0.009*\"method\" + 0.008*\"numerical\" + 0.008*\"condition\"')\n",
            "(9, '0.023*\"model\" + 0.016*\"image\" + 0.015*\"method\" + 0.010*\"task\" + 0.009*\"learning\" + 0.009*\"feature\" + 0.009*\"data\" + 0.008*\"performance\" + 0.007*\"datasets\" + 0.007*\"training\"')\n"
          ]
        }
      ],
      "source": [
        "# Menampilkan 10 kata kunci teratas untuk setiap topik\n",
        "print(\"\\nTopik yang ditemukan oleh LDA:\")\n",
        "topics = lda_model.print_topics(num_words=10)\n",
        "for topic in topics:\n",
        "    print(topic)"
      ]
    },
    {
      "cell_type": "markdown",
      "metadata": {
        "id": "Doq3aEen4TV1"
      },
      "source": [
        "## BERTopic\n",
        "Pada pemodelan BERTopic sedikit berbeda, BERTopic lebih cangih dalam menangkap semantik pada kata sehingga teks utuk lah yang akan diaplikasikan pada model ini. Model embedding yang digunakan adalah \"all-MiniLM-L6-v2\"."
      ]
    },
    {
      "cell_type": "code",
      "execution_count": null,
      "metadata": {
        "colab": {
          "base_uri": "https://localhost:8080/"
        },
        "id": "tv-0XZyyxvGS",
        "outputId": "1eb59809-aed0-489f-ce22-245c21f716a5"
      },
      "outputs": [
        {
          "name": "stdout",
          "output_type": "stream",
          "text": [
            "Collecting bertopic\n",
            "  Downloading bertopic-0.17.0-py3-none-any.whl.metadata (23 kB)\n",
            "Requirement already satisfied: hdbscan>=0.8.29 in /usr/local/lib/python3.11/dist-packages (from bertopic) (0.8.40)\n",
            "Requirement already satisfied: numpy>=1.20.0 in /usr/local/lib/python3.11/dist-packages (from bertopic) (1.26.4)\n",
            "Requirement already satisfied: pandas>=1.1.5 in /usr/local/lib/python3.11/dist-packages (from bertopic) (2.2.2)\n",
            "Requirement already satisfied: plotly>=4.7.0 in /usr/local/lib/python3.11/dist-packages (from bertopic) (5.24.1)\n",
            "Requirement already satisfied: scikit-learn>=1.0 in /usr/local/lib/python3.11/dist-packages (from bertopic) (1.6.1)\n",
            "Requirement already satisfied: sentence-transformers>=0.4.1 in /usr/local/lib/python3.11/dist-packages (from bertopic) (4.1.0)\n",
            "Requirement already satisfied: tqdm>=4.41.1 in /usr/local/lib/python3.11/dist-packages (from bertopic) (4.67.1)\n",
            "Requirement already satisfied: umap-learn>=0.5.0 in /usr/local/lib/python3.11/dist-packages (from bertopic) (0.5.7)\n",
            "Requirement already satisfied: scipy>=1.0 in /usr/local/lib/python3.11/dist-packages (from hdbscan>=0.8.29->bertopic) (1.13.1)\n",
            "Requirement already satisfied: joblib>=1.0 in /usr/local/lib/python3.11/dist-packages (from hdbscan>=0.8.29->bertopic) (1.5.1)\n",
            "Requirement already satisfied: python-dateutil>=2.8.2 in /usr/local/lib/python3.11/dist-packages (from pandas>=1.1.5->bertopic) (2.9.0.post0)\n",
            "Requirement already satisfied: pytz>=2020.1 in /usr/local/lib/python3.11/dist-packages (from pandas>=1.1.5->bertopic) (2025.2)\n",
            "Requirement already satisfied: tzdata>=2022.7 in /usr/local/lib/python3.11/dist-packages (from pandas>=1.1.5->bertopic) (2025.2)\n",
            "Requirement already satisfied: tenacity>=6.2.0 in /usr/local/lib/python3.11/dist-packages (from plotly>=4.7.0->bertopic) (8.5.0)\n",
            "Requirement already satisfied: packaging in /usr/local/lib/python3.11/dist-packages (from plotly>=4.7.0->bertopic) (24.2)\n",
            "Requirement already satisfied: threadpoolctl>=3.1.0 in /usr/local/lib/python3.11/dist-packages (from scikit-learn>=1.0->bertopic) (3.6.0)\n",
            "Requirement already satisfied: transformers<5.0.0,>=4.41.0 in /usr/local/lib/python3.11/dist-packages (from sentence-transformers>=0.4.1->bertopic) (4.52.4)\n",
            "Requirement already satisfied: torch>=1.11.0 in /usr/local/lib/python3.11/dist-packages (from sentence-transformers>=0.4.1->bertopic) (2.6.0+cu124)\n",
            "Requirement already satisfied: huggingface-hub>=0.20.0 in /usr/local/lib/python3.11/dist-packages (from sentence-transformers>=0.4.1->bertopic) (0.33.0)\n",
            "Requirement already satisfied: Pillow in /usr/local/lib/python3.11/dist-packages (from sentence-transformers>=0.4.1->bertopic) (11.2.1)\n",
            "Requirement already satisfied: typing_extensions>=4.5.0 in /usr/local/lib/python3.11/dist-packages (from sentence-transformers>=0.4.1->bertopic) (4.14.0)\n",
            "Requirement already satisfied: numba>=0.51.2 in /usr/local/lib/python3.11/dist-packages (from umap-learn>=0.5.0->bertopic) (0.60.0)\n",
            "Requirement already satisfied: pynndescent>=0.5 in /usr/local/lib/python3.11/dist-packages (from umap-learn>=0.5.0->bertopic) (0.5.13)\n",
            "Requirement already satisfied: filelock in /usr/local/lib/python3.11/dist-packages (from huggingface-hub>=0.20.0->sentence-transformers>=0.4.1->bertopic) (3.18.0)\n",
            "Requirement already satisfied: fsspec>=2023.5.0 in /usr/local/lib/python3.11/dist-packages (from huggingface-hub>=0.20.0->sentence-transformers>=0.4.1->bertopic) (2025.3.2)\n",
            "Requirement already satisfied: pyyaml>=5.1 in /usr/local/lib/python3.11/dist-packages (from huggingface-hub>=0.20.0->sentence-transformers>=0.4.1->bertopic) (6.0.2)\n",
            "Requirement already satisfied: requests in /usr/local/lib/python3.11/dist-packages (from huggingface-hub>=0.20.0->sentence-transformers>=0.4.1->bertopic) (2.32.3)\n",
            "Requirement already satisfied: hf-xet<2.0.0,>=1.1.2 in /usr/local/lib/python3.11/dist-packages (from huggingface-hub>=0.20.0->sentence-transformers>=0.4.1->bertopic) (1.1.5)\n",
            "Requirement already satisfied: llvmlite<0.44,>=0.43.0dev0 in /usr/local/lib/python3.11/dist-packages (from numba>=0.51.2->umap-learn>=0.5.0->bertopic) (0.43.0)\n",
            "Requirement already satisfied: six>=1.5 in /usr/local/lib/python3.11/dist-packages (from python-dateutil>=2.8.2->pandas>=1.1.5->bertopic) (1.17.0)\n",
            "Requirement already satisfied: networkx in /usr/local/lib/python3.11/dist-packages (from torch>=1.11.0->sentence-transformers>=0.4.1->bertopic) (3.5)\n",
            "Requirement already satisfied: jinja2 in /usr/local/lib/python3.11/dist-packages (from torch>=1.11.0->sentence-transformers>=0.4.1->bertopic) (3.1.6)\n",
            "Collecting nvidia-cuda-nvrtc-cu12==12.4.127 (from torch>=1.11.0->sentence-transformers>=0.4.1->bertopic)\n",
            "  Downloading nvidia_cuda_nvrtc_cu12-12.4.127-py3-none-manylinux2014_x86_64.whl.metadata (1.5 kB)\n",
            "Collecting nvidia-cuda-runtime-cu12==12.4.127 (from torch>=1.11.0->sentence-transformers>=0.4.1->bertopic)\n",
            "  Downloading nvidia_cuda_runtime_cu12-12.4.127-py3-none-manylinux2014_x86_64.whl.metadata (1.5 kB)\n",
            "Collecting nvidia-cuda-cupti-cu12==12.4.127 (from torch>=1.11.0->sentence-transformers>=0.4.1->bertopic)\n",
            "  Downloading nvidia_cuda_cupti_cu12-12.4.127-py3-none-manylinux2014_x86_64.whl.metadata (1.6 kB)\n",
            "Collecting nvidia-cudnn-cu12==9.1.0.70 (from torch>=1.11.0->sentence-transformers>=0.4.1->bertopic)\n",
            "  Downloading nvidia_cudnn_cu12-9.1.0.70-py3-none-manylinux2014_x86_64.whl.metadata (1.6 kB)\n",
            "Collecting nvidia-cublas-cu12==12.4.5.8 (from torch>=1.11.0->sentence-transformers>=0.4.1->bertopic)\n",
            "  Downloading nvidia_cublas_cu12-12.4.5.8-py3-none-manylinux2014_x86_64.whl.metadata (1.5 kB)\n",
            "Collecting nvidia-cufft-cu12==11.2.1.3 (from torch>=1.11.0->sentence-transformers>=0.4.1->bertopic)\n",
            "  Downloading nvidia_cufft_cu12-11.2.1.3-py3-none-manylinux2014_x86_64.whl.metadata (1.5 kB)\n",
            "Collecting nvidia-curand-cu12==10.3.5.147 (from torch>=1.11.0->sentence-transformers>=0.4.1->bertopic)\n",
            "  Downloading nvidia_curand_cu12-10.3.5.147-py3-none-manylinux2014_x86_64.whl.metadata (1.5 kB)\n",
            "Collecting nvidia-cusolver-cu12==11.6.1.9 (from torch>=1.11.0->sentence-transformers>=0.4.1->bertopic)\n",
            "  Downloading nvidia_cusolver_cu12-11.6.1.9-py3-none-manylinux2014_x86_64.whl.metadata (1.6 kB)\n",
            "Collecting nvidia-cusparse-cu12==12.3.1.170 (from torch>=1.11.0->sentence-transformers>=0.4.1->bertopic)\n",
            "  Downloading nvidia_cusparse_cu12-12.3.1.170-py3-none-manylinux2014_x86_64.whl.metadata (1.6 kB)\n",
            "Requirement already satisfied: nvidia-cusparselt-cu12==0.6.2 in /usr/local/lib/python3.11/dist-packages (from torch>=1.11.0->sentence-transformers>=0.4.1->bertopic) (0.6.2)\n",
            "Requirement already satisfied: nvidia-nccl-cu12==2.21.5 in /usr/local/lib/python3.11/dist-packages (from torch>=1.11.0->sentence-transformers>=0.4.1->bertopic) (2.21.5)\n",
            "Requirement already satisfied: nvidia-nvtx-cu12==12.4.127 in /usr/local/lib/python3.11/dist-packages (from torch>=1.11.0->sentence-transformers>=0.4.1->bertopic) (12.4.127)\n",
            "Collecting nvidia-nvjitlink-cu12==12.4.127 (from torch>=1.11.0->sentence-transformers>=0.4.1->bertopic)\n",
            "  Downloading nvidia_nvjitlink_cu12-12.4.127-py3-none-manylinux2014_x86_64.whl.metadata (1.5 kB)\n",
            "Requirement already satisfied: triton==3.2.0 in /usr/local/lib/python3.11/dist-packages (from torch>=1.11.0->sentence-transformers>=0.4.1->bertopic) (3.2.0)\n",
            "Requirement already satisfied: sympy==1.13.1 in /usr/local/lib/python3.11/dist-packages (from torch>=1.11.0->sentence-transformers>=0.4.1->bertopic) (1.13.1)\n",
            "Requirement already satisfied: mpmath<1.4,>=1.1.0 in /usr/local/lib/python3.11/dist-packages (from sympy==1.13.1->torch>=1.11.0->sentence-transformers>=0.4.1->bertopic) (1.3.0)\n",
            "Requirement already satisfied: regex!=2019.12.17 in /usr/local/lib/python3.11/dist-packages (from transformers<5.0.0,>=4.41.0->sentence-transformers>=0.4.1->bertopic) (2024.11.6)\n",
            "Requirement already satisfied: tokenizers<0.22,>=0.21 in /usr/local/lib/python3.11/dist-packages (from transformers<5.0.0,>=4.41.0->sentence-transformers>=0.4.1->bertopic) (0.21.1)\n",
            "Requirement already satisfied: safetensors>=0.4.3 in /usr/local/lib/python3.11/dist-packages (from transformers<5.0.0,>=4.41.0->sentence-transformers>=0.4.1->bertopic) (0.5.3)\n",
            "Requirement already satisfied: MarkupSafe>=2.0 in /usr/local/lib/python3.11/dist-packages (from jinja2->torch>=1.11.0->sentence-transformers>=0.4.1->bertopic) (3.0.2)\n",
            "Requirement already satisfied: charset-normalizer<4,>=2 in /usr/local/lib/python3.11/dist-packages (from requests->huggingface-hub>=0.20.0->sentence-transformers>=0.4.1->bertopic) (3.4.2)\n",
            "Requirement already satisfied: idna<4,>=2.5 in /usr/local/lib/python3.11/dist-packages (from requests->huggingface-hub>=0.20.0->sentence-transformers>=0.4.1->bertopic) (3.10)\n",
            "Requirement already satisfied: urllib3<3,>=1.21.1 in /usr/local/lib/python3.11/dist-packages (from requests->huggingface-hub>=0.20.0->sentence-transformers>=0.4.1->bertopic) (2.4.0)\n",
            "Requirement already satisfied: certifi>=2017.4.17 in /usr/local/lib/python3.11/dist-packages (from requests->huggingface-hub>=0.20.0->sentence-transformers>=0.4.1->bertopic) (2025.6.15)\n",
            "Downloading bertopic-0.17.0-py3-none-any.whl (150 kB)\n",
            "\u001b[2K   \u001b[90m━━━━━━━━━━━━━━━━━━━━━━━━━━━━━━━━━━━━━━━━\u001b[0m \u001b[32m150.6/150.6 kB\u001b[0m \u001b[31m9.2 MB/s\u001b[0m eta \u001b[36m0:00:00\u001b[0m\n",
            "\u001b[?25hDownloading nvidia_cublas_cu12-12.4.5.8-py3-none-manylinux2014_x86_64.whl (363.4 MB)\n",
            "\u001b[2K   \u001b[90m━━━━━━━━━━━━━━━━━━━━━━━━━━━━━━━━━━━━━━━━\u001b[0m \u001b[32m363.4/363.4 MB\u001b[0m \u001b[31m1.9 MB/s\u001b[0m eta \u001b[36m0:00:00\u001b[0m\n",
            "\u001b[?25hDownloading nvidia_cuda_cupti_cu12-12.4.127-py3-none-manylinux2014_x86_64.whl (13.8 MB)\n",
            "\u001b[2K   \u001b[90m━━━━━━━━━━━━━━━━━━━━━━━━━━━━━━━━━━━━━━━━\u001b[0m \u001b[32m13.8/13.8 MB\u001b[0m \u001b[31m99.7 MB/s\u001b[0m eta \u001b[36m0:00:00\u001b[0m\n",
            "\u001b[?25hDownloading nvidia_cuda_nvrtc_cu12-12.4.127-py3-none-manylinux2014_x86_64.whl (24.6 MB)\n",
            "\u001b[2K   \u001b[90m━━━━━━━━━━━━━━━━━━━━━━━━━━━━━━━━━━━━━━━━\u001b[0m \u001b[32m24.6/24.6 MB\u001b[0m \u001b[31m26.7 MB/s\u001b[0m eta \u001b[36m0:00:00\u001b[0m\n",
            "\u001b[?25hDownloading nvidia_cuda_runtime_cu12-12.4.127-py3-none-manylinux2014_x86_64.whl (883 kB)\n",
            "\u001b[2K   \u001b[90m━━━━━━━━━━━━━━━━━━━━━━━━━━━━━━━━━━━━━━━━\u001b[0m \u001b[32m883.7/883.7 kB\u001b[0m \u001b[31m56.0 MB/s\u001b[0m eta \u001b[36m0:00:00\u001b[0m\n",
            "\u001b[?25hDownloading nvidia_cudnn_cu12-9.1.0.70-py3-none-manylinux2014_x86_64.whl (664.8 MB)\n",
            "\u001b[2K   \u001b[90m━━━━━━━━━━━━━━━━━━━━━━━━━━━━━━━━━━━━━━━━\u001b[0m \u001b[32m664.8/664.8 MB\u001b[0m \u001b[31m1.4 MB/s\u001b[0m eta \u001b[36m0:00:00\u001b[0m\n",
            "\u001b[?25hDownloading nvidia_cufft_cu12-11.2.1.3-py3-none-manylinux2014_x86_64.whl (211.5 MB)\n",
            "\u001b[2K   \u001b[90m━━━━━━━━━━━━━━━━━━━━━━━━━━━━━━━━━━━━━━━━\u001b[0m \u001b[32m211.5/211.5 MB\u001b[0m \u001b[31m7.3 MB/s\u001b[0m eta \u001b[36m0:00:00\u001b[0m\n",
            "\u001b[?25hDownloading nvidia_curand_cu12-10.3.5.147-py3-none-manylinux2014_x86_64.whl (56.3 MB)\n",
            "\u001b[2K   \u001b[90m━━━━━━━━━━━━━━━━━━━━━━━━━━━━━━━━━━━━━━━━\u001b[0m \u001b[32m56.3/56.3 MB\u001b[0m \u001b[31m17.7 MB/s\u001b[0m eta \u001b[36m0:00:00\u001b[0m\n",
            "\u001b[?25hDownloading nvidia_cusolver_cu12-11.6.1.9-py3-none-manylinux2014_x86_64.whl (127.9 MB)\n",
            "\u001b[2K   \u001b[90m━━━━━━━━━━━━━━━━━━━━━━━━━━━━━━━━━━━━━━━━\u001b[0m \u001b[32m127.9/127.9 MB\u001b[0m \u001b[31m10.7 MB/s\u001b[0m eta \u001b[36m0:00:00\u001b[0m\n",
            "\u001b[?25hDownloading nvidia_cusparse_cu12-12.3.1.170-py3-none-manylinux2014_x86_64.whl (207.5 MB)\n",
            "\u001b[2K   \u001b[90m━━━━━━━━━━━━━━━━━━━━━━━━━━━━━━━━━━━━━━━━\u001b[0m \u001b[32m207.5/207.5 MB\u001b[0m \u001b[31m2.1 MB/s\u001b[0m eta \u001b[36m0:00:00\u001b[0m\n",
            "\u001b[?25hDownloading nvidia_nvjitlink_cu12-12.4.127-py3-none-manylinux2014_x86_64.whl (21.1 MB)\n",
            "\u001b[2K   \u001b[90m━━━━━━━━━━━━━━━━━━━━━━━━━━━━━━━━━━━━━━━━\u001b[0m \u001b[32m21.1/21.1 MB\u001b[0m \u001b[31m32.9 MB/s\u001b[0m eta \u001b[36m0:00:00\u001b[0m\n",
            "\u001b[?25hInstalling collected packages: nvidia-nvjitlink-cu12, nvidia-curand-cu12, nvidia-cufft-cu12, nvidia-cuda-runtime-cu12, nvidia-cuda-nvrtc-cu12, nvidia-cuda-cupti-cu12, nvidia-cublas-cu12, nvidia-cusparse-cu12, nvidia-cudnn-cu12, nvidia-cusolver-cu12, bertopic\n",
            "  Attempting uninstall: nvidia-nvjitlink-cu12\n",
            "    Found existing installation: nvidia-nvjitlink-cu12 12.5.82\n",
            "    Uninstalling nvidia-nvjitlink-cu12-12.5.82:\n",
            "      Successfully uninstalled nvidia-nvjitlink-cu12-12.5.82\n",
            "  Attempting uninstall: nvidia-curand-cu12\n",
            "    Found existing installation: nvidia-curand-cu12 10.3.6.82\n",
            "    Uninstalling nvidia-curand-cu12-10.3.6.82:\n",
            "      Successfully uninstalled nvidia-curand-cu12-10.3.6.82\n",
            "  Attempting uninstall: nvidia-cufft-cu12\n",
            "    Found existing installation: nvidia-cufft-cu12 11.2.3.61\n",
            "    Uninstalling nvidia-cufft-cu12-11.2.3.61:\n",
            "      Successfully uninstalled nvidia-cufft-cu12-11.2.3.61\n",
            "  Attempting uninstall: nvidia-cuda-runtime-cu12\n",
            "    Found existing installation: nvidia-cuda-runtime-cu12 12.5.82\n",
            "    Uninstalling nvidia-cuda-runtime-cu12-12.5.82:\n",
            "      Successfully uninstalled nvidia-cuda-runtime-cu12-12.5.82\n",
            "  Attempting uninstall: nvidia-cuda-nvrtc-cu12\n",
            "    Found existing installation: nvidia-cuda-nvrtc-cu12 12.5.82\n",
            "    Uninstalling nvidia-cuda-nvrtc-cu12-12.5.82:\n",
            "      Successfully uninstalled nvidia-cuda-nvrtc-cu12-12.5.82\n",
            "  Attempting uninstall: nvidia-cuda-cupti-cu12\n",
            "    Found existing installation: nvidia-cuda-cupti-cu12 12.5.82\n",
            "    Uninstalling nvidia-cuda-cupti-cu12-12.5.82:\n",
            "      Successfully uninstalled nvidia-cuda-cupti-cu12-12.5.82\n",
            "  Attempting uninstall: nvidia-cublas-cu12\n",
            "    Found existing installation: nvidia-cublas-cu12 12.5.3.2\n",
            "    Uninstalling nvidia-cublas-cu12-12.5.3.2:\n",
            "      Successfully uninstalled nvidia-cublas-cu12-12.5.3.2\n",
            "  Attempting uninstall: nvidia-cusparse-cu12\n",
            "    Found existing installation: nvidia-cusparse-cu12 12.5.1.3\n",
            "    Uninstalling nvidia-cusparse-cu12-12.5.1.3:\n",
            "      Successfully uninstalled nvidia-cusparse-cu12-12.5.1.3\n",
            "  Attempting uninstall: nvidia-cudnn-cu12\n",
            "    Found existing installation: nvidia-cudnn-cu12 9.3.0.75\n",
            "    Uninstalling nvidia-cudnn-cu12-9.3.0.75:\n",
            "      Successfully uninstalled nvidia-cudnn-cu12-9.3.0.75\n",
            "  Attempting uninstall: nvidia-cusolver-cu12\n",
            "    Found existing installation: nvidia-cusolver-cu12 11.6.3.83\n",
            "    Uninstalling nvidia-cusolver-cu12-11.6.3.83:\n",
            "      Successfully uninstalled nvidia-cusolver-cu12-11.6.3.83\n",
            "Successfully installed bertopic-0.17.0 nvidia-cublas-cu12-12.4.5.8 nvidia-cuda-cupti-cu12-12.4.127 nvidia-cuda-nvrtc-cu12-12.4.127 nvidia-cuda-runtime-cu12-12.4.127 nvidia-cudnn-cu12-9.1.0.70 nvidia-cufft-cu12-11.2.1.3 nvidia-curand-cu12-10.3.5.147 nvidia-cusolver-cu12-11.6.1.9 nvidia-cusparse-cu12-12.3.1.170 nvidia-nvjitlink-cu12-12.4.127\n"
          ]
        }
      ],
      "source": [
        "!pip install bertopic"
      ]
    },
    {
      "cell_type": "code",
      "execution_count": null,
      "metadata": {
        "colab": {
          "base_uri": "https://localhost:8080/"
        },
        "id": "C9rnYKyYx2p9",
        "outputId": "fae7f04b-5423-4168-8d62-eaa116eecff0"
      },
      "outputs": [
        {
          "name": "stdout",
          "output_type": "stream",
          "text": [
            "GPU terdeteksi!\n",
            "Nama GPU: Tesla T4\n"
          ]
        }
      ],
      "source": [
        "import torch\n",
        "\n",
        "# Menggunakan GPU T4 dari google colab\n",
        "if torch.cuda.is_available():\n",
        "    print(\"GPU terdeteksi!\")\n",
        "    print(f\"Nama GPU: {torch.cuda.get_device_name(0)}\")\n",
        "    device = \"cuda\"\n",
        "else:\n",
        "    # Jika tidak, beri peringatan\n",
        "    print(\"GPU tidak ditemukan.\")\n",
        "    device = \"cpu\""
      ]
    },
    {
      "cell_type": "markdown",
      "metadata": {},
      "source": [
        "** Catatan **\n",
        "\n",
        "Output dari sel training di bawah (progress bar) sengaja dihapus untuk agar file notebook dapat ditampilkan dengan benar pada GitHub. Proses training model berhasil."
      ]
    },
    {
      "cell_type": "code",
      "execution_count": null,
      "metadata": {
        "id": "phw6VzQFxsPz"
      },
      "outputs": [],
      "source": [
        "\"\"\"Kode dibawah adalah kode untuk melakukan pemodelan dengan BERTopic.\"\"\"\n",
        "\n",
        "from bertopic import BERTopic\n",
        "from sentence_transformers import SentenceTransformer\n",
        "import pandas as pd\n",
        "\n",
        "# Pada tugas ini, model embedding yang digunakan adlaah \"all-MiniLM-L6-v2\"\n",
        "embedding_model_name = \"all-MiniLM-L6-v2\"\n",
        "\n",
        "# Memuat model ke GPU dengan SentenceTransformer\n",
        "embedding_model = SentenceTransformer(embedding_model_name, device=device)\n",
        "\n",
        "print(f\"Embedding model '{embedding_model_name}' siap digunakan di {device}.\")\n",
        "\n",
        "# Inisiasi BERTopic\n",
        "topic_model = BERTopic(\n",
        "    embedding_model=embedding_model,\n",
        "    language=\"english\",\n",
        "    calculate_probabilities=True,\n",
        "    verbose=True, #\n",
        "    min_topic_size=50\n",
        ")\n",
        "\n",
        "# Mempersiapkan dokumen dari kolom 'text'\n",
        "docs_for_bertopic = df['text'].tolist()\n",
        "\n",
        "# Training model BERTopic\n",
        "topics, probs = topic_model.fit_transform(docs_for_bertopic)"
      ]
    },
    {
      "cell_type": "code",
      "execution_count": null,
      "metadata": {
        "colab": {
          "base_uri": "https://localhost:8080/"
        },
        "id": "mTo5ulogyuZi",
        "outputId": "fbc1a2d1-de97-4162-e6b5-bc3dff69cff3"
      },
      "outputs": [
        {
          "name": "stdout",
          "output_type": "stream",
          "text": [
            "\n",
            "Ringkasan topik yang ditemukan oleh BERTopic:\n",
            "     Topic  Count                                               Name  \\\n",
            "0       -1  19966                                   -1_of_the_and_to   \n",
            "1        0   7992                                   0_the_of_mass_in   \n",
            "2        1   1218                             1_3d_pose_object_point   \n",
            "3        2    960                                2_flow_the_of_fluid   \n",
            "4        3    822                        3_channel_ris_wireless_mimo   \n",
            "..     ...    ...                                                ...   \n",
            "102    101     54  101_synchronization_oscillators_kuramoto_coupling   \n",
            "103    102     53                102_domain_adaptation_target_source   \n",
            "104    103     53     103_attention_transformers_transformer_pruning   \n",
            "105    104     52              104_reaction_enzyme_chemical_networks   \n",
            "106    105     51                 105_demand_routing_vehicle_problem   \n",
            "\n",
            "                                        Representation  \\\n",
            "0        [of, the, and, to, in, for, we, is, that, on]   \n",
            "1     [the, of, mass, in, and, at, with, we, from, to]   \n",
            "2    [3d, pose, object, point, depth, view, camera,...   \n",
            "3    [flow, the, of, fluid, in, liquid, and, dynami...   \n",
            "4    [channel, ris, wireless, mimo, communication, ...   \n",
            "..                                                 ...   \n",
            "102  [synchronization, oscillators, kuramoto, coupl...   \n",
            "103  [domain, adaptation, target, source, unsupervi...   \n",
            "104  [attention, transformers, transformer, pruning...   \n",
            "105  [reaction, enzyme, chemical, networks, biochem...   \n",
            "106  [demand, routing, vehicle, problem, delivery, ...   \n",
            "\n",
            "                                   Representative_Docs  \n",
            "0    [UNIPoint: Universally Approximating Point Pro...  \n",
            "1    [From Bubbles and Filaments to Cores and Disks...  \n",
            "2    [DGS-LRM: Real-Time Deformable 3D Gaussian Rec...  \n",
            "3    [Shear thickening in suspensions of particles ...  \n",
            "4    [Fairness-Driven Optimization of RIS-Augmented...  \n",
            "..                                                 ...  \n",
            "102  [Dynamics of oscillator populations with disor...  \n",
            "103  [Foreground Object Structure Transfer for Unsu...  \n",
            "104  [LASER: Attention with Exponential Transformat...  \n",
            "105  [A Compositional Framework for Reaction Networ...  \n",
            "106  [Congestion-aware Ride-pooling in Mixed Traffi...  \n",
            "\n",
            "[107 rows x 5 columns]\n"
          ]
        }
      ],
      "source": [
        "# Menampilkan hasil BERTopic\n",
        "print(\"\\nRingkasan topik yang ditemukan oleh BERTopic:\")\n",
        "print(topic_model.get_topic_info())"
      ]
    },
    {
      "cell_type": "markdown",
      "metadata": {
        "id": "cTbsp_jz6Wtr"
      },
      "source": [
        "# Evaluasi"
      ]
    },
    {
      "cell_type": "code",
      "execution_count": null,
      "metadata": {
        "colab": {
          "base_uri": "https://localhost:8080/",
          "height": 767
        },
        "id": "mHtBnEGv6Ylg",
        "outputId": "d48685ff-e410-4b31-eb88-375685411e12"
      },
      "outputs": [
        {
          "name": "stdout",
          "output_type": "stream",
          "text": [
            "Memulai perhitungan Coherence Score\n",
            "Selesai menghitung untuk 5 topik.\n",
            "Selesai menghitung untuk 10 topik.\n",
            "Selesai menghitung untuk 15 topik.\n",
            "Selesai menghitung untuk 20 topik.\n",
            "Selesai menghitung untuk 25 topik.\n",
            "Selesai menghitung untuk 30 topik.\n",
            "Selesai menghitung untuk 35 topik.\n",
            "Selesai menghitung untuk 40 topik.\n"
          ]
        },
        {
          "data": {
            "image/png": "[encoded data removed]",
            "text/plain": [
              "<Figure size 1000x600 with 1 Axes>"
            ]
          },
          "metadata": {},
          "output_type": "display_data"
        },
        {
          "name": "stdout",
          "output_type": "stream",
          "text": [
            "\n",
            "Jumlah topik optimal untuk LDA adalah: 30 dengan Coherence Score 0.5216\n"
          ]
        }
      ],
      "source": [
        "from gensim.models import CoherenceModel\n",
        "import matplotlib.pyplot as plt\n",
        "\n",
        "def compute_coherence_values(dictionary, corpus, texts, limit, start=2, step=3):\n",
        "    #Menghitung skor koherensi untuk berbagai jumlah topik.\n",
        "    coherence_values = []\n",
        "    model_list = []\n",
        "    for num_topics in range(start, limit, step):\n",
        "        model = LdaModel(corpus=corpus, num_topics=num_topics, id2word=dictionary, random_state=42, passes=5)\n",
        "        model_list.append(model)\n",
        "        coherencemodel = CoherenceModel(model=model, texts=texts, dictionary=dictionary, coherence='c_v')\n",
        "        coherence_values.append(coherencemodel.get_coherence())\n",
        "        print(f\"Selesai menghitung untuk {num_topics} topik.\")\n",
        "    return model_list, coherence_values\n",
        "\n",
        "# Menentukan rentang jumlah topik yang ingin diuji\n",
        "# Uji dari 5 sampai 40 topik, dengan loncatan 5\n",
        "start=5; limit=41; step=5;\n",
        "\n",
        "print(\"Memulai perhitungan Coherence Score\")\n",
        "model_list_lda, coherence_values_lda = compute_coherence_values(\n",
        "    dictionary=dictionary,\n",
        "    corpus=corpus,\n",
        "    texts=documents,\n",
        "    start=start,\n",
        "    limit=limit,\n",
        "    step=step\n",
        ")\n",
        "\n",
        "# Visualisasi hasil\n",
        "x = range(start, limit, step)\n",
        "plt.figure(figsize=(10, 6))\n",
        "plt.plot(x, coherence_values_lda)\n",
        "plt.xlabel(\"Jumlah Topik\")\n",
        "plt.ylabel(\"Coherence score (c_v)\")\n",
        "plt.title(\"Coherence Score LDA vs. Jumlah Topik\")\n",
        "plt.xticks(x)\n",
        "plt.grid(True)\n",
        "plt.show()\n",
        "\n",
        "# Mencari skor teritnggi\n",
        "optimal_idx = coherence_values_lda.index(max(coherence_values_lda))\n",
        "optimal_num_topics_lda = x[optimal_idx]\n",
        "print(f\"\\nJumlah topik optimal untuk LDA adalah: {optimal_num_topics_lda} dengan Coherence Score {max(coherence_values_lda):.4f}\")"
      ]
    },
    {
      "cell_type": "code",
      "execution_count": null,
      "metadata": {
        "colab": {
          "base_uri": "https://localhost:8080/"
        },
        "id": "NiGx_R6Q-F6y",
        "outputId": "0a0b4dea-cf55-4601-9c68-9a05526414d5"
      },
      "outputs": [
        {
          "name": "stdout",
          "output_type": "stream",
          "text": [
            "Ringkasan topik dari BERTopic:\n",
            "     Topic  Count                                               Name  \\\n",
            "0       -1  19966                                   -1_of_the_and_to   \n",
            "1        0   7992                                   0_the_of_mass_in   \n",
            "2        1   1218                             1_3d_pose_object_point   \n",
            "3        2    960                                2_flow_the_of_fluid   \n",
            "4        3    822                        3_channel_ris_wireless_mimo   \n",
            "..     ...    ...                                                ...   \n",
            "102    101     54  101_synchronization_oscillators_kuramoto_coupling   \n",
            "103    102     53                102_domain_adaptation_target_source   \n",
            "104    103     53     103_attention_transformers_transformer_pruning   \n",
            "105    104     52              104_reaction_enzyme_chemical_networks   \n",
            "106    105     51                 105_demand_routing_vehicle_problem   \n",
            "\n",
            "                                        Representation  \\\n",
            "0        [of, the, and, to, in, for, we, is, that, on]   \n",
            "1     [the, of, mass, in, and, at, with, we, from, to]   \n",
            "2    [3d, pose, object, point, depth, view, camera,...   \n",
            "3    [flow, the, of, fluid, in, liquid, and, dynami...   \n",
            "4    [channel, ris, wireless, mimo, communication, ...   \n",
            "..                                                 ...   \n",
            "102  [synchronization, oscillators, kuramoto, coupl...   \n",
            "103  [domain, adaptation, target, source, unsupervi...   \n",
            "104  [attention, transformers, transformer, pruning...   \n",
            "105  [reaction, enzyme, chemical, networks, biochem...   \n",
            "106  [demand, routing, vehicle, problem, delivery, ...   \n",
            "\n",
            "                                   Representative_Docs  \n",
            "0    [UNIPoint: Universally Approximating Point Pro...  \n",
            "1    [From Bubbles and Filaments to Cores and Disks...  \n",
            "2    [DGS-LRM: Real-Time Deformable 3D Gaussian Rec...  \n",
            "3    [Shear thickening in suspensions of particles ...  \n",
            "4    [Fairness-Driven Optimization of RIS-Augmented...  \n",
            "..                                                 ...  \n",
            "102  [Dynamics of oscillator populations with disor...  \n",
            "103  [Foreground Object Structure Transfer for Unsu...  \n",
            "104  [LASER: Attention with Exponential Transformat...  \n",
            "105  [A Compositional Framework for Reaction Networ...  \n",
            "106  [Congestion-aware Ride-pooling in Mixed Traffi...  \n",
            "\n",
            "[107 rows x 5 columns]\n",
            "\n",
            "BERTopic secara otomatis menemukan 106 topik (tidak termasuk topik -1/outliers).\n"
          ]
        }
      ],
      "source": [
        "print(\"Ringkasan topik dari BERTopic:\")\n",
        "topic_info = topic_model.get_topic_info()\n",
        "print(topic_info)\n",
        "\n",
        "print(f\"\\nBERTopic secara otomatis menemukan {len(topic_info) - 1} topik (tidak termasuk topik -1/outliers).\")"
      ]
    },
    {
      "cell_type": "code",
      "execution_count": null,
      "metadata": {
        "colab": {
          "base_uri": "https://localhost:8080/"
        },
        "id": "edWs5SRV4gdo",
        "outputId": "917e044c-27bd-4a9f-bcd1-f02e533bde6e"
      },
      "outputs": [
        {
          "name": "stdout",
          "output_type": "stream",
          "text": [
            "Melatih satu model LDA final dengan 20 topik...\n",
            "\n",
            "Topik yang ditemukan oleh model LDA terbaik (K=20):\n",
            "(0, '0.040*\"model\" + 0.029*\"data\" + 0.022*\"method\" + 0.016*\"distribution\" + 0.012*\"prediction\" + 0.010*\"using\" + 0.010*\"approach\" + 0.009*\"learning\" + 0.009*\"estimation\" + 0.008*\"uncertainty\"')\n",
            "(1, '0.017*\"system\" + 0.017*\"control\" + 0.015*\"learning\" + 0.015*\"user\" + 0.014*\"environment\" + 0.013*\"agent\" + 0.012*\"policy\" + 0.009*\"robot\" + 0.008*\"reinforcement\" + 0.008*\"framework\"')\n",
            "(2, '0.022*\"phase\" + 0.022*\"field\" + 0.021*\"magnetic\" + 0.016*\"transition\" + 0.014*\"spin\" + 0.013*\"state\" + 0.011*\"symmetry\" + 0.010*\"topological\" + 0.009*\"lattice\" + 0.009*\"model\"')\n",
            "(3, '0.018*\"space\" + 0.016*\"group\" + 0.010*\"result\" + 0.009*\"function\" + 0.009*\"show\" + 0.009*\"algebra\" + 0.009*\"prove\" + 0.008*\"class\" + 0.007*\"theorem\" + 0.007*\"also\"')\n",
            "(4, '0.039*\"problem\" + 0.032*\"algorithm\" + 0.014*\"method\" + 0.013*\"optimization\" + 0.013*\"optimal\" + 0.011*\"bound\" + 0.011*\"function\" + 0.009*\"show\" + 0.008*\"matrix\" + 0.008*\"time\"')\n",
            "(5, '0.013*\"optical\" + 0.012*\"frequency\" + 0.010*\"mode\" + 0.009*\"electron\" + 0.008*\"beam\" + 0.008*\"material\" + 0.008*\"wave\" + 0.007*\"application\" + 0.007*\"using\" + 0.007*\"laser\"')\n",
            "(6, '0.132*\"graph\" + 0.029*\"number\" + 0.024*\"vertex\" + 0.024*\"random\" + 0.024*\"edge\" + 0.023*\"tree\" + 0.021*\"node\" + 0.019*\"set\" + 0.018*\"path\" + 0.012*\"index\"')\n",
            "(7, '0.021*\"hole\" + 0.020*\"black\" + 0.018*\"dark\" + 0.017*\"matter\" + 0.013*\"gravitational\" + 0.012*\"detector\" + 0.010*\"event\" + 0.009*\"signal\" + 0.009*\"wave\" + 0.009*\"gravity\"')\n",
            "(8, '0.113*\"quantum\" + 0.057*\"state\" + 0.037*\"system\" + 0.013*\"entanglement\" + 0.012*\"circuit\" + 0.012*\"entropy\" + 0.011*\"classical\" + 0.009*\"measurement\" + 0.009*\"gate\" + 0.009*\"dynamic\"')\n",
            "(9, '0.035*\"image\" + 0.021*\"method\" + 0.016*\"feature\" + 0.013*\"object\" + 0.011*\"detection\" + 0.011*\"network\" + 0.009*\"video\" + 0.009*\"segmentation\" + 0.007*\"deep\" + 0.007*\"propose\"')\n",
            "(10, '0.011*\"study\" + 0.007*\"information\" + 0.007*\"social\" + 0.007*\"understanding\" + 0.007*\"different\" + 0.006*\"one\" + 0.006*\"analysis\" + 0.006*\"question\" + 0.006*\"work\" + 0.006*\"concept\"')\n",
            "(11, '0.035*\"surface\" + 0.018*\"system\" + 0.017*\"motion\" + 0.014*\"dynamic\" + 0.013*\"sensor\" + 0.012*\"force\" + 0.012*\"simulation\" + 0.012*\"active\" + 0.011*\"flow\" + 0.010*\"sensing\"')\n",
            "(12, '0.041*\"model\" + 0.016*\"task\" + 0.015*\"learning\" + 0.013*\"language\" + 0.011*\"data\" + 0.010*\"training\" + 0.010*\"performance\" + 0.010*\"method\" + 0.008*\"llm\" + 0.007*\"datasets\"')\n",
            "(13, '0.042*\"network\" + 0.018*\"neural\" + 0.014*\"performance\" + 0.011*\"system\" + 0.010*\"communication\" + 0.009*\"proposed\" + 0.007*\"learning\" + 0.007*\"deep\" + 0.007*\"architecture\" + 0.007*\"memory\"')\n",
            "(14, '0.035*\"equation\" + 0.024*\"solution\" + 0.015*\"system\" + 0.013*\"boundary\" + 0.013*\"theory\" + 0.011*\"condition\" + 0.011*\"method\" + 0.011*\"function\" + 0.010*\"nonlinear\" + 0.010*\"field\"')\n",
            "(15, '0.025*\"model\" + 0.022*\"particle\" + 0.018*\"energy\" + 0.010*\"decay\" + 0.010*\"mass\" + 0.009*\"process\" + 0.009*\"flow\" + 0.009*\"result\" + 0.007*\"neutrino\" + 0.007*\"collision\"')\n",
            "(16, '0.021*\"star\" + 0.019*\"galaxy\" + 0.012*\"mass\" + 0.010*\"emission\" + 0.009*\"observation\" + 0.009*\"stellar\" + 0.009*\"cluster\" + 0.008*\"line\" + 0.008*\"gas\" + 0.007*\"disk\"')\n",
            "(17, '0.020*\"data\" + 0.014*\"system\" + 0.013*\"research\" + 0.011*\"code\" + 0.011*\"application\" + 0.010*\"analysis\" + 0.009*\"paper\" + 0.008*\"challenge\" + 0.007*\"study\" + 0.007*\"tool\"')\n",
            "(18, '0.013*\"study\" + 0.012*\"effect\" + 0.011*\"change\" + 0.011*\"temperature\" + 0.011*\"cell\" + 0.010*\"material\" + 0.008*\"layer\" + 0.008*\"pressure\" + 0.008*\"using\" + 0.008*\"result\"')\n",
            "(19, '0.028*\"molecular\" + 0.019*\"nuclear\" + 0.018*\"region\" + 0.017*\"molecule\" + 0.016*\"chemical\" + 0.016*\"structure\" + 0.015*\"reaction\" + 0.013*\"medium\" + 0.013*\"density\" + 0.012*\"section\"')\n"
          ]
        }
      ],
      "source": [
        "# Kita gunakan jumlah topik optimal yang kita temukan dari grafik\n",
        "OPTIMAL_NUM_TOPICS = 20\n",
        "\n",
        "print(f\"Melatih satu model LDA final dengan {OPTIMAL_NUM_TOPICS} topik...\")\n",
        "\n",
        "# Latih model LDA terbaik kita dengan parameter yang sama\n",
        "best_lda_model = LdaModel(\n",
        "    corpus=corpus,\n",
        "    id2word=dictionary,\n",
        "    num_topics=OPTIMAL_NUM_TOPICS,\n",
        "    random_state=42,       # Pastikan random_state sama untuk konsistensi\n",
        "    passes=10,             # Jumlah iterasi training\n",
        "    alpha='auto',\n",
        "    eta='auto'\n",
        ")\n",
        "\n",
        "# Tampilkan 10 kata kunci teratas untuk setiap topik dari model terbaik\n",
        "print(\"\\nTopik yang ditemukan oleh model LDA terbaik (K=20):\")\n",
        "topics = best_lda_model.print_topics(num_words=10)\n",
        "for topic in topics:\n",
        "    print(topic)"
      ]
    },
    {
      "cell_type": "code",
      "execution_count": null,
      "metadata": {
        "colab": {
          "base_uri": "https://localhost:8080/"
        },
        "id": "iIDfnKle_CB7",
        "outputId": "e9877d2f-4abf-412f-8d68-9eb85ff8cd7a"
      },
      "outputs": [
        {
          "name": "stdout",
          "output_type": "stream",
          "text": [
            "    Topic  Count                                   Name  \\\n",
            "0      -1  19966                       -1_of_the_and_to   \n",
            "1       0   7992                       0_the_of_mass_in   \n",
            "2       1   1218                 1_3d_pose_object_point   \n",
            "3       2    960                    2_flow_the_of_fluid   \n",
            "4       3    822            3_channel_ris_wireless_mimo   \n",
            "5       4    755    4_segmentation_image_images_medical   \n",
            "6       5    712        5_optical_photon_quantum_cavity   \n",
            "7       6    661   6_quantum_circuits_classical_circuit   \n",
            "8       7    583           7_speech_audio_speaker_music   \n",
            "9       8    529    8_robot_robots_robotic_manipulation   \n",
            "10      9    516        9_privacy_federated_fl_learning   \n",
            "11     10    503  10_protein_molecular_learning_machine   \n",
            "12     11    468     11_equation_solutions_omega_mathbb   \n",
            "13     12    401     12_logic_semantics_automata_logics   \n",
            "14     13    362      13_numerical_method_element_order   \n",
            "\n",
            "                                       Representation  \\\n",
            "0       [of, the, and, to, in, for, we, is, that, on]   \n",
            "1    [the, of, mass, in, and, at, with, we, from, to]   \n",
            "2   [3d, pose, object, point, depth, view, camera,...   \n",
            "3   [flow, the, of, fluid, in, liquid, and, dynami...   \n",
            "4   [channel, ris, wireless, mimo, communication, ...   \n",
            "5   [segmentation, image, images, medical, imaging...   \n",
            "6   [optical, photon, quantum, cavity, light, phot...   \n",
            "7   [quantum, circuits, classical, circuit, qubits...   \n",
            "8   [speech, audio, speaker, music, asr, recogniti...   \n",
            "9   [robot, robots, robotic, manipulation, control...   \n",
            "10  [privacy, federated, fl, learning, data, clien...   \n",
            "11  [protein, molecular, learning, machine, materi...   \n",
            "12  [equation, solutions, omega, mathbb, equations...   \n",
            "13  [logic, semantics, automata, logics, programs,...   \n",
            "14  [numerical, method, element, order, equations,...   \n",
            "\n",
            "                                  Representative_Docs  \n",
            "0   [UNIPoint: Universally Approximating Point Pro...  \n",
            "1   [From Bubbles and Filaments to Cores and Disks...  \n",
            "2   [DGS-LRM: Real-Time Deformable 3D Gaussian Rec...  \n",
            "3   [Shear thickening in suspensions of particles ...  \n",
            "4   [Fairness-Driven Optimization of RIS-Augmented...  \n",
            "5   [Weakly-supervised High-resolution Segmentatio...  \n",
            "6   [Convert laser light into single photons via i...  \n",
            "7   [Learning quantum phase transition in parametr...  \n",
            "8   [Unified Speech-Text Pre-training for Speech T...  \n",
            "9   [RH20T: A Comprehensive Robotic Dataset for Le...  \n",
            "10  [A Survey on Decentralized Federated Learning ...  \n",
            "11  [Target-aware Variational Auto-encoders for Li...  \n",
            "12  [Multi-bump solutions for the nonlinear magnet...  \n",
            "13  [Logics with probabilistic team semantics and ...  \n",
            "14  [Modelling wave propagation in elastic solids ...  \n",
            "\n",
            "Detail untuk Topik 0:\n",
            "[('the', 0.01108447142096386), ('of', 0.009427126870704822), ('mass', 0.008714400953954263), ('in', 0.008100852754332201), ('and', 0.0077226798997840525), ('at', 0.007700225210107448), ('with', 0.0075667531499089965), ('we', 0.007204662705298929), ('from', 0.0069897386291974655), ('to', 0.006854949614012772)]\n",
            "\n",
            "Detail untuk Topik 2:\n",
            "[('flow', 0.014545849895221521), ('the', 0.01045134043917227), ('of', 0.009709007314946129), ('fluid', 0.009123599116524024), ('in', 0.0085828462191494), ('liquid', 0.008570531697446341), ('and', 0.008200925573689146), ('dynamics', 0.007809247129005733), ('active', 0.0074358039041530904), ('is', 0.007368257346142391)]\n"
          ]
        }
      ],
      "source": [
        "# Lihat 15 topik teratas dari BERTopic (berdasarkan jumlah dokumen)\n",
        "topic_info = topic_model.get_topic_info()\n",
        "print(topic_info.head(15))\n",
        "\n",
        "# Mari kita lihat isi dari beberapa topik teratas yang menarik\n",
        "print(\"\\nDetail untuk Topik 0:\")\n",
        "print(topic_model.get_topic(0))\n",
        "\n",
        "print(\"\\nDetail untuk Topik 2:\")\n",
        "print(topic_model.get_topic(2))"
      ]
    },
    {
      "cell_type": "code",
      "execution_count": null,
      "metadata": {
        "colab": {
          "base_uri": "https://localhost:8080/"
        },
        "id": "Iz0IAE2CDRut",
        "outputId": "e8dd7ca1-7a30-43a0-a212-b9a9dd6388d4"
      },
      "outputs": [
        {
          "name": "stdout",
          "output_type": "stream",
          "text": [
            "Memproses setiap dokumen untuk menemukan topik dominannya dari LDA...\n",
            "Selesai. Kolom 'lda_topic' berhasil ditambahkan.\n",
            "\n",
            "Contoh hasil pelabelan topik LDA:\n",
            "                                                text  lda_topic\n",
            "0  Morphological Computing as Logic Underlying Co...         10\n",
            "1  Sixteen points in $\\mathbb{P}^4$ and the inver...          3\n",
            "2  AI-based Aortic Vessel Tree Segmentation for C...          9\n",
            "3  Pathwise unique solutions and stochastic avera...         14\n",
            "4  A two-dimensional stabilized discontinuous Gal...          4\n",
            "\n",
            "Distribusi dokumen per topik LDA:\n",
            "lda_topic\n",
            "0     3110\n",
            "1     1990\n",
            "2     3015\n",
            "3     6189\n",
            "4     3200\n",
            "5     2057\n",
            "6      517\n",
            "7     1318\n",
            "8     1225\n",
            "9     3463\n",
            "10    1571\n",
            "11     336\n",
            "12    7163\n",
            "13    3217\n",
            "14    3319\n",
            "15    2248\n",
            "16    2535\n",
            "17    2608\n",
            "18     881\n",
            "19      38\n",
            "Name: count, dtype: int64\n"
          ]
        }
      ],
      "source": [
        "# Asumsi: df (50rb baris), best_lda_model (K=20), dan corpus sudah ada.\n",
        "\n",
        "def get_dominant_topic(doc_bow):\n",
        "    \"\"\"\n",
        "    Mendapatkan ID topik dengan probabilitas tertinggi untuk satu dokumen.\n",
        "    \"\"\"\n",
        "    try:\n",
        "        topic_dist = best_lda_model.get_document_topics(doc_bow, minimum_probability=0.0)\n",
        "        dominant_topic = max(topic_dist, key=lambda x: x[1])\n",
        "        return dominant_topic[0]\n",
        "    except:\n",
        "        # Jika dokumen kosong setelah preprocessing, kembalikan nilai null\n",
        "        return None\n",
        "\n",
        "# Pastikan panjang corpus dan df sesuai\n",
        "if len(corpus) == len(df):\n",
        "    print(\"Memproses setiap dokumen untuk menemukan topik dominannya dari LDA...\")\n",
        "\n",
        "    # Buat list berisi topik dominan untuk setiap dokumen\n",
        "    lda_topics = [get_dominant_topic(doc) for doc in corpus]\n",
        "\n",
        "    # Buat kolom baru di DataFrame\n",
        "    df['lda_topic'] = lda_topics\n",
        "\n",
        "    print(\"Selesai. Kolom 'lda_topic' berhasil ditambahkan.\")\n",
        "\n",
        "    # Verifikasi hasilnya:\n",
        "    print(\"\\nContoh hasil pelabelan topik LDA:\")\n",
        "    print(df[['text', 'lda_topic']].head())\n",
        "\n",
        "    print(\"\\nDistribusi dokumen per topik LDA:\")\n",
        "    print(df['lda_topic'].value_counts().sort_index())\n",
        "else:\n",
        "    print(\"Error: Panjang corpus LDA tidak sama dengan panjang DataFrame.\")"
      ]
    },
    {
      "cell_type": "code",
      "execution_count": null,
      "metadata": {
        "colab": {
          "base_uri": "https://localhost:8080/"
        },
        "id": "DVh9kps6D-ak",
        "outputId": "16a68e60-937b-4722-813d-604653032f38"
      },
      "outputs": [
        {
          "name": "stdout",
          "output_type": "stream",
          "text": [
            "\n",
            "==================================================\n",
            "ANALISIS VALIDASI EKSTERNAL UNTUK SETIAP TOPIK LDA\n",
            "==================================================\n",
            "\n",
            "--- Menganalisis Topik LDA #0 ---\n",
            "Kata Kunci Topik: ['model', 'data', 'method', 'distribution', 'prediction', 'using', 'approach', 'learning', 'estimation', 'uncertainty']\n",
            "\n",
            "5 Kategori Asli Teratas dalam Topik ini:\n",
            "categories\n",
            "cs.LG      1090\n",
            "stat.ME     663\n",
            "stat.ML     539\n",
            "math.ST     314\n",
            "stat.TH     314\n",
            "Name: count, dtype: int64\n",
            "-----------------------------\n",
            "\n",
            "--- Menganalisis Topik LDA #1 ---\n",
            "Kata Kunci Topik: ['system', 'control', 'learning', 'user', 'environment', 'agent', 'policy', 'robot', 'reinforcement', 'framework']\n",
            "\n",
            "5 Kategori Asli Teratas dalam Topik ini:\n",
            "categories\n",
            "cs.RO      677\n",
            "cs.LG      559\n",
            "cs.AI      512\n",
            "cs.SY      344\n",
            "eess.SY    344\n",
            "Name: count, dtype: int64\n",
            "-----------------------------\n",
            "\n",
            "--- Menganalisis Topik LDA #2 ---\n",
            "Kata Kunci Topik: ['phase', 'field', 'magnetic', 'transition', 'spin', 'state', 'symmetry', 'topological', 'lattice', 'model']\n",
            "\n",
            "5 Kategori Asli Teratas dalam Topik ini:\n",
            "categories\n",
            "cond-mat.str-el      758\n",
            "cond-mat.mtrl-sci    734\n",
            "cond-mat.mes-hall    723\n",
            "cond-mat.supr-con    388\n",
            "hep-th               374\n",
            "Name: count, dtype: int64\n",
            "-----------------------------\n",
            "\n",
            "--- Menganalisis Topik LDA #3 ---\n",
            "Kata Kunci Topik: ['space', 'group', 'result', 'function', 'show', 'algebra', 'prove', 'class', 'theorem', 'also']\n",
            "\n",
            "5 Kategori Asli Teratas dalam Topik ini:\n",
            "categories\n",
            "math.AG    795\n",
            "math.NT    788\n",
            "math.CO    737\n",
            "math.DG    515\n",
            "math.FA    473\n",
            "Name: count, dtype: int64\n",
            "-----------------------------\n",
            "\n",
            "--- Menganalisis Topik LDA #4 ---\n",
            "Kata Kunci Topik: ['problem', 'algorithm', 'method', 'optimization', 'optimal', 'bound', 'function', 'show', 'matrix', 'time']\n",
            "\n",
            "5 Kategori Asli Teratas dalam Topik ini:\n",
            "categories\n",
            "math.OC    784\n",
            "cs.LG      781\n",
            "cs.DS      379\n",
            "stat.ML    366\n",
            "math.NA    281\n",
            "Name: count, dtype: int64\n",
            "-----------------------------\n",
            "\n",
            "--- Menganalisis Topik LDA #5 ---\n",
            "Kata Kunci Topik: ['optical', 'frequency', 'mode', 'electron', 'beam', 'material', 'wave', 'application', 'using', 'laser']\n",
            "\n",
            "5 Kategori Asli Teratas dalam Topik ini:\n",
            "categories\n",
            "physics.optics       711\n",
            "quant-ph             434\n",
            "cond-mat.mtrl-sci    415\n",
            "cond-mat.mes-hall    330\n",
            "physics.app-ph       322\n",
            "Name: count, dtype: int64\n",
            "-----------------------------\n",
            "\n",
            "--- Menganalisis Topik LDA #6 ---\n",
            "Kata Kunci Topik: ['graph', 'number', 'vertex', 'random', 'edge', 'tree', 'node', 'set', 'path', 'index']\n",
            "\n",
            "5 Kategori Asli Teratas dalam Topik ini:\n",
            "categories\n",
            "math.CO    395\n",
            "cs.DM       77\n",
            "math.PR     67\n",
            "cs.DS       36\n",
            "cs.CG       19\n",
            "Name: count, dtype: int64\n",
            "-----------------------------\n",
            "\n",
            "--- Menganalisis Topik LDA #7 ---\n",
            "Kata Kunci Topik: ['hole', 'black', 'dark', 'matter', 'gravitational', 'detector', 'event', 'signal', 'wave', 'gravity']\n",
            "\n",
            "5 Kategori Asli Teratas dalam Topik ini:\n",
            "categories\n",
            "gr-qc          620\n",
            "astro-ph.CO    417\n",
            "astro-ph.HE    415\n",
            "hep-ph         280\n",
            "hep-th         217\n",
            "Name: count, dtype: int64\n",
            "-----------------------------\n",
            "\n",
            "--- Menganalisis Topik LDA #8 ---\n",
            "Kata Kunci Topik: ['quantum', 'state', 'system', 'entanglement', 'circuit', 'entropy', 'classical', 'measurement', 'gate', 'dynamic']\n",
            "\n",
            "5 Kategori Asli Teratas dalam Topik ini:\n",
            "categories\n",
            "quant-ph              1053\n",
            "cond-mat.stat-mech     145\n",
            "hep-th                 114\n",
            "cond-mat.str-el         94\n",
            "cond-mat.mes-hall       86\n",
            "Name: count, dtype: int64\n",
            "-----------------------------\n",
            "\n",
            "--- Menganalisis Topik LDA #9 ---\n",
            "Kata Kunci Topik: ['image', 'method', 'feature', 'object', 'detection', 'network', 'video', 'segmentation', 'deep', 'propose']\n",
            "\n",
            "5 Kategori Asli Teratas dalam Topik ini:\n",
            "categories\n",
            "cs.CV      2728\n",
            "eess.IV     743\n",
            "cs.LG       734\n",
            "cs.AI       518\n",
            "cs.RO       282\n",
            "Name: count, dtype: int64\n",
            "-----------------------------\n",
            "\n",
            "--- Menganalisis Topik LDA #10 ---\n",
            "Kata Kunci Topik: ['study', 'information', 'social', 'understanding', 'different', 'one', 'analysis', 'question', 'work', 'concept']\n",
            "\n",
            "5 Kategori Asli Teratas dalam Topik ini:\n",
            "categories\n",
            "cs.AI    272\n",
            "cs.CY    199\n",
            "cs.HC    176\n",
            "cs.LG    163\n",
            "cs.SI    142\n",
            "Name: count, dtype: int64\n",
            "------------------------------\n",
            "\n",
            "--- Menganalisis Topik LDA #11 ---\n",
            "Kata Kunci Topik: ['surface', 'system', 'motion', 'dynamic', 'sensor', 'force', 'simulation', 'active', 'flow', 'sensing']\n",
            "\n",
            "5 Kategori Asli Teratas dalam Topik ini:\n",
            "categories\n",
            "physics.flu-dyn    92\n",
            "cond-mat.soft      89\n",
            "cs.RO              32\n",
            "physics.bio-ph     25\n",
            "cs.SY              20\n",
            "Name: count, dtype: int64\n",
            "------------------------------\n",
            "\n",
            "--- Menganalisis Topik LDA #12 ---\n",
            "Kata Kunci Topik: ['model', 'task', 'learning', 'language', 'data', 'training', 'performance', 'method', 'llm', 'datasets']\n",
            "\n",
            "5 Kategori Asli Teratas dalam Topik ini:\n",
            "categories\n",
            "cs.LG      2844\n",
            "cs.CL      2692\n",
            "cs.AI      2423\n",
            "cs.CV      2076\n",
            "eess.AS     527\n",
            "Name: count, dtype: int64\n",
            "------------------------------\n",
            "\n",
            "--- Menganalisis Topik LDA #13 ---\n",
            "Kata Kunci Topik: ['network', 'neural', 'performance', 'system', 'communication', 'proposed', 'learning', 'deep', 'architecture', 'memory']\n",
            "\n",
            "5 Kategori Asli Teratas dalam Topik ini:\n",
            "categories\n",
            "cs.LG      993\n",
            "eess.SP    626\n",
            "math.IT    427\n",
            "cs.IT      427\n",
            "cs.AI      393\n",
            "Name: count, dtype: int64\n",
            "------------------------------\n",
            "\n",
            "--- Menganalisis Topik LDA #14 ---\n",
            "Kata Kunci Topik: ['equation', 'solution', 'system', 'boundary', 'theory', 'condition', 'method', 'function', 'nonlinear', 'field']\n",
            "\n",
            "5 Kategori Asli Teratas dalam Topik ini:\n",
            "categories\n",
            "math.AP    923\n",
            "hep-th     530\n",
            "gr-qc      482\n",
            "math.NA    462\n",
            "cs.NA      455\n",
            "Name: count, dtype: int64\n",
            "------------------------------\n",
            "\n",
            "--- Menganalisis Topik LDA #15 ---\n",
            "Kata Kunci Topik: ['model', 'particle', 'energy', 'decay', 'mass', 'process', 'flow', 'result', 'neutrino', 'collision']\n",
            "\n",
            "5 Kategori Asli Teratas dalam Topik ini:\n",
            "categories\n",
            "hep-ph             1012\n",
            "hep-ex              482\n",
            "nucl-th             333\n",
            "physics.flu-dyn     201\n",
            "nucl-ex             201\n",
            "Name: count, dtype: int64\n",
            "------------------------------\n",
            "\n",
            "--- Menganalisis Topik LDA #16 ---\n",
            "Kata Kunci Topik: ['star', 'galaxy', 'mass', 'emission', 'observation', 'stellar', 'cluster', 'line', 'gas', 'disk']\n",
            "\n",
            "5 Kategori Asli Teratas dalam Topik ini:\n",
            "categories\n",
            "astro-ph.GA    1242\n",
            "astro-ph.SR     783\n",
            "astro-ph.HE     576\n",
            "astro-ph.EP     478\n",
            "astro-ph.CO     277\n",
            "Name: count, dtype: int64\n",
            "------------------------------\n",
            "\n",
            "--- Menganalisis Topik LDA #17 ---\n",
            "Kata Kunci Topik: ['data', 'system', 'research', 'code', 'application', 'analysis', 'paper', 'challenge', 'study', 'tool']\n",
            "\n",
            "5 Kategori Asli Teratas dalam Topik ini:\n",
            "categories\n",
            "cs.CR    455\n",
            "cs.LG    429\n",
            "cs.SE    424\n",
            "cs.AI    409\n",
            "cs.CY    272\n",
            "Name: count, dtype: int64\n",
            "------------------------------\n",
            "\n",
            "--- Menganalisis Topik LDA #18 ---\n",
            "Kata Kunci Topik: ['study', 'effect', 'change', 'temperature', 'cell', 'material', 'layer', 'pressure', 'using', 'result']\n",
            "\n",
            "5 Kategori Asli Teratas dalam Topik ini:\n",
            "categories\n",
            "cond-mat.mtrl-sci    268\n",
            "cond-mat.soft        117\n",
            "physics.app-ph        80\n",
            "physics.flu-dyn       69\n",
            "physics.bio-ph        64\n",
            "Name: count, dtype: int64\n",
            "------------------------------\n",
            "\n",
            "--- Menganalisis Topik LDA #19 ---\n",
            "Kata Kunci Topik: ['molecular', 'nuclear', 'region', 'molecule', 'chemical', 'structure', 'reaction', 'medium', 'density', 'section']\n",
            "\n",
            "5 Kategori Asli Teratas dalam Topik ini:\n",
            "categories\n",
            "nucl-th            9\n",
            "astro-ph.GA        8\n",
            "nucl-ex            6\n",
            "physics.chem-ph    3\n",
            "hep-ph             3\n",
            "Name: count, dtype: int64\n",
            "------------------------------\n"
          ]
        }
      ],
      "source": [
        "# Fungsi ini tidak berubah\n",
        "def analyze_lda_topic(topic_id):\n",
        "    \"\"\"\n",
        "    Menganalisis dan menampilkan komposisi kategori asli\n",
        "    untuk sebuah topik dari LDA.\n",
        "    \"\"\"\n",
        "    print(f\"\\n--- Menganalisis Topik LDA #{topic_id} ---\")\n",
        "\n",
        "    # Ambil kata kunci utama dari topik ini\n",
        "    keywords = [word for word, _ in best_lda_model.show_topic(topic_id, topn=10)]\n",
        "    print(f\"Kata Kunci Topik: {keywords}\")\n",
        "\n",
        "    # Filter paper yang termasuk dalam topik ini\n",
        "    papers_in_topic = df[df['lda_topic'] == topic_id]\n",
        "\n",
        "    if papers_in_topic.empty:\n",
        "        print(\"Tidak ada dokumen yang termasuk dalam topik ini.\")\n",
        "        return\n",
        "\n",
        "    # Hitung frekuensi setiap kategori asli\n",
        "    kategori_counts = papers_in_topic['categories'].str.split(' ').explode().value_counts()\n",
        "\n",
        "    print(\"\\n5 Kategori Asli Teratas dalam Topik ini:\")\n",
        "    print(kategori_counts.head(5))\n",
        "    print(\"-\"*(len(f\"Menganalisis Topik LDA #{topic_id}\") + 4))\n",
        "\n",
        "# Analisis semua 20 topik dari LDA\n",
        "print(\"\\n\" + \"=\"*50)\n",
        "print(\"ANALISIS VALIDASI EKSTERNAL UNTUK SETIAP TOPIK LDA\")\n",
        "print(\"=\"*50)\n",
        "\n",
        "if 'lda_topic' in df.columns:\n",
        "    for i in range(best_lda_model.num_topics):\n",
        "        analyze_lda_topic(i)\n",
        "else:\n",
        "    print(\"Kolom 'lda_topic' belum ada. Jalankan kode di Langkah 1 terlebih dahulu.\")"
      ]
    }
  ],
  "metadata": {
    "accelerator": "GPU",
    "colab": {
      "gpuType": "T4",
      "provenance": []
    },
    "kernelspec": {
      "display_name": "Python 3",
      "name": "python3"
    },
    "language_info": {
      "name": "python",
      "version": "3.13.5"
    }
  },
  "nbformat": 4,
  "nbformat_minor": 0
}
