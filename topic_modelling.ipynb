{
  "nbformat": 4,
  "nbformat_minor": 0,
  "metadata": {
    "colab": {
      "provenance": [],
      "gpuType": "T4"
    },
    "kernelspec": {
      "name": "python3",
      "display_name": "Python 3"
    },
    "language_info": {
      "name": "python"
    },
    "accelerator": "GPU"
  },
  "cells": [
    {
      "cell_type": "markdown",
      "source": [
        "# Identifikasi Masalah\n",
        "## Latar Belakang\n",
        "Dalam dunia akademik, artikel ilmiah diterbitkan setiap hari. Volume informasi ini menyulitkan akademisi baik itu mahasiswa, dosen, dan peneliti untuk mengikuti perkembangan terbaru secara menyeluruh. Disinilah penting nya topic modeling, dengan teknik ini, kita dapat secara otomatis mengelompokkan kumpulan abstrak artikel ilmiah ke dalam topik-topik utama seperti Artificial Intelligence, Cybersecurity, atau Computer Vision.\n",
        "\n",
        "Topic modeling memungkinkan kita untuk:\n",
        "\n",
        "- Mengidentifikasi tren penelitian yang sedang berkembang.\n",
        "- Menemukan artikel relevan tanpa membaca satu per satu.\n",
        "- Menyederhanakan eksplorasi literatur dalam jumlah besar.\n",
        "\n",
        "Dalam tugas ini, kita akan membandingkan dua metode topic modeling:\n",
        "\n",
        "- Latent Dirichlet Allocation (LDA).\n",
        "- BERTopic.\n",
        "\n",
        "Fokus tugas ini yaitu menilai model mana yang memberikan hasil pengelompokan topik yang lebih relevan, dapat dimengerti, dan sesuai dengan kategori asli artikel.\n",
        "\n",
        "## Pertanyaan Penelitian\n",
        "1. Topik apa saja yang berhasil ditemukan oleh masing-masing metode?\n",
        "\n",
        "2. Berapa jumlah topik optimal, dan model mana yang memberikan skor kualitas topik terbaik?\n",
        "\n",
        "3. Seberapa sesuai hasil topik dari masing-masing metode dengan label kategori asli dari artikel?\n",
        "\n"
      ],
      "metadata": {
        "id": "91CS8gKP3gj2"
      }
    },
    {
      "cell_type": "markdown",
      "source": [
        "# Pengumpulan Dataset\n",
        "## Sumber Data\n",
        "Untuk tugas topic modeling ini, dataset yang digunakan adalah dataset publik \"ArXiv Dataset\" yang tersedia di platform Kaggle. Dataset ini berisi metadata dari jutaan publikasi ilmiah dari penerbit arXiv.org.\n",
        "\n",
        "Setiap entri mencakup informasi seperti:\n",
        "- id: ID unik artikel\n",
        "- title: Judul artikel\n",
        "- abstract: Ringkasan isi artikel (digunakan sebagai teks utama analisis)\n",
        "- categories: Label bidang ilmu (misal: cs.AI, cs.CV, math.CO) yang akan digunakan untuk evaluasi model\n",
        "- update_date: Tanggal terakhir artikel diperbarui\n",
        "\n",
        "Dataset ini cocok dengan implementasi topic modeling karena berisi abstrak berkualitas tinggi, terstruktur, dan kaya informasi—ideal untuk pemrosesan bahasa alami (NLP).\n",
        "\n",
        "Link Kaggle : https://www.kaggle.com/datasets/Cornell-University/arxiv\n",
        "\n",
        "## Pengumpulan Data\n",
        "Dataset asli berukuran besar (lebih dari 2 juta entri) dan disimpan dalam format JSON Lines (.jsonl), di mana setiap baris adalah satu objek JSON.\n",
        "\n",
        "Supaya lebih relevan, dataset yang artikel yang digunakan hanya tahun 2021 keatas. Dari tahap ini, diperoleh DataFrame akhir (df_recent) dengan 1.082.975 baris. Karena keterbatasan komputasi, maka diambil sample sebanyak 10.000 saja."
      ],
      "metadata": {
        "id": "d3VBItqi7Fq-"
      }
    },
    {
      "cell_type": "code",
      "execution_count": 1,
      "metadata": {
        "colab": {
          "base_uri": "https://localhost:8080/"
        },
        "id": "3eFwjIfP3K_K",
        "outputId": "83c55d22-8ca9-413d-f61d-fa99972830f2"
      },
      "outputs": [
        {
          "output_type": "stream",
          "name": "stdout",
          "text": [
            "Path to dataset files: /kaggle/input/arxiv\n"
          ]
        }
      ],
      "source": [
        "# Ini merupakan kode dari kaggle sendiri untuk mendownload dataset nya\n",
        "import kagglehub\n",
        "\n",
        "# Download latest version\n",
        "path = kagglehub.dataset_download(\"Cornell-University/arxiv\")\n",
        "\n",
        "print(\"Path to dataset files:\", path)"
      ]
    },
    {
      "cell_type": "code",
      "source": [
        "\"\"\"Kode ini digunakan untuk memindahkan file dataset yang telah ter download\n",
        "kedalam direktori '/content/dataset' google colab\"\"\"\n",
        "import shutil\n",
        "# Source folder dari kagglehub\n",
        "src_path = \"/kaggle/input/arxiv\"\n",
        "\n",
        "# Target folder (direktori kerja biasa)\n",
        "dst_path = \"/content/dataset\"\n",
        "\n",
        "# Salin semua isi folder\n",
        "shutil.copytree(src_path, dst_path, dirs_exist_ok=True)\n",
        "\n",
        "print(\"Dataset telah dipindahkan ke:\", dst_path)"
      ],
      "metadata": {
        "colab": {
          "base_uri": "https://localhost:8080/"
        },
        "id": "ilLaKQAe_PoA",
        "outputId": "d11196be-e785-4071-fd4b-952c5e3b1242"
      },
      "execution_count": 2,
      "outputs": [
        {
          "output_type": "stream",
          "name": "stdout",
          "text": [
            "Dataset telah dipindahkan ke: /content/dataset\n"
          ]
        }
      ]
    },
    {
      "cell_type": "code",
      "source": [
        "\"\"\"Kode dibawah digunakan untuk mengkonversi file dataset yang berformat json\n",
        "ke dalam pandas dataframe, dan saat proses nya difilter hanya artikel atau paper\n",
        "dengan tahun >= 2021\"\"\"\n",
        "\n",
        "import pandas as pd\n",
        "import json\n",
        "\n",
        "data = []\n",
        "file_path = '/content/dataset/arxiv-metadata-oai-snapshot.json'\n",
        "start_year = 2021\n",
        "\n",
        "with open(file_path, 'r') as f:\n",
        "    for line in f:\n",
        "        # Megubah setiap baris menjadi dictionary\n",
        "        parsed_line = json.loads(line)\n",
        "\n",
        "        # Membaca tahun dari kolom 'update_date'\n",
        "        # try-except digunakan untuk antisipasi mana tau ada data yang aneh\n",
        "        try:\n",
        "            # Mendapatkan tahun dari kolom 'update date'\n",
        "            year = int(parsed_line['update_date'][:4])\n",
        "\n",
        "            # Simpan data >= 2021\n",
        "            if year >= start_year:\n",
        "                data.append(parsed_line)\n",
        "        except (ValueError, TypeError):\n",
        "            # Jika ada error maka dilanjutkan proses nya\n",
        "            continue\n",
        "\n",
        "# Membuat dataframe dari data-data yang sudah difilter\n",
        "df = pd.DataFrame(data)\n",
        "\n",
        "# Cek hasil dataframe\n",
        "if not df.empty:\n",
        "    print(f\"Berhasil membaca {len(df)} baris data dari tahun {start_year} ke atas.\")\n",
        "    print(\"\\nInformasi DataFrame:\")\n",
        "    df.info()\n",
        "\n",
        "    print(\"\\n5 baris pertama data terbaru:\")\n",
        "    print(df.head())\n",
        "else:\n",
        "    print(f\"Tidak ada data yang ditemukan dari tahun {start_year} ke atas.\")"
      ],
      "metadata": {
        "colab": {
          "base_uri": "https://localhost:8080/"
        },
        "id": "RcGNOWYS_qGO",
        "outputId": "ef2df2c2-6b56-405d-9a33-1dc4060b3bf0"
      },
      "execution_count": 3,
      "outputs": [
        {
          "output_type": "stream",
          "name": "stdout",
          "text": [
            "Berhasil membaca 1082975 baris data dari tahun 2021 ke atas.\n",
            "\n",
            "Informasi DataFrame:\n",
            "<class 'pandas.core.frame.DataFrame'>\n",
            "RangeIndex: 1082975 entries, 0 to 1082974\n",
            "Data columns (total 14 columns):\n",
            " #   Column          Non-Null Count    Dtype \n",
            "---  ------          --------------    ----- \n",
            " 0   id              1082975 non-null  object\n",
            " 1   submitter       1082943 non-null  object\n",
            " 2   authors         1082975 non-null  object\n",
            " 3   title           1082975 non-null  object\n",
            " 4   comments        690061 non-null   object\n",
            " 5   journal-ref     213164 non-null   object\n",
            " 6   doi             324122 non-null   object\n",
            " 7   report-no       25892 non-null    object\n",
            " 8   categories      1082975 non-null  object\n",
            " 9   license         1081657 non-null  object\n",
            " 10  abstract        1082975 non-null  object\n",
            " 11  versions        1082975 non-null  object\n",
            " 12  update_date     1082975 non-null  object\n",
            " 13  authors_parsed  1082975 non-null  object\n",
            "dtypes: object(14)\n",
            "memory usage: 115.7+ MB\n",
            "\n",
            "5 baris pertama data terbaru:\n",
            "          id          submitter  \\\n",
            "0  0704.0033    Maxim A. Yurkin   \n",
            "1  0704.0038    Maxim A. Yurkin   \n",
            "2  0704.0275  George M. Bergman   \n",
            "3  0704.0348  Grazyna Stasinska   \n",
            "4  0704.0479   Thomas Geisser H   \n",
            "\n",
            "                                             authors  \\\n",
            "0  Maxim A. Yurkin, Valeri P. Maltsev, Alfons G. ...   \n",
            "1                Maxim A. Yurkin, Alfons G. Hoekstra   \n",
            "2                   George M. Bergman (U.C.Berkeley)   \n",
            "3                                       G. Stasinska   \n",
            "4                                          T.Geisser   \n",
            "\n",
            "                                               title  \\\n",
            "0  Convergence of the discrete dipole approximati...   \n",
            "1  The discrete dipole approximation: an overview...   \n",
            "2                     Mapping radii of metric spaces   \n",
            "3                   What can emission lines tell us?   \n",
            "4               The affine part of the Picard scheme   \n",
            "\n",
            "                                            comments  \\\n",
            "0  23 pages, 5 figures; added several corrections...   \n",
            "1  36 pages, 1 figure; added several corrections ...   \n",
            "2  24 pages. To appear, Pacific J. Math. Any upda...   \n",
            "3  55 pages, Lectures given at the XVIII Canary I...   \n",
            "4  This is a correct version of the original pape...   \n",
            "\n",
            "                                         journal-ref  \\\n",
            "0  J.Opt.Soc.Am.A 23, 2578-2591 (2006); Erratum: ...   \n",
            "1  J.Quant.Spectrosc.Radiat.Transf. 106, 558-589 ...   \n",
            "2               Pacific J. Math., 236 (2008) 223-261   \n",
            "3                                               None   \n",
            "4                                               None   \n",
            "\n",
            "                                                 doi report-no  \\\n",
            "0    10.1364/JOSAA.23.002578 10.1364/JOSAA.32.002407      None   \n",
            "1  10.1016/j.jqsrt.2007.01.034 10.1016/j.jqsrt.20...      None   \n",
            "2                           10.2140/pjm.2008.236.223      None   \n",
            "3                       10.1017/CBO9780511552038.003      None   \n",
            "4                                               None      None   \n",
            "\n",
            "                       categories  \\\n",
            "0  physics.optics physics.comp-ph   \n",
            "1  physics.optics physics.comp-ph   \n",
            "2                         math.MG   \n",
            "3                        astro-ph   \n",
            "4                 math.AG math.KT   \n",
            "\n",
            "                                             license  \\\n",
            "0  http://creativecommons.org/licenses/by-nc-nd/4.0/   \n",
            "1  http://creativecommons.org/licenses/by-nc-nd/4.0/   \n",
            "2                                               None   \n",
            "3                                               None   \n",
            "4  http://arxiv.org/licenses/nonexclusive-distrib...   \n",
            "\n",
            "                                            abstract  \\\n",
            "0    We performed a rigorous theoretical converge...   \n",
            "1    We present a review of the discrete dipole a...   \n",
            "2    It is known that every closed curve of lengt...   \n",
            "3    1 Generalities\\n  2 Empirical diagnostics ba...   \n",
            "4    We describe the maximal torus and maximal un...   \n",
            "\n",
            "                                            versions update_date  \\\n",
            "0  [{'version': 'v1', 'created': 'Sat, 31 Mar 200...  2022-03-31   \n",
            "1  [{'version': 'v1', 'created': 'Sat, 31 Mar 200...  2022-03-30   \n",
            "2  [{'version': 'v1', 'created': 'Mon, 2 Apr 2007...  2021-10-15   \n",
            "3  [{'version': 'v1', 'created': 'Tue, 3 Apr 2007...  2023-06-07   \n",
            "4  [{'version': 'v1', 'created': 'Wed, 4 Apr 2007...  2021-01-29   \n",
            "\n",
            "                                      authors_parsed  \n",
            "0  [[Yurkin, Maxim A., ], [Maltsev, Valeri P., ],...  \n",
            "1    [[Yurkin, Maxim A., ], [Hoekstra, Alfons G., ]]  \n",
            "2             [[Bergman, George M., , U.C.Berkeley]]  \n",
            "3                                [[Stasinska, G., ]]  \n",
            "4                                  [[Geisser, T., ]]  \n"
          ]
        }
      ]
    },
    {
      "cell_type": "code",
      "source": [
        "\"\"\"Kode pada cell ini berfungsi untuk mengambil 10.000 data dari dataset\n",
        "Hal ini dilakukan karena dataset terlalu besar dan tidak cukup komputasi.\"\"\"\n",
        "\n",
        "sample_size = 10000\n",
        "\n",
        "print(f\"\\nUkuran DataFrame asli: {len(df)} baris.\")\n",
        "\n",
        "# Menyimpan 10.000 data ke df_sampled\n",
        "df_sampled = df.sample(n=sample_size, random_state=42)\n",
        "\n",
        "print(f\"Ukuran DataFrame setelah di-sample: {len(df_sampled)} baris.\")\n",
        "\n",
        "# Timpa df asli dengan df_sampled (tidak digunakan lagi)\n",
        "df = df_sampled.copy()\n",
        "\n",
        "# Reset index DataFrame yang sudah dilakukan proses sample\n",
        "df.reset_index(drop=True, inplace=True)\n",
        "\n",
        "# Cek jumlah baris\n",
        "df.shape"
      ],
      "metadata": {
        "colab": {
          "base_uri": "https://localhost:8080/"
        },
        "id": "EcKzP5j0p1MW",
        "outputId": "0446f7c8-8ef7-4ea1-9c9a-62d1f64dc087"
      },
      "execution_count": 4,
      "outputs": [
        {
          "output_type": "stream",
          "name": "stdout",
          "text": [
            "\n",
            "Ukuran DataFrame asli: 1082975 baris.\n",
            "Ukuran DataFrame setelah di-sample: 10000 baris.\n"
          ]
        },
        {
          "output_type": "execute_result",
          "data": {
            "text/plain": [
              "(10000, 14)"
            ]
          },
          "metadata": {},
          "execution_count": 4
        }
      ]
    },
    {
      "cell_type": "markdown",
      "source": [
        "# Pra-pemrosesan Teks (pre-processing)\n",
        "Proses ini dilakukan sesuai dengan intruksi soal."
      ],
      "metadata": {
        "id": "HNTBTIKZEz2w"
      }
    },
    {
      "cell_type": "code",
      "source": [
        "# Kode dibawah adalah mendownload beberapa modul dari NLTK untu pre-processing teks\n",
        "import nltk\n",
        "\n",
        "nltk.download('punkt')\n",
        "nltk.download('stopwords')\n",
        "nltk.download('wordnet')"
      ],
      "metadata": {
        "colab": {
          "base_uri": "https://localhost:8080/"
        },
        "id": "Xw35o3opEt7a",
        "outputId": "6514643f-a90e-4c7a-c90a-4482c17d779a"
      },
      "execution_count": 5,
      "outputs": [
        {
          "output_type": "stream",
          "name": "stderr",
          "text": [
            "[nltk_data] Downloading package punkt to /root/nltk_data...\n",
            "[nltk_data]   Unzipping tokenizers/punkt.zip.\n",
            "[nltk_data] Downloading package stopwords to /root/nltk_data...\n",
            "[nltk_data]   Unzipping corpora/stopwords.zip.\n",
            "[nltk_data] Downloading package wordnet to /root/nltk_data...\n"
          ]
        },
        {
          "output_type": "execute_result",
          "data": {
            "text/plain": [
              "True"
            ]
          },
          "metadata": {},
          "execution_count": 5
        }
      ]
    },
    {
      "cell_type": "code",
      "source": [
        "nltk.download('punkt_tab')"
      ],
      "metadata": {
        "colab": {
          "base_uri": "https://localhost:8080/"
        },
        "id": "BEtvyBKqF3ha",
        "outputId": "ab6ab547-9512-4a2a-ddbb-59b68f784cb8"
      },
      "execution_count": 6,
      "outputs": [
        {
          "output_type": "stream",
          "name": "stderr",
          "text": [
            "[nltk_data] Downloading package punkt_tab to /root/nltk_data...\n",
            "[nltk_data]   Unzipping tokenizers/punkt_tab.zip.\n"
          ]
        },
        {
          "output_type": "execute_result",
          "data": {
            "text/plain": [
              "True"
            ]
          },
          "metadata": {},
          "execution_count": 6
        }
      ]
    },
    {
      "cell_type": "code",
      "source": [
        "\"\"\"Kode ini digunakan untuk menggabungkan judul artikel dan abstrak menjadi\n",
        "kolom teks untuk memperkaya informasi supaya LDA dan BertTopic lebih bisa\n",
        "menangkap pola dan topik lebih baik\"\"\"\n",
        "\n",
        "df['text'] = df['title'].fillna('') + ' ' + df['abstract'].fillna('')"
      ],
      "metadata": {
        "id": "hBp9FjW9GdLE"
      },
      "execution_count": 7,
      "outputs": []
    },
    {
      "cell_type": "code",
      "source": [
        "\"\"\"Kode dibawah didunakan untuk mendefinisikan fungsi pre-processing\n",
        "yang akan diaplikasikan pada dataset\"\"\"\n",
        "\n",
        "import re\n",
        "from nltk.corpus import stopwords\n",
        "from nltk.tokenize import word_tokenize\n",
        "from nltk.stem import WordNetLemmatizer\n",
        "\n",
        "# Inisialisasi lemmatizer dan stopwords\n",
        "lemmatizer = WordNetLemmatizer()\n",
        "# Menggunakan stopwords berbahasa inggris karena dataset artikel berhasasa inggris\n",
        "stop_words = set(stopwords.words('english'))\n",
        "\n",
        "def preprocess_text(text):\n",
        "    # Case Folding: Mengubah semua teks menjadi huruf kecil\n",
        "    text = text.lower()\n",
        "\n",
        "    # Filtering\n",
        "    text = re.sub(r'http\\S+|www\\S+|https\\S+', '', text, flags=re.MULTILINE)\n",
        "    text = re.sub(r'[^a-z\\s]', '', text)\n",
        "\n",
        "    # Tokenisasi: Memecah teks menjadi token\n",
        "    tokens = word_tokenize(text)\n",
        "\n",
        "    # Stopword Removal & Lemmatization & Filtering kata pendek\n",
        "    cleaned_tokens = []\n",
        "    for word in tokens:\n",
        "        # Cek apakah kata bukan stopword dan panjangnya lebih dari 2 huruf\n",
        "        if word not in stop_words and len(word) > 2:\n",
        "            # Lemmatization: Mengubah kata ke bentuk dasarnya\n",
        "            cleaned_tokens.append(lemmatizer.lemmatize(word))\n",
        "\n",
        "    return cleaned_tokens"
      ],
      "metadata": {
        "id": "XODNYPkkFAPs"
      },
      "execution_count": 8,
      "outputs": []
    },
    {
      "cell_type": "code",
      "source": [
        "# Test hasil fungsi pre-processing yang telah dibuat\n",
        "print(\"Hasil uji coba pra-pemrosesan pada 5 baris pertama:\")\n",
        "contoh_hasil = df['text'].head(5).apply(preprocess_text)\n",
        "print(contoh_hasil)"
      ],
      "metadata": {
        "colab": {
          "base_uri": "https://localhost:8080/"
        },
        "id": "qRzSrNIgFlG6",
        "outputId": "f3517d98-6855-453e-f7af-2edb58fac0bd"
      },
      "execution_count": 9,
      "outputs": [
        {
          "output_type": "stream",
          "name": "stdout",
          "text": [
            "Hasil uji coba pra-pemrosesan pada 5 baris pertama:\n",
            "0    [supervised, anomaly, detection, method, combi...\n",
            "1    [balanced, excited, random, walk, two, dimensi...\n",
            "2    [inference, multiple, highdimensional, network...\n",
            "3    [summarize, generate, backtranslate, unsupervi...\n",
            "4    [entity, alignment, knowledge, graph, progress...\n",
            "Name: text, dtype: object\n"
          ]
        }
      ]
    },
    {
      "cell_type": "code",
      "source": [
        "# Mengaplikasikan fungsi pada seluruh data di dataset dan disimpan pada kolom baru\n",
        "df['processed_text'] = df['text'].apply(preprocess_text)"
      ],
      "metadata": {
        "id": "_KtWdZW0GzR0"
      },
      "execution_count": 10,
      "outputs": []
    },
    {
      "cell_type": "code",
      "source": [
        "# Menampilkan dataset sebelum dan sesudah pre-processing\n",
        "print(df[['text', 'processed_text']].sample(5))"
      ],
      "metadata": {
        "colab": {
          "base_uri": "https://localhost:8080/"
        },
        "id": "GS195qMfHBqg",
        "outputId": "fa5c2f92-c9f9-407f-8be8-a3395b294abb"
      },
      "execution_count": 11,
      "outputs": [
        {
          "output_type": "stream",
          "name": "stdout",
          "text": [
            "                                                   text  \\\n",
            "9528  The generalized roof F(1,2,n): Hodge structure...   \n",
            "1933  Data-integration with pseudoweights and survey...   \n",
            "6895  Fig Tree-Wasp Symbiotic Coevolutionary Optimiz...   \n",
            "9599  Deep reinforcement learning for irrigation sch...   \n",
            "2009  Analysis of the hidden-charm tetraquark molecu...   \n",
            "\n",
            "                                         processed_text  \n",
            "9528  [generalized, roof, hodge, structure, derived,...  \n",
            "1933  [dataintegration, pseudoweights, surveycalibra...  \n",
            "6895  [fig, treewasp, symbiotic, coevolutionary, opt...  \n",
            "9599  [deep, reinforcement, learning, irrigation, sc...  \n",
            "2009  [analysis, hiddencharm, tetraquark, molecule, ...  \n"
          ]
        }
      ]
    },
    {
      "cell_type": "markdown",
      "source": [
        "# Penerapan Algoritma Topic Modeling"
      ],
      "metadata": {
        "id": "v-PcRtvfrvr3"
      }
    },
    {
      "cell_type": "markdown",
      "source": [
        "## LDA\n",
        "Penerapan algorima LDA pada tugas ini mengunakan library gensim, untuk dapat diaplikasikan pada LDA, kolom processed_text wajib diubah dalam bentuk dictionary lalu corpus. Saat mengkonversi kedalam dictionary, kata-kata dengan kemunculan kurang dari 15 dihapus dan jika muncul diatas 50% dari dokumen juga dihapus (dianggap umum), lalu setelah itu dijadikan corpus dengan metode BoW."
      ],
      "metadata": {
        "id": "Z9sWFbU63nrJ"
      }
    },
    {
      "cell_type": "code",
      "source": [
        "!pip install gensim"
      ],
      "metadata": {
        "colab": {
          "base_uri": "https://localhost:8080/",
          "height": 707
        },
        "id": "v9OAqVSqsofS",
        "outputId": "4fc3b7ce-4119-4985-c02c-394e89ba786f"
      },
      "execution_count": 1,
      "outputs": [
        {
          "output_type": "stream",
          "name": "stdout",
          "text": [
            "Collecting gensim\n",
            "  Downloading gensim-4.3.3-cp311-cp311-manylinux_2_17_x86_64.manylinux2014_x86_64.whl.metadata (8.1 kB)\n",
            "Collecting numpy<2.0,>=1.18.5 (from gensim)\n",
            "  Downloading numpy-1.26.4-cp311-cp311-manylinux_2_17_x86_64.manylinux2014_x86_64.whl.metadata (61 kB)\n",
            "\u001b[2K     \u001b[90m━━━━━━━━━━━━━━━━━━━━━━━━━━━━━━━━━━━━━━━━\u001b[0m \u001b[32m61.0/61.0 kB\u001b[0m \u001b[31m4.9 MB/s\u001b[0m eta \u001b[36m0:00:00\u001b[0m\n",
            "\u001b[?25hCollecting scipy<1.14.0,>=1.7.0 (from gensim)\n",
            "  Downloading scipy-1.13.1-cp311-cp311-manylinux_2_17_x86_64.manylinux2014_x86_64.whl.metadata (60 kB)\n",
            "\u001b[2K     \u001b[90m━━━━━━━━━━━━━━━━━━━━━━━━━━━━━━━━━━━━━━━━\u001b[0m \u001b[32m60.6/60.6 kB\u001b[0m \u001b[31m4.5 MB/s\u001b[0m eta \u001b[36m0:00:00\u001b[0m\n",
            "\u001b[?25hRequirement already satisfied: smart-open>=1.8.1 in /usr/local/lib/python3.11/dist-packages (from gensim) (7.3.0.post1)\n",
            "Requirement already satisfied: wrapt in /usr/local/lib/python3.11/dist-packages (from smart-open>=1.8.1->gensim) (1.17.2)\n",
            "Downloading gensim-4.3.3-cp311-cp311-manylinux_2_17_x86_64.manylinux2014_x86_64.whl (26.7 MB)\n",
            "\u001b[2K   \u001b[90m━━━━━━━━━━━━━━━━━━━━━━━━━━━━━━━━━━━━━━━━\u001b[0m \u001b[32m26.7/26.7 MB\u001b[0m \u001b[31m69.6 MB/s\u001b[0m eta \u001b[36m0:00:00\u001b[0m\n",
            "\u001b[?25hDownloading numpy-1.26.4-cp311-cp311-manylinux_2_17_x86_64.manylinux2014_x86_64.whl (18.3 MB)\n",
            "\u001b[2K   \u001b[90m━━━━━━━━━━━━━━━━━━━━━━━━━━━━━━━━━━━━━━━━\u001b[0m \u001b[32m18.3/18.3 MB\u001b[0m \u001b[31m96.0 MB/s\u001b[0m eta \u001b[36m0:00:00\u001b[0m\n",
            "\u001b[?25hDownloading scipy-1.13.1-cp311-cp311-manylinux_2_17_x86_64.manylinux2014_x86_64.whl (38.6 MB)\n",
            "\u001b[2K   \u001b[90m━━━━━━━━━━━━━━━━━━━━━━━━━━━━━━━━━━━━━━━━\u001b[0m \u001b[32m38.6/38.6 MB\u001b[0m \u001b[31m15.8 MB/s\u001b[0m eta \u001b[36m0:00:00\u001b[0m\n",
            "\u001b[?25hInstalling collected packages: numpy, scipy, gensim\n",
            "  Attempting uninstall: numpy\n",
            "    Found existing installation: numpy 2.0.2\n",
            "    Uninstalling numpy-2.0.2:\n",
            "      Successfully uninstalled numpy-2.0.2\n",
            "  Attempting uninstall: scipy\n",
            "    Found existing installation: scipy 1.16.0\n",
            "    Uninstalling scipy-1.16.0:\n",
            "      Successfully uninstalled scipy-1.16.0\n",
            "\u001b[31mERROR: pip's dependency resolver does not currently take into account all the packages that are installed. This behaviour is the source of the following dependency conflicts.\n",
            "tsfresh 0.21.0 requires scipy>=1.14.0; python_version >= \"3.10\", but you have scipy 1.13.1 which is incompatible.\n",
            "opencv-contrib-python 4.12.0.88 requires numpy<2.3.0,>=2; python_version >= \"3.9\", but you have numpy 1.26.4 which is incompatible.\n",
            "thinc 8.3.6 requires numpy<3.0.0,>=2.0.0, but you have numpy 1.26.4 which is incompatible.\n",
            "opencv-python-headless 4.12.0.88 requires numpy<2.3.0,>=2; python_version >= \"3.9\", but you have numpy 1.26.4 which is incompatible.\n",
            "opencv-python 4.12.0.88 requires numpy<2.3.0,>=2; python_version >= \"3.9\", but you have numpy 1.26.4 which is incompatible.\u001b[0m\u001b[31m\n",
            "\u001b[0mSuccessfully installed gensim-4.3.3 numpy-1.26.4 scipy-1.13.1\n"
          ]
        },
        {
          "output_type": "display_data",
          "data": {
            "application/vnd.colab-display-data+json": {
              "pip_warning": {
                "packages": [
                  "numpy"
                ]
              },
              "id": "48f85591313e454aa3a7a07a89a614af"
            }
          },
          "metadata": {}
        }
      ]
    },
    {
      "cell_type": "code",
      "source": [
        "\"\"\"Kode cell ini berfungsi untuk membuat corpus dan dictionary, karena LDA\n",
        "akan dijalankan dengan gensim yang membutuhkan corpus dan dictionary.\"\"\"\n",
        "from gensim.corpora import Dictionary\n",
        "from gensim.models import LdaModel\n",
        "import pandas as pd\n",
        "\n",
        "documents = [doc for doc in df['processed_text'] if doc]\n",
        "\n",
        "# Membuat Dictionary (memetakan setiap kata unik menjadi sebuah ID)\n",
        "dictionary = Dictionary(documents)\n",
        "\n",
        "# Memfilter kata eksrim, kata kuran dari 15 dan lebih dari 50% isi dokumen dihapus\n",
        "dictionary.filter_extremes(no_below=15, no_above=0.5, keep_n=100000)\n",
        "\n",
        "# Membuat Corpus dengan Bag-of-Words\n",
        "# BoW mengubah setiap dokumen menjadi representasi (ID kata, frekuensi)\n",
        "corpus = [dictionary.doc2bow(doc) for doc in documents]\n",
        "\n",
        "print(f\"Jumlah kata unik dalam kamus setelah filtering: {len(dictionary)}\")\n",
        "print(f\"Jumlah dokumen dalam corpus: {len(corpus)}\")"
      ],
      "metadata": {
        "colab": {
          "base_uri": "https://localhost:8080/"
        },
        "id": "uqswg1AGr04t",
        "outputId": "52c20b7c-fad0-49f8-e896-6b7878b345cc"
      },
      "execution_count": 12,
      "outputs": [
        {
          "output_type": "stream",
          "name": "stdout",
          "text": [
            "Jumlah kata unik dalam kamus setelah filtering: 5276\n",
            "Jumlah dokumen dalam corpus: 10000\n"
          ]
        }
      ]
    },
    {
      "cell_type": "code",
      "source": [
        "# Latih model LDA\n",
        "# Jumah topik awal adalah 10\n",
        "NUM_TOPICS = 10\n",
        "\n",
        "lda_model = LdaModel(\n",
        "    corpus=corpus,\n",
        "    id2word=dictionary,\n",
        "    num_topics=NUM_TOPICS,\n",
        "    random_state=42,\n",
        "    passes=10,\n",
        "    alpha='auto',\n",
        "    eta='auto'\n",
        ")"
      ],
      "metadata": {
        "id": "UwBYiAW9vklT"
      },
      "execution_count": 13,
      "outputs": []
    },
    {
      "cell_type": "code",
      "source": [
        "# Menampilkan 10 kata kunci teratas untuk setiap topik\n",
        "print(\"\\nTopik yang ditemukan oleh LDA:\")\n",
        "topics = lda_model.print_topics(num_words=10)\n",
        "for topic in topics:\n",
        "    print(topic)"
      ],
      "metadata": {
        "colab": {
          "base_uri": "https://localhost:8080/"
        },
        "id": "UvUFpCv_vsVu",
        "outputId": "fbbb7811-e704-423a-f17e-93068624c0b5"
      },
      "execution_count": 14,
      "outputs": [
        {
          "output_type": "stream",
          "name": "stdout",
          "text": [
            "\n",
            "Topik yang ditemukan oleh LDA:\n",
            "(0, '0.031*\"model\" + 0.014*\"learning\" + 0.013*\"method\" + 0.011*\"data\" + 0.010*\"image\" + 0.010*\"task\" + 0.009*\"network\" + 0.009*\"performance\" + 0.009*\"training\" + 0.007*\"neural\"')\n",
            "(1, '0.014*\"data\" + 0.009*\"using\" + 0.009*\"observation\" + 0.009*\"source\" + 0.007*\"model\" + 0.007*\"spectrum\" + 0.007*\"analysis\" + 0.006*\"emission\" + 0.006*\"measurement\" + 0.006*\"result\"')\n",
            "(2, '0.011*\"material\" + 0.009*\"energy\" + 0.007*\"optical\" + 0.007*\"property\" + 0.007*\"using\" + 0.006*\"high\" + 0.006*\"molecular\" + 0.006*\"surface\" + 0.006*\"structure\" + 0.006*\"mode\"')\n",
            "(3, '0.013*\"algorithm\" + 0.011*\"network\" + 0.010*\"system\" + 0.009*\"control\" + 0.007*\"learning\" + 0.007*\"proposed\" + 0.007*\"video\" + 0.007*\"environment\" + 0.007*\"performance\" + 0.007*\"method\"')\n",
            "(4, '0.024*\"method\" + 0.019*\"problem\" + 0.014*\"algorithm\" + 0.013*\"equation\" + 0.012*\"solution\" + 0.011*\"model\" + 0.010*\"time\" + 0.009*\"function\" + 0.009*\"system\" + 0.009*\"approach\"')\n",
            "(5, '0.061*\"graph\" + 0.021*\"star\" + 0.017*\"galaxy\" + 0.014*\"mass\" + 0.012*\"cluster\" + 0.010*\"formation\" + 0.009*\"number\" + 0.009*\"gas\" + 0.009*\"vertex\" + 0.008*\"node\"')\n",
            "(6, '0.012*\"space\" + 0.012*\"group\" + 0.011*\"function\" + 0.011*\"result\" + 0.009*\"set\" + 0.008*\"prove\" + 0.008*\"paper\" + 0.008*\"show\" + 0.008*\"theory\" + 0.007*\"class\"')\n",
            "(7, '0.016*\"model\" + 0.012*\"field\" + 0.011*\"phase\" + 0.010*\"state\" + 0.009*\"system\" + 0.008*\"magnetic\" + 0.008*\"energy\" + 0.007*\"effect\" + 0.007*\"transition\" + 0.007*\"dynamic\"')\n",
            "(8, '0.075*\"quantum\" + 0.030*\"state\" + 0.018*\"code\" + 0.011*\"system\" + 0.011*\"circuit\" + 0.009*\"classical\" + 0.008*\"algorithm\" + 0.007*\"show\" + 0.007*\"information\" + 0.006*\"entanglement\"')\n",
            "(9, '0.012*\"data\" + 0.012*\"system\" + 0.011*\"model\" + 0.008*\"study\" + 0.008*\"research\" + 0.007*\"analysis\" + 0.006*\"paper\" + 0.006*\"user\" + 0.004*\"application\" + 0.004*\"using\"')\n"
          ]
        }
      ]
    },
    {
      "cell_type": "markdown",
      "source": [
        "## BERTopic\n",
        "Pada pemodelan BERTopic sedikit berbeda, BERTopic lebih cangih dalam menangkap semantik pada kata sehingga teks utuk lah yang akan diaplikasikan pada model ini. Model embedding yang digunakan adalah \"all-MiniLM-L6-v2\"."
      ],
      "metadata": {
        "id": "Doq3aEen4TV1"
      }
    },
    {
      "cell_type": "code",
      "source": [
        "!pip install bertopic"
      ],
      "metadata": {
        "colab": {
          "base_uri": "https://localhost:8080/"
        },
        "id": "tv-0XZyyxvGS",
        "outputId": "1cd24f85-5609-4588-d24a-8dcbf4392b46"
      },
      "execution_count": 15,
      "outputs": [
        {
          "output_type": "stream",
          "name": "stdout",
          "text": [
            "Collecting bertopic\n",
            "  Downloading bertopic-0.17.3-py3-none-any.whl.metadata (24 kB)\n",
            "Requirement already satisfied: hdbscan>=0.8.29 in /usr/local/lib/python3.11/dist-packages (from bertopic) (0.8.40)\n",
            "Requirement already satisfied: umap-learn>=0.5.0 in /usr/local/lib/python3.11/dist-packages (from bertopic) (0.5.9.post2)\n",
            "Requirement already satisfied: numpy>=1.20.0 in /usr/local/lib/python3.11/dist-packages (from bertopic) (1.26.4)\n",
            "Requirement already satisfied: pandas>=1.1.5 in /usr/local/lib/python3.11/dist-packages (from bertopic) (2.2.2)\n",
            "Requirement already satisfied: plotly>=4.7.0 in /usr/local/lib/python3.11/dist-packages (from bertopic) (5.24.1)\n",
            "Requirement already satisfied: scikit-learn>=1.0 in /usr/local/lib/python3.11/dist-packages (from bertopic) (1.6.1)\n",
            "Requirement already satisfied: sentence-transformers>=0.4.1 in /usr/local/lib/python3.11/dist-packages (from bertopic) (4.1.0)\n",
            "Requirement already satisfied: tqdm>=4.41.1 in /usr/local/lib/python3.11/dist-packages (from bertopic) (4.67.1)\n",
            "Requirement already satisfied: llvmlite>0.36.0 in /usr/local/lib/python3.11/dist-packages (from bertopic) (0.43.0)\n",
            "Requirement already satisfied: scipy>=1.0 in /usr/local/lib/python3.11/dist-packages (from hdbscan>=0.8.29->bertopic) (1.13.1)\n",
            "Requirement already satisfied: joblib>=1.0 in /usr/local/lib/python3.11/dist-packages (from hdbscan>=0.8.29->bertopic) (1.5.1)\n",
            "Requirement already satisfied: python-dateutil>=2.8.2 in /usr/local/lib/python3.11/dist-packages (from pandas>=1.1.5->bertopic) (2.9.0.post0)\n",
            "Requirement already satisfied: pytz>=2020.1 in /usr/local/lib/python3.11/dist-packages (from pandas>=1.1.5->bertopic) (2025.2)\n",
            "Requirement already satisfied: tzdata>=2022.7 in /usr/local/lib/python3.11/dist-packages (from pandas>=1.1.5->bertopic) (2025.2)\n",
            "Requirement already satisfied: tenacity>=6.2.0 in /usr/local/lib/python3.11/dist-packages (from plotly>=4.7.0->bertopic) (8.5.0)\n",
            "Requirement already satisfied: packaging in /usr/local/lib/python3.11/dist-packages (from plotly>=4.7.0->bertopic) (25.0)\n",
            "Requirement already satisfied: threadpoolctl>=3.1.0 in /usr/local/lib/python3.11/dist-packages (from scikit-learn>=1.0->bertopic) (3.6.0)\n",
            "Requirement already satisfied: transformers<5.0.0,>=4.41.0 in /usr/local/lib/python3.11/dist-packages (from sentence-transformers>=0.4.1->bertopic) (4.54.0)\n",
            "Requirement already satisfied: torch>=1.11.0 in /usr/local/lib/python3.11/dist-packages (from sentence-transformers>=0.4.1->bertopic) (2.6.0+cu124)\n",
            "Requirement already satisfied: huggingface-hub>=0.20.0 in /usr/local/lib/python3.11/dist-packages (from sentence-transformers>=0.4.1->bertopic) (0.34.1)\n",
            "Requirement already satisfied: Pillow in /usr/local/lib/python3.11/dist-packages (from sentence-transformers>=0.4.1->bertopic) (11.3.0)\n",
            "Requirement already satisfied: typing_extensions>=4.5.0 in /usr/local/lib/python3.11/dist-packages (from sentence-transformers>=0.4.1->bertopic) (4.14.1)\n",
            "Requirement already satisfied: numba>=0.51.2 in /usr/local/lib/python3.11/dist-packages (from umap-learn>=0.5.0->bertopic) (0.60.0)\n",
            "Requirement already satisfied: pynndescent>=0.5 in /usr/local/lib/python3.11/dist-packages (from umap-learn>=0.5.0->bertopic) (0.5.13)\n",
            "Requirement already satisfied: filelock in /usr/local/lib/python3.11/dist-packages (from huggingface-hub>=0.20.0->sentence-transformers>=0.4.1->bertopic) (3.18.0)\n",
            "Requirement already satisfied: fsspec>=2023.5.0 in /usr/local/lib/python3.11/dist-packages (from huggingface-hub>=0.20.0->sentence-transformers>=0.4.1->bertopic) (2025.3.0)\n",
            "Requirement already satisfied: pyyaml>=5.1 in /usr/local/lib/python3.11/dist-packages (from huggingface-hub>=0.20.0->sentence-transformers>=0.4.1->bertopic) (6.0.2)\n",
            "Requirement already satisfied: requests in /usr/local/lib/python3.11/dist-packages (from huggingface-hub>=0.20.0->sentence-transformers>=0.4.1->bertopic) (2.32.3)\n",
            "Requirement already satisfied: hf-xet<2.0.0,>=1.1.3 in /usr/local/lib/python3.11/dist-packages (from huggingface-hub>=0.20.0->sentence-transformers>=0.4.1->bertopic) (1.1.5)\n",
            "Requirement already satisfied: six>=1.5 in /usr/local/lib/python3.11/dist-packages (from python-dateutil>=2.8.2->pandas>=1.1.5->bertopic) (1.17.0)\n",
            "Requirement already satisfied: networkx in /usr/local/lib/python3.11/dist-packages (from torch>=1.11.0->sentence-transformers>=0.4.1->bertopic) (3.5)\n",
            "Requirement already satisfied: jinja2 in /usr/local/lib/python3.11/dist-packages (from torch>=1.11.0->sentence-transformers>=0.4.1->bertopic) (3.1.6)\n",
            "Collecting nvidia-cuda-nvrtc-cu12==12.4.127 (from torch>=1.11.0->sentence-transformers>=0.4.1->bertopic)\n",
            "  Downloading nvidia_cuda_nvrtc_cu12-12.4.127-py3-none-manylinux2014_x86_64.whl.metadata (1.5 kB)\n",
            "Collecting nvidia-cuda-runtime-cu12==12.4.127 (from torch>=1.11.0->sentence-transformers>=0.4.1->bertopic)\n",
            "  Downloading nvidia_cuda_runtime_cu12-12.4.127-py3-none-manylinux2014_x86_64.whl.metadata (1.5 kB)\n",
            "Collecting nvidia-cuda-cupti-cu12==12.4.127 (from torch>=1.11.0->sentence-transformers>=0.4.1->bertopic)\n",
            "  Downloading nvidia_cuda_cupti_cu12-12.4.127-py3-none-manylinux2014_x86_64.whl.metadata (1.6 kB)\n",
            "Collecting nvidia-cudnn-cu12==9.1.0.70 (from torch>=1.11.0->sentence-transformers>=0.4.1->bertopic)\n",
            "  Downloading nvidia_cudnn_cu12-9.1.0.70-py3-none-manylinux2014_x86_64.whl.metadata (1.6 kB)\n",
            "Collecting nvidia-cublas-cu12==12.4.5.8 (from torch>=1.11.0->sentence-transformers>=0.4.1->bertopic)\n",
            "  Downloading nvidia_cublas_cu12-12.4.5.8-py3-none-manylinux2014_x86_64.whl.metadata (1.5 kB)\n",
            "Collecting nvidia-cufft-cu12==11.2.1.3 (from torch>=1.11.0->sentence-transformers>=0.4.1->bertopic)\n",
            "  Downloading nvidia_cufft_cu12-11.2.1.3-py3-none-manylinux2014_x86_64.whl.metadata (1.5 kB)\n",
            "Collecting nvidia-curand-cu12==10.3.5.147 (from torch>=1.11.0->sentence-transformers>=0.4.1->bertopic)\n",
            "  Downloading nvidia_curand_cu12-10.3.5.147-py3-none-manylinux2014_x86_64.whl.metadata (1.5 kB)\n",
            "Collecting nvidia-cusolver-cu12==11.6.1.9 (from torch>=1.11.0->sentence-transformers>=0.4.1->bertopic)\n",
            "  Downloading nvidia_cusolver_cu12-11.6.1.9-py3-none-manylinux2014_x86_64.whl.metadata (1.6 kB)\n",
            "Collecting nvidia-cusparse-cu12==12.3.1.170 (from torch>=1.11.0->sentence-transformers>=0.4.1->bertopic)\n",
            "  Downloading nvidia_cusparse_cu12-12.3.1.170-py3-none-manylinux2014_x86_64.whl.metadata (1.6 kB)\n",
            "Requirement already satisfied: nvidia-cusparselt-cu12==0.6.2 in /usr/local/lib/python3.11/dist-packages (from torch>=1.11.0->sentence-transformers>=0.4.1->bertopic) (0.6.2)\n",
            "Requirement already satisfied: nvidia-nccl-cu12==2.21.5 in /usr/local/lib/python3.11/dist-packages (from torch>=1.11.0->sentence-transformers>=0.4.1->bertopic) (2.21.5)\n",
            "Requirement already satisfied: nvidia-nvtx-cu12==12.4.127 in /usr/local/lib/python3.11/dist-packages (from torch>=1.11.0->sentence-transformers>=0.4.1->bertopic) (12.4.127)\n",
            "Collecting nvidia-nvjitlink-cu12==12.4.127 (from torch>=1.11.0->sentence-transformers>=0.4.1->bertopic)\n",
            "  Downloading nvidia_nvjitlink_cu12-12.4.127-py3-none-manylinux2014_x86_64.whl.metadata (1.5 kB)\n",
            "Requirement already satisfied: triton==3.2.0 in /usr/local/lib/python3.11/dist-packages (from torch>=1.11.0->sentence-transformers>=0.4.1->bertopic) (3.2.0)\n",
            "Requirement already satisfied: sympy==1.13.1 in /usr/local/lib/python3.11/dist-packages (from torch>=1.11.0->sentence-transformers>=0.4.1->bertopic) (1.13.1)\n",
            "Requirement already satisfied: mpmath<1.4,>=1.1.0 in /usr/local/lib/python3.11/dist-packages (from sympy==1.13.1->torch>=1.11.0->sentence-transformers>=0.4.1->bertopic) (1.3.0)\n",
            "Requirement already satisfied: regex!=2019.12.17 in /usr/local/lib/python3.11/dist-packages (from transformers<5.0.0,>=4.41.0->sentence-transformers>=0.4.1->bertopic) (2024.11.6)\n",
            "Requirement already satisfied: tokenizers<0.22,>=0.21 in /usr/local/lib/python3.11/dist-packages (from transformers<5.0.0,>=4.41.0->sentence-transformers>=0.4.1->bertopic) (0.21.2)\n",
            "Requirement already satisfied: safetensors>=0.4.3 in /usr/local/lib/python3.11/dist-packages (from transformers<5.0.0,>=4.41.0->sentence-transformers>=0.4.1->bertopic) (0.5.3)\n",
            "Requirement already satisfied: MarkupSafe>=2.0 in /usr/local/lib/python3.11/dist-packages (from jinja2->torch>=1.11.0->sentence-transformers>=0.4.1->bertopic) (3.0.2)\n",
            "Requirement already satisfied: charset-normalizer<4,>=2 in /usr/local/lib/python3.11/dist-packages (from requests->huggingface-hub>=0.20.0->sentence-transformers>=0.4.1->bertopic) (3.4.2)\n",
            "Requirement already satisfied: idna<4,>=2.5 in /usr/local/lib/python3.11/dist-packages (from requests->huggingface-hub>=0.20.0->sentence-transformers>=0.4.1->bertopic) (3.10)\n",
            "Requirement already satisfied: urllib3<3,>=1.21.1 in /usr/local/lib/python3.11/dist-packages (from requests->huggingface-hub>=0.20.0->sentence-transformers>=0.4.1->bertopic) (2.5.0)\n",
            "Requirement already satisfied: certifi>=2017.4.17 in /usr/local/lib/python3.11/dist-packages (from requests->huggingface-hub>=0.20.0->sentence-transformers>=0.4.1->bertopic) (2025.7.14)\n",
            "Downloading bertopic-0.17.3-py3-none-any.whl (153 kB)\n",
            "\u001b[2K   \u001b[90m━━━━━━━━━━━━━━━━━━━━━━━━━━━━━━━━━━━━━━━━\u001b[0m \u001b[32m153.0/153.0 kB\u001b[0m \u001b[31m8.4 MB/s\u001b[0m eta \u001b[36m0:00:00\u001b[0m\n",
            "\u001b[?25hDownloading nvidia_cublas_cu12-12.4.5.8-py3-none-manylinux2014_x86_64.whl (363.4 MB)\n",
            "\u001b[2K   \u001b[90m━━━━━━━━━━━━━━━━━━━━━━━━━━━━━━━━━━━━━━━━\u001b[0m \u001b[32m363.4/363.4 MB\u001b[0m \u001b[31m4.2 MB/s\u001b[0m eta \u001b[36m0:00:00\u001b[0m\n",
            "\u001b[?25hDownloading nvidia_cuda_cupti_cu12-12.4.127-py3-none-manylinux2014_x86_64.whl (13.8 MB)\n",
            "\u001b[2K   \u001b[90m━━━━━━━━━━━━━━━━━━━━━━━━━━━━━━━━━━━━━━━━\u001b[0m \u001b[32m13.8/13.8 MB\u001b[0m \u001b[31m53.2 MB/s\u001b[0m eta \u001b[36m0:00:00\u001b[0m\n",
            "\u001b[?25hDownloading nvidia_cuda_nvrtc_cu12-12.4.127-py3-none-manylinux2014_x86_64.whl (24.6 MB)\n",
            "\u001b[2K   \u001b[90m━━━━━━━━━━━━━━━━━━━━━━━━━━━━━━━━━━━━━━━━\u001b[0m \u001b[32m24.6/24.6 MB\u001b[0m \u001b[31m32.5 MB/s\u001b[0m eta \u001b[36m0:00:00\u001b[0m\n",
            "\u001b[?25hDownloading nvidia_cuda_runtime_cu12-12.4.127-py3-none-manylinux2014_x86_64.whl (883 kB)\n",
            "\u001b[2K   \u001b[90m━━━━━━━━━━━━━━━━━━━━━━━━━━━━━━━━━━━━━━━━\u001b[0m \u001b[32m883.7/883.7 kB\u001b[0m \u001b[31m41.1 MB/s\u001b[0m eta \u001b[36m0:00:00\u001b[0m\n",
            "\u001b[?25hDownloading nvidia_cudnn_cu12-9.1.0.70-py3-none-manylinux2014_x86_64.whl (664.8 MB)\n",
            "\u001b[2K   \u001b[90m━━━━━━━━━━━━━━━━━━━━━━━━━━━━━━━━━━━━━━━\u001b[0m \u001b[32m664.8/664.8 MB\u001b[0m \u001b[31m983.8 kB/s\u001b[0m eta \u001b[36m0:00:00\u001b[0m\n",
            "\u001b[?25hDownloading nvidia_cufft_cu12-11.2.1.3-py3-none-manylinux2014_x86_64.whl (211.5 MB)\n",
            "\u001b[2K   \u001b[90m━━━━━━━━━━━━━━━━━━━━━━━━━━━━━━━━━━━━━━━━\u001b[0m \u001b[32m211.5/211.5 MB\u001b[0m \u001b[31m8.0 MB/s\u001b[0m eta \u001b[36m0:00:00\u001b[0m\n",
            "\u001b[?25hDownloading nvidia_curand_cu12-10.3.5.147-py3-none-manylinux2014_x86_64.whl (56.3 MB)\n",
            "\u001b[2K   \u001b[90m━━━━━━━━━━━━━━━━━━━━━━━━━━━━━━━━━━━━━━━━\u001b[0m \u001b[32m56.3/56.3 MB\u001b[0m \u001b[31m16.0 MB/s\u001b[0m eta \u001b[36m0:00:00\u001b[0m\n",
            "\u001b[?25hDownloading nvidia_cusolver_cu12-11.6.1.9-py3-none-manylinux2014_x86_64.whl (127.9 MB)\n",
            "\u001b[2K   \u001b[90m━━━━━━━━━━━━━━━━━━━━━━━━━━━━━━━━━━━━━━━━\u001b[0m \u001b[32m127.9/127.9 MB\u001b[0m \u001b[31m9.1 MB/s\u001b[0m eta \u001b[36m0:00:00\u001b[0m\n",
            "\u001b[?25hDownloading nvidia_cusparse_cu12-12.3.1.170-py3-none-manylinux2014_x86_64.whl (207.5 MB)\n",
            "\u001b[2K   \u001b[90m━━━━━━━━━━━━━━━━━━━━━━━━━━━━━━━━━━━━━━━━\u001b[0m \u001b[32m207.5/207.5 MB\u001b[0m \u001b[31m8.0 MB/s\u001b[0m eta \u001b[36m0:00:00\u001b[0m\n",
            "\u001b[?25hDownloading nvidia_nvjitlink_cu12-12.4.127-py3-none-manylinux2014_x86_64.whl (21.1 MB)\n",
            "\u001b[2K   \u001b[90m━━━━━━━━━━━━━━━━━━━━━━━━━━━━━━━━━━━━━━━━\u001b[0m \u001b[32m21.1/21.1 MB\u001b[0m \u001b[31m29.7 MB/s\u001b[0m eta \u001b[36m0:00:00\u001b[0m\n",
            "\u001b[?25hInstalling collected packages: nvidia-nvjitlink-cu12, nvidia-curand-cu12, nvidia-cufft-cu12, nvidia-cuda-runtime-cu12, nvidia-cuda-nvrtc-cu12, nvidia-cuda-cupti-cu12, nvidia-cublas-cu12, nvidia-cusparse-cu12, nvidia-cudnn-cu12, nvidia-cusolver-cu12, bertopic\n",
            "  Attempting uninstall: nvidia-nvjitlink-cu12\n",
            "    Found existing installation: nvidia-nvjitlink-cu12 12.5.82\n",
            "    Uninstalling nvidia-nvjitlink-cu12-12.5.82:\n",
            "      Successfully uninstalled nvidia-nvjitlink-cu12-12.5.82\n",
            "  Attempting uninstall: nvidia-curand-cu12\n",
            "    Found existing installation: nvidia-curand-cu12 10.3.6.82\n",
            "    Uninstalling nvidia-curand-cu12-10.3.6.82:\n",
            "      Successfully uninstalled nvidia-curand-cu12-10.3.6.82\n",
            "  Attempting uninstall: nvidia-cufft-cu12\n",
            "    Found existing installation: nvidia-cufft-cu12 11.2.3.61\n",
            "    Uninstalling nvidia-cufft-cu12-11.2.3.61:\n",
            "      Successfully uninstalled nvidia-cufft-cu12-11.2.3.61\n",
            "  Attempting uninstall: nvidia-cuda-runtime-cu12\n",
            "    Found existing installation: nvidia-cuda-runtime-cu12 12.5.82\n",
            "    Uninstalling nvidia-cuda-runtime-cu12-12.5.82:\n",
            "      Successfully uninstalled nvidia-cuda-runtime-cu12-12.5.82\n",
            "  Attempting uninstall: nvidia-cuda-nvrtc-cu12\n",
            "    Found existing installation: nvidia-cuda-nvrtc-cu12 12.5.82\n",
            "    Uninstalling nvidia-cuda-nvrtc-cu12-12.5.82:\n",
            "      Successfully uninstalled nvidia-cuda-nvrtc-cu12-12.5.82\n",
            "  Attempting uninstall: nvidia-cuda-cupti-cu12\n",
            "    Found existing installation: nvidia-cuda-cupti-cu12 12.5.82\n",
            "    Uninstalling nvidia-cuda-cupti-cu12-12.5.82:\n",
            "      Successfully uninstalled nvidia-cuda-cupti-cu12-12.5.82\n",
            "  Attempting uninstall: nvidia-cublas-cu12\n",
            "    Found existing installation: nvidia-cublas-cu12 12.5.3.2\n",
            "    Uninstalling nvidia-cublas-cu12-12.5.3.2:\n",
            "      Successfully uninstalled nvidia-cublas-cu12-12.5.3.2\n",
            "  Attempting uninstall: nvidia-cusparse-cu12\n",
            "    Found existing installation: nvidia-cusparse-cu12 12.5.1.3\n",
            "    Uninstalling nvidia-cusparse-cu12-12.5.1.3:\n",
            "      Successfully uninstalled nvidia-cusparse-cu12-12.5.1.3\n",
            "  Attempting uninstall: nvidia-cudnn-cu12\n",
            "    Found existing installation: nvidia-cudnn-cu12 9.3.0.75\n",
            "    Uninstalling nvidia-cudnn-cu12-9.3.0.75:\n",
            "      Successfully uninstalled nvidia-cudnn-cu12-9.3.0.75\n",
            "  Attempting uninstall: nvidia-cusolver-cu12\n",
            "    Found existing installation: nvidia-cusolver-cu12 11.6.3.83\n",
            "    Uninstalling nvidia-cusolver-cu12-11.6.3.83:\n",
            "      Successfully uninstalled nvidia-cusolver-cu12-11.6.3.83\n",
            "Successfully installed bertopic-0.17.3 nvidia-cublas-cu12-12.4.5.8 nvidia-cuda-cupti-cu12-12.4.127 nvidia-cuda-nvrtc-cu12-12.4.127 nvidia-cuda-runtime-cu12-12.4.127 nvidia-cudnn-cu12-9.1.0.70 nvidia-cufft-cu12-11.2.1.3 nvidia-curand-cu12-10.3.5.147 nvidia-cusolver-cu12-11.6.1.9 nvidia-cusparse-cu12-12.3.1.170 nvidia-nvjitlink-cu12-12.4.127\n"
          ]
        }
      ]
    },
    {
      "cell_type": "code",
      "source": [
        "import torch\n",
        "\n",
        "# Menggunakan GPU T4 dari google colab\n",
        "if torch.cuda.is_available():\n",
        "    print(\"GPU terdeteksi!\")\n",
        "    print(f\"Nama GPU: {torch.cuda.get_device_name(0)}\")\n",
        "    device = \"cuda\"\n",
        "else:\n",
        "    # Jika tidak, beri peringatan\n",
        "    print(\"GPU tidak ditemukan.\")\n",
        "    device = \"cpu\""
      ],
      "metadata": {
        "colab": {
          "base_uri": "https://localhost:8080/"
        },
        "id": "C9rnYKyYx2p9",
        "outputId": "31cf0032-dd40-4428-e728-aa3c62a60fc6"
      },
      "execution_count": 16,
      "outputs": [
        {
          "output_type": "stream",
          "name": "stdout",
          "text": [
            "GPU terdeteksi!\n",
            "Nama GPU: Tesla T4\n"
          ]
        }
      ]
    },
    {
      "cell_type": "markdown",
      "source": [
        "### Klarifikasi\n",
        "Progress Bar (output cell) saat training model BERTOpic dihapus, dikarenakan tidak dapat ditampilkan (preview) oleh GitHub."
      ],
      "metadata": {
        "id": "Smft8RYzaExK"
      }
    },
    {
      "cell_type": "code",
      "source": [
        "\"\"\"Kode dibawah adalah kode untuk melakukan pemodelan dengan BERTopic.\"\"\"\n",
        "\n",
        "from bertopic import BERTopic\n",
        "from sentence_transformers import SentenceTransformer\n",
        "import pandas as pd\n",
        "\n",
        "# Pada tugas ini, model embedding yang digunakan adlaah \"all-MiniLM-L6-v2\"\n",
        "embedding_model_name = \"all-MiniLM-L6-v2\"\n",
        "\n",
        "# Memuat model ke GPU dengan SentenceTransformer\n",
        "embedding_model = SentenceTransformer(embedding_model_name, device=device)\n",
        "\n",
        "print(f\"Embedding model '{embedding_model_name}' siap digunakan di {device}.\")\n",
        "\n",
        "# Inisiasi BERTopic\n",
        "topic_model = BERTopic(\n",
        "    embedding_model=embedding_model,\n",
        "    language=\"english\",\n",
        "    calculate_probabilities=True,\n",
        "    verbose=True, #\n",
        "    min_topic_size=50\n",
        ")\n",
        "\n",
        "# Mempersiapkan dokumen dari kolom 'text'\n",
        "docs_for_bertopic = df['text'].tolist()\n",
        "\n",
        "# Training model BERTopic\n",
        "topics, probs = topic_model.fit_transform(docs_for_bertopic)"
      ],
      "metadata": {
        "id": "phw6VzQFxsPz"
      },
      "execution_count": null,
      "outputs": []
    },
    {
      "cell_type": "code",
      "source": [
        "# Menampilkan hasil BERTopic\n",
        "print(\"\\nRingkasan topik yang ditemukan oleh BERTopic:\")\n",
        "print(topic_model.get_topic_info())"
      ],
      "metadata": {
        "colab": {
          "base_uri": "https://localhost:8080/"
        },
        "id": "mTo5ulogyuZi",
        "outputId": "6c294988-4220-4e88-b95b-801a1dda5a28"
      },
      "execution_count": 18,
      "outputs": [
        {
          "output_type": "stream",
          "name": "stdout",
          "text": [
            "\n",
            "Ringkasan topik yang ditemukan oleh BERTopic:\n",
            "    Topic  Count                         Name  \\\n",
            "0      -1    833              -1_the_of_in_we   \n",
            "1       0   4948              0_the_and_to_of   \n",
            "2       1   1188              1_the_of_and_in   \n",
            "3       2    858              2_the_of_in_and   \n",
            "4       3    551              3_of_the_we_and   \n",
            "5       4    380          4_quantum_the_of_to   \n",
            "6       5    324              5_the_of_and_in   \n",
            "7       6    223            6_the_of_black_in   \n",
            "8       7    173               7_of_the_we_in   \n",
            "9       8    170        8_graphs_graph_of_the   \n",
            "10      9    166  9_the_of_solutions_equation   \n",
            "11     10    129             10_of_the_in_and   \n",
            "12     11     57         11_codes_the_of_code   \n",
            "\n",
            "                                       Representation  \\\n",
            "0       [the, of, in, we, and, for, is, to, that, on]   \n",
            "1       [the, and, to, of, in, for, we, on, that, is]   \n",
            "2     [the, of, and, in, to, with, we, for, is, that]   \n",
            "3      [the, of, in, and, to, spin, we, with, by, is]   \n",
            "4   [of, the, we, and, in, is, for, mathbb, that, ...   \n",
            "5   [quantum, the, of, to, and, in, we, for, that,...   \n",
            "6     [the, of, and, in, is, to, for, flow, with, we]   \n",
            "7   [the, of, black, in, we, hole, and, gravity, t...   \n",
            "8   [of, the, we, in, mathbb, and, curvature, on, ...   \n",
            "9   [graphs, graph, of, the, is, for, and, we, in,...   \n",
            "10  [the, of, solutions, equation, in, we, for, an...   \n",
            "11    [of, the, in, and, we, is, for, that, to, this]   \n",
            "12  [codes, the, of, code, we, and, decoding, to, ...   \n",
            "\n",
            "                                  Representative_Docs  \n",
            "0   [A Spectral Target Signature for Thin Surfaces...  \n",
            "1   [Generalization of Change-Point Detection in T...  \n",
            "2   [Spatially Coherent 3D Distributions of HI and...  \n",
            "3   [Excitonic Correlations, Spin-State Ordering, ...  \n",
            "4   [An approximate form of Artin's holomorphy con...  \n",
            "5   [Fully quantum inflation: quantum marginal pro...  \n",
            "6   [Level-Set Topology Optimization for Ductile a...  \n",
            "7   [Non-Isometric Quantum Error Correction in Gra...  \n",
            "8   [Weighted monotonicity theorems and applicatio...  \n",
            "9   [Hamiltonicity of graphs perturbed by a random...  \n",
            "10  [Quasilinear logarithmic Choquard equations wi...  \n",
            "11  [Separability in B\\\"uchi Vass and Singly Non-L...  \n",
            "12  [Skew Cyclic Codes Over $\\mathbb{F}_4 R$   Thi...  \n"
          ]
        }
      ]
    },
    {
      "cell_type": "markdown",
      "source": [
        "# Evaluasi"
      ],
      "metadata": {
        "id": "cTbsp_jz6Wtr"
      }
    },
    {
      "cell_type": "code",
      "source": [
        "from gensim.models import CoherenceModel\n",
        "import matplotlib.pyplot as plt\n",
        "\n",
        "def compute_coherence_values(dictionary, corpus, texts, limit, start=2, step=3):\n",
        "    #Menghitung skor koherensi untuk berbagai jumlah topik.\n",
        "    coherence_values = []\n",
        "    model_list = []\n",
        "    for num_topics in range(start, limit, step):\n",
        "        model = LdaModel(corpus=corpus, num_topics=num_topics, id2word=dictionary, random_state=42, passes=5)\n",
        "        model_list.append(model)\n",
        "        coherencemodel = CoherenceModel(model=model, texts=texts, dictionary=dictionary, coherence='c_v')\n",
        "        coherence_values.append(coherencemodel.get_coherence())\n",
        "        print(f\"Selesai menghitung untuk {num_topics} topik.\")\n",
        "    return model_list, coherence_values\n",
        "\n",
        "# Menentukan rentang jumlah topik yang ingin diuji\n",
        "# Uji dari 5 sampai 40 topik, dengan loncatan 5\n",
        "start=5; limit=41; step=5;\n",
        "\n",
        "print(\"Memulai perhitungan Coherence Score\")\n",
        "model_list_lda, coherence_values_lda = compute_coherence_values(\n",
        "    dictionary=dictionary,\n",
        "    corpus=corpus,\n",
        "    texts=documents,\n",
        "    start=start,\n",
        "    limit=limit,\n",
        "    step=step\n",
        ")\n",
        "\n",
        "# Visualisasi hasil\n",
        "x = range(start, limit, step)\n",
        "plt.figure(figsize=(10, 6))\n",
        "plt.plot(x, coherence_values_lda)\n",
        "plt.xlabel(\"Jumlah Topik\")\n",
        "plt.ylabel(\"Coherence score (c_v)\")\n",
        "plt.title(\"Coherence Score LDA vs. Jumlah Topik\")\n",
        "plt.xticks(x)\n",
        "plt.grid(True)\n",
        "plt.show()\n",
        "\n",
        "# Mencari skor teritnggi\n",
        "optimal_idx = coherence_values_lda.index(max(coherence_values_lda))\n",
        "optimal_num_topics_lda = x[optimal_idx]\n",
        "print(f\"\\nJumlah topik optimal untuk LDA adalah: {optimal_num_topics_lda} dengan Coherence Score {max(coherence_values_lda):.4f}\")"
      ],
      "metadata": {
        "colab": {
          "base_uri": "https://localhost:8080/",
          "height": 767
        },
        "id": "mHtBnEGv6Ylg",
        "outputId": "21e7fa6a-fd45-46ad-83af-411c4112e1d0"
      },
      "execution_count": 19,
      "outputs": [
        {
          "output_type": "stream",
          "name": "stdout",
          "text": [
            "Memulai perhitungan Coherence Score\n",
            "Selesai menghitung untuk 5 topik.\n",
            "Selesai menghitung untuk 10 topik.\n",
            "Selesai menghitung untuk 15 topik.\n",
            "Selesai menghitung untuk 20 topik.\n",
            "Selesai menghitung untuk 25 topik.\n",
            "Selesai menghitung untuk 30 topik.\n",
            "Selesai menghitung untuk 35 topik.\n",
            "Selesai menghitung untuk 40 topik.\n"
          ]
        },
        {
          "output_type": "display_data",
          "data": {
            "text/plain": [
              "<Figure size 1000x600 with 1 Axes>"
            ],
            "image/png": "[encoded data removed]"
          },
          "metadata": {}
        },
        {
          "output_type": "stream",
          "name": "stdout",
          "text": [
            "\n",
            "Jumlah topik optimal untuk LDA adalah: 20 dengan Coherence Score 0.4753\n"
          ]
        }
      ]
    },
    {
      "cell_type": "code",
      "source": [
        "# Kita gunakan jumlah topik optimal yang kita temukan dari grafik\n",
        "OPTIMAL_NUM_TOPICS = 20\n",
        "\n",
        "print(f\"Melatih satu model LDA final dengan {OPTIMAL_NUM_TOPICS} topik...\")\n",
        "\n",
        "# Latih model LDA terbaik kita dengan parameter yang sama\n",
        "best_lda_model = LdaModel(\n",
        "    corpus=corpus,\n",
        "    id2word=dictionary,\n",
        "    num_topics=OPTIMAL_NUM_TOPICS,\n",
        "    random_state=42,       # Pastikan random_state sama untuk konsistensi\n",
        "    passes=10,             # Jumlah iterasi training\n",
        "    alpha='auto',\n",
        "    eta='auto'\n",
        ")\n",
        "\n",
        "# Tampilkan 10 kata kunci teratas untuk setiap topik dari model terbaik\n",
        "print(\"\\nTopik yang ditemukan oleh model LDA terbaik (K=20):\")\n",
        "topics = best_lda_model.print_topics(num_words=10)\n",
        "for topic in topics:\n",
        "    print(topic)"
      ],
      "metadata": {
        "colab": {
          "base_uri": "https://localhost:8080/"
        },
        "id": "edWs5SRV4gdo",
        "outputId": "7b8ae80e-2c67-41ea-cd08-60af075ad7cb"
      },
      "execution_count": 20,
      "outputs": [
        {
          "output_type": "stream",
          "name": "stdout",
          "text": [
            "Melatih satu model LDA final dengan 20 topik...\n",
            "\n",
            "Topik yang ditemukan oleh model LDA terbaik (K=20):\n",
            "(0, '0.051*\"network\" + 0.023*\"neural\" + 0.022*\"model\" + 0.012*\"training\" + 0.012*\"learning\" + 0.011*\"performance\" + 0.010*\"architecture\" + 0.009*\"deep\" + 0.008*\"accuracy\" + 0.007*\"data\"')\n",
            "(1, '0.019*\"star\" + 0.012*\"observation\" + 0.010*\"emission\" + 0.010*\"source\" + 0.009*\"spectrum\" + 0.007*\"line\" + 0.007*\"data\" + 0.006*\"binary\" + 0.006*\"stellar\" + 0.006*\"mass\"')\n",
            "(2, '0.012*\"optical\" + 0.011*\"frequency\" + 0.011*\"mode\" + 0.011*\"material\" + 0.009*\"electron\" + 0.008*\"using\" + 0.008*\"device\" + 0.008*\"beam\" + 0.008*\"high\" + 0.008*\"signal\"')\n",
            "(3, '0.041*\"control\" + 0.033*\"agent\" + 0.025*\"policy\" + 0.022*\"environment\" + 0.020*\"robot\" + 0.019*\"system\" + 0.018*\"trajectory\" + 0.017*\"vehicle\" + 0.017*\"motion\" + 0.016*\"reinforcement\"')\n",
            "(4, '0.048*\"equation\" + 0.032*\"solution\" + 0.023*\"system\" + 0.018*\"condition\" + 0.016*\"nonlinear\" + 0.013*\"dynamic\" + 0.013*\"numerical\" + 0.013*\"boundary\" + 0.012*\"method\" + 0.011*\"time\"')\n",
            "(5, '0.082*\"group\" + 0.021*\"category\" + 0.016*\"finite\" + 0.016*\"lattice\" + 0.016*\"element\" + 0.013*\"type\" + 0.012*\"game\" + 0.010*\"cluster\" + 0.010*\"color\" + 0.010*\"subgroup\"')\n",
            "(6, '0.021*\"space\" + 0.021*\"function\" + 0.012*\"result\" + 0.012*\"algebra\" + 0.012*\"operator\" + 0.010*\"theorem\" + 0.009*\"prove\" + 0.009*\"paper\" + 0.009*\"class\" + 0.008*\"polynomial\"')\n",
            "(7, '0.026*\"field\" + 0.014*\"wave\" + 0.014*\"model\" + 0.013*\"particle\" + 0.013*\"hole\" + 0.013*\"black\" + 0.011*\"flow\" + 0.011*\"energy\" + 0.011*\"magnetic\" + 0.009*\"effect\"')\n",
            "(8, '0.025*\"point\" + 0.023*\"random\" + 0.015*\"one\" + 0.015*\"two\" + 0.014*\"positive\" + 0.013*\"entropy\" + 0.011*\"result\" + 0.011*\"process\" + 0.010*\"probability\" + 0.010*\"fixed\"')\n",
            "(9, '0.023*\"system\" + 0.011*\"data\" + 0.010*\"research\" + 0.010*\"user\" + 0.008*\"paper\" + 0.007*\"application\" + 0.007*\"design\" + 0.006*\"study\" + 0.006*\"challenge\" + 0.005*\"analysis\"')\n",
            "(10, '0.081*\"graph\" + 0.034*\"bound\" + 0.029*\"number\" + 0.019*\"set\" + 0.013*\"show\" + 0.012*\"vertex\" + 0.011*\"tree\" + 0.011*\"upper\" + 0.011*\"result\" + 0.010*\"lower\"')\n",
            "(11, '0.018*\"spin\" + 0.016*\"model\" + 0.012*\"state\" + 0.011*\"coupling\" + 0.011*\"dark\" + 0.010*\"matter\" + 0.010*\"symmetry\" + 0.010*\"mass\" + 0.009*\"magnetic\" + 0.009*\"decay\"')\n",
            "(12, '0.041*\"algorithm\" + 0.038*\"problem\" + 0.026*\"method\" + 0.017*\"optimization\" + 0.011*\"optimal\" + 0.009*\"proposed\" + 0.008*\"approach\" + 0.008*\"gradient\" + 0.007*\"function\" + 0.007*\"convergence\"')\n",
            "(13, '0.044*\"code\" + 0.029*\"galaxy\" + 0.022*\"mass\" + 0.020*\"channel\" + 0.019*\"rate\" + 0.016*\"formation\" + 0.013*\"distribution\" + 0.013*\"relation\" + 0.012*\"gas\" + 0.011*\"entanglement\"')\n",
            "(14, '0.023*\"learning\" + 0.019*\"method\" + 0.019*\"image\" + 0.015*\"data\" + 0.013*\"model\" + 0.011*\"feature\" + 0.009*\"detection\" + 0.009*\"object\" + 0.008*\"approach\" + 0.008*\"training\"')\n",
            "(15, '0.027*\"phase\" + 0.022*\"system\" + 0.017*\"state\" + 0.014*\"transition\" + 0.012*\"temperature\" + 0.012*\"dynamic\" + 0.011*\"surface\" + 0.011*\"interaction\" + 0.010*\"topological\" + 0.009*\"property\"')\n",
            "(16, '0.096*\"quantum\" + 0.026*\"state\" + 0.025*\"theory\" + 0.015*\"classical\" + 0.014*\"circuit\" + 0.008*\"model\" + 0.008*\"approach\" + 0.008*\"information\" + 0.007*\"using\" + 0.007*\"work\"')\n",
            "(17, '0.036*\"model\" + 0.023*\"data\" + 0.018*\"distribution\" + 0.017*\"method\" + 0.013*\"parameter\" + 0.010*\"analysis\" + 0.010*\"time\" + 0.010*\"estimation\" + 0.009*\"using\" + 0.009*\"uncertainty\"')\n",
            "(18, '0.044*\"model\" + 0.024*\"language\" + 0.019*\"task\" + 0.015*\"llm\" + 0.010*\"generation\" + 0.010*\"large\" + 0.009*\"text\" + 0.008*\"performance\" + 0.007*\"knowledge\" + 0.007*\"benchmark\"')\n",
            "(19, '0.017*\"model\" + 0.014*\"study\" + 0.013*\"using\" + 0.013*\"data\" + 0.011*\"analysis\" + 0.008*\"result\" + 0.008*\"prediction\" + 0.008*\"social\" + 0.007*\"different\" + 0.007*\"machine\"')\n"
          ]
        }
      ]
    },
    {
      "cell_type": "code",
      "source": [
        "print(\"Ringkasan topik dari BERTopic:\")\n",
        "topic_info = topic_model.get_topic_info()\n",
        "print(topic_info)\n",
        "\n",
        "print(f\"\\nBERTopic secara otomatis menemukan {len(topic_info) - 1} topik (tidak termasuk topik -1/outliers).\")"
      ],
      "metadata": {
        "colab": {
          "base_uri": "https://localhost:8080/"
        },
        "id": "NiGx_R6Q-F6y",
        "outputId": "78f47289-4a36-4d1e-bf51-06fa67b29ece"
      },
      "execution_count": 21,
      "outputs": [
        {
          "output_type": "stream",
          "name": "stdout",
          "text": [
            "Ringkasan topik dari BERTopic:\n",
            "    Topic  Count                         Name  \\\n",
            "0      -1    833              -1_the_of_in_we   \n",
            "1       0   4948              0_the_and_to_of   \n",
            "2       1   1188              1_the_of_and_in   \n",
            "3       2    858              2_the_of_in_and   \n",
            "4       3    551              3_of_the_we_and   \n",
            "5       4    380          4_quantum_the_of_to   \n",
            "6       5    324              5_the_of_and_in   \n",
            "7       6    223            6_the_of_black_in   \n",
            "8       7    173               7_of_the_we_in   \n",
            "9       8    170        8_graphs_graph_of_the   \n",
            "10      9    166  9_the_of_solutions_equation   \n",
            "11     10    129             10_of_the_in_and   \n",
            "12     11     57         11_codes_the_of_code   \n",
            "\n",
            "                                       Representation  \\\n",
            "0       [the, of, in, we, and, for, is, to, that, on]   \n",
            "1       [the, and, to, of, in, for, we, on, that, is]   \n",
            "2     [the, of, and, in, to, with, we, for, is, that]   \n",
            "3      [the, of, in, and, to, spin, we, with, by, is]   \n",
            "4   [of, the, we, and, in, is, for, mathbb, that, ...   \n",
            "5   [quantum, the, of, to, and, in, we, for, that,...   \n",
            "6     [the, of, and, in, is, to, for, flow, with, we]   \n",
            "7   [the, of, black, in, we, hole, and, gravity, t...   \n",
            "8   [of, the, we, in, mathbb, and, curvature, on, ...   \n",
            "9   [graphs, graph, of, the, is, for, and, we, in,...   \n",
            "10  [the, of, solutions, equation, in, we, for, an...   \n",
            "11    [of, the, in, and, we, is, for, that, to, this]   \n",
            "12  [codes, the, of, code, we, and, decoding, to, ...   \n",
            "\n",
            "                                  Representative_Docs  \n",
            "0   [A Spectral Target Signature for Thin Surfaces...  \n",
            "1   [Generalization of Change-Point Detection in T...  \n",
            "2   [Spatially Coherent 3D Distributions of HI and...  \n",
            "3   [Excitonic Correlations, Spin-State Ordering, ...  \n",
            "4   [An approximate form of Artin's holomorphy con...  \n",
            "5   [Fully quantum inflation: quantum marginal pro...  \n",
            "6   [Level-Set Topology Optimization for Ductile a...  \n",
            "7   [Non-Isometric Quantum Error Correction in Gra...  \n",
            "8   [Weighted monotonicity theorems and applicatio...  \n",
            "9   [Hamiltonicity of graphs perturbed by a random...  \n",
            "10  [Quasilinear logarithmic Choquard equations wi...  \n",
            "11  [Separability in B\\\"uchi Vass and Singly Non-L...  \n",
            "12  [Skew Cyclic Codes Over $\\mathbb{F}_4 R$   Thi...  \n",
            "\n",
            "BERTopic secara otomatis menemukan 12 topik (tidak termasuk topik -1/outliers).\n"
          ]
        }
      ]
    },
    {
      "cell_type": "code",
      "source": [
        "# Lihat 15 topik teratas dari BERTopic (berdasarkan jumlah dokumen)\n",
        "topic_info = topic_model.get_topic_info()\n",
        "print(topic_info.head(15))\n",
        "\n",
        "# Mari kita lihat isi dari beberapa topik teratas yang menarik\n",
        "print(\"\\nDetail untuk Topik 0:\")\n",
        "print(topic_model.get_topic(0))\n",
        "\n",
        "print(\"\\nDetail untuk Topik 2:\")\n",
        "print(topic_model.get_topic(2))"
      ],
      "metadata": {
        "colab": {
          "base_uri": "https://localhost:8080/"
        },
        "id": "iIDfnKle_CB7",
        "outputId": "9c5d5509-b75d-46af-cc5a-4e18a1d96822"
      },
      "execution_count": 22,
      "outputs": [
        {
          "output_type": "stream",
          "name": "stdout",
          "text": [
            "    Topic  Count                         Name  \\\n",
            "0      -1    833              -1_the_of_in_we   \n",
            "1       0   4948              0_the_and_to_of   \n",
            "2       1   1188              1_the_of_and_in   \n",
            "3       2    858              2_the_of_in_and   \n",
            "4       3    551              3_of_the_we_and   \n",
            "5       4    380          4_quantum_the_of_to   \n",
            "6       5    324              5_the_of_and_in   \n",
            "7       6    223            6_the_of_black_in   \n",
            "8       7    173               7_of_the_we_in   \n",
            "9       8    170        8_graphs_graph_of_the   \n",
            "10      9    166  9_the_of_solutions_equation   \n",
            "11     10    129             10_of_the_in_and   \n",
            "12     11     57         11_codes_the_of_code   \n",
            "\n",
            "                                       Representation  \\\n",
            "0       [the, of, in, we, and, for, is, to, that, on]   \n",
            "1       [the, and, to, of, in, for, we, on, that, is]   \n",
            "2     [the, of, and, in, to, with, we, for, is, that]   \n",
            "3      [the, of, in, and, to, spin, we, with, by, is]   \n",
            "4   [of, the, we, and, in, is, for, mathbb, that, ...   \n",
            "5   [quantum, the, of, to, and, in, we, for, that,...   \n",
            "6     [the, of, and, in, is, to, for, flow, with, we]   \n",
            "7   [the, of, black, in, we, hole, and, gravity, t...   \n",
            "8   [of, the, we, in, mathbb, and, curvature, on, ...   \n",
            "9   [graphs, graph, of, the, is, for, and, we, in,...   \n",
            "10  [the, of, solutions, equation, in, we, for, an...   \n",
            "11    [of, the, in, and, we, is, for, that, to, this]   \n",
            "12  [codes, the, of, code, we, and, decoding, to, ...   \n",
            "\n",
            "                                  Representative_Docs  \n",
            "0   [A Spectral Target Signature for Thin Surfaces...  \n",
            "1   [Generalization of Change-Point Detection in T...  \n",
            "2   [Spatially Coherent 3D Distributions of HI and...  \n",
            "3   [Excitonic Correlations, Spin-State Ordering, ...  \n",
            "4   [An approximate form of Artin's holomorphy con...  \n",
            "5   [Fully quantum inflation: quantum marginal pro...  \n",
            "6   [Level-Set Topology Optimization for Ductile a...  \n",
            "7   [Non-Isometric Quantum Error Correction in Gra...  \n",
            "8   [Weighted monotonicity theorems and applicatio...  \n",
            "9   [Hamiltonicity of graphs perturbed by a random...  \n",
            "10  [Quasilinear logarithmic Choquard equations wi...  \n",
            "11  [Separability in B\\\"uchi Vass and Singly Non-L...  \n",
            "12  [Skew Cyclic Codes Over $\\mathbb{F}_4 R$   Thi...  \n",
            "\n",
            "Detail untuk Topik 0:\n",
            "[('the', 0.04227431098205661), ('and', 0.03938782956256711), ('to', 0.03739899856494625), ('of', 0.03486207184626674), ('in', 0.030243798745149188), ('for', 0.026297633452851518), ('we', 0.024653844460086255), ('on', 0.021121935181648704), ('that', 0.020557051691809568), ('is', 0.019983447410870367)]\n",
            "\n",
            "Detail untuk Topik 2:\n",
            "[('the', 0.05588761145050308), ('of', 0.045818698141242654), ('in', 0.03800483142195642), ('and', 0.035297253738990925), ('to', 0.027174842624941287), ('spin', 0.024562526034977644), ('we', 0.02395148263065525), ('with', 0.022281667135519257), ('by', 0.021384618889215862), ('is', 0.02031869473464936)]\n"
          ]
        }
      ]
    },
    {
      "cell_type": "code",
      "source": [
        "def get_dominant_topic(doc_bow):\n",
        "    \"\"\"\n",
        "    Mendapatkan ID topik dengan probabilitas tertinggi untuk satu dokumen.\n",
        "    \"\"\"\n",
        "    try:\n",
        "        topic_dist = best_lda_model.get_document_topics(doc_bow, minimum_probability=0.0)\n",
        "        dominant_topic = max(topic_dist, key=lambda x: x[1])\n",
        "        return dominant_topic[0]\n",
        "    except:\n",
        "        # Jika dokumen kosong setelah preprocessing, kembalikan nilai null\n",
        "        return None\n",
        "\n",
        "# Pastikan panjang corpus dan df sesuai\n",
        "if len(corpus) == len(df):\n",
        "    print(\"Memproses setiap dokumen untuk menemukan topik dominannya dari LDA...\")\n",
        "\n",
        "    # Buat list berisi topik dominan untuk setiap dokumen\n",
        "    lda_topics = [get_dominant_topic(doc) for doc in corpus]\n",
        "\n",
        "    # Buat kolom baru di DataFrame\n",
        "    df['lda_topic'] = lda_topics\n",
        "\n",
        "    print(\"Selesai. Kolom 'lda_topic' berhasil ditambahkan.\")\n",
        "\n",
        "    # Verifikasi hasilnya:\n",
        "    print(\"\\nContoh hasil pelabelan topik LDA:\")\n",
        "    print(df[['text', 'lda_topic']].head())\n",
        "\n",
        "    print(\"\\nDistribusi dokumen per topik LDA:\")\n",
        "    print(df['lda_topic'].value_counts().sort_index())\n",
        "else:\n",
        "    print(\"Error: Panjang corpus LDA tidak sama dengan panjang DataFrame.\")"
      ],
      "metadata": {
        "colab": {
          "base_uri": "https://localhost:8080/"
        },
        "id": "Iz0IAE2CDRut",
        "outputId": "0890aabc-8790-438d-c5d5-e9bc7ddb6419"
      },
      "execution_count": 23,
      "outputs": [
        {
          "output_type": "stream",
          "name": "stdout",
          "text": [
            "Memproses setiap dokumen untuk menemukan topik dominannya dari LDA...\n",
            "Selesai. Kolom 'lda_topic' berhasil ditambahkan.\n",
            "\n",
            "Contoh hasil pelabelan topik LDA:\n",
            "                                                text  lda_topic\n",
            "0  Supervised Anomaly Detection Method Combining ...         14\n",
            "1  Balanced Excited Random Walk in Two Dimensions...          8\n",
            "2  Inference of multiple high-dimensional network...         17\n",
            "3  Summarize and Generate to Back-translate: Unsu...         18\n",
            "4  Entity Alignment For Knowledge Graphs: Progres...         18\n",
            "\n",
            "Distribusi dokumen per topik LDA:\n",
            "lda_topic\n",
            "0      557\n",
            "1      491\n",
            "2      479\n",
            "3      150\n",
            "4      427\n",
            "5      107\n",
            "6     1063\n",
            "7      473\n",
            "8      152\n",
            "9      906\n",
            "10     251\n",
            "11     475\n",
            "12     654\n",
            "13      69\n",
            "14    1174\n",
            "15     604\n",
            "16     246\n",
            "17     525\n",
            "18     838\n",
            "19     359\n",
            "Name: count, dtype: int64\n"
          ]
        }
      ]
    },
    {
      "cell_type": "code",
      "source": [
        "def analyze_lda_topic(topic_id):\n",
        "    \"\"\"\n",
        "    Menganalisis dan menampilkan komposisi kategori asli\n",
        "    untuk sebuah topik dari LDA.\n",
        "    \"\"\"\n",
        "    print(f\"\\n--- Menganalisis Topik LDA #{topic_id} ---\")\n",
        "\n",
        "    # Ambil kata kunci utama dari topik ini\n",
        "    keywords = [word for word, _ in best_lda_model.show_topic(topic_id, topn=10)]\n",
        "    print(f\"Kata Kunci Topik: {keywords}\")\n",
        "\n",
        "    # Filter paper yang termasuk dalam topik ini\n",
        "    papers_in_topic = df[df['lda_topic'] == topic_id]\n",
        "\n",
        "    if papers_in_topic.empty:\n",
        "        print(\"Tidak ada dokumen yang termasuk dalam topik ini.\")\n",
        "        return\n",
        "\n",
        "    # Hitung frekuensi setiap kategori asli\n",
        "    kategori_counts = papers_in_topic['categories'].str.split(' ').explode().value_counts()\n",
        "\n",
        "    print(\"\\n5 Kategori Asli Teratas dalam Topik ini:\")\n",
        "    print(kategori_counts.head(5))\n",
        "    print(\"-\"*(len(f\"Menganalisis Topik LDA #{topic_id}\") + 4))\n",
        "\n",
        "# Analisis semua 20 topik dari LDA\n",
        "print(\"\\n\" + \"=\"*50)\n",
        "print(\"ANALISIS VALIDASI EKSTERNAL UNTUK SETIAP TOPIK LDA\")\n",
        "print(\"=\"*50)\n",
        "\n",
        "if 'lda_topic' in df.columns:\n",
        "    for i in range(best_lda_model.num_topics):\n",
        "        analyze_lda_topic(i)\n",
        "else:\n",
        "    print(\"Kolom 'lda_topic' belum ada.\")"
      ],
      "metadata": {
        "id": "DVh9kps6D-ak",
        "outputId": "72c1e40a-8939-4b56-d32f-104daf8f82ba",
        "colab": {
          "base_uri": "https://localhost:8080/"
        }
      },
      "execution_count": 25,
      "outputs": [
        {
          "output_type": "stream",
          "name": "stdout",
          "text": [
            "\n",
            "==================================================\n",
            "ANALISIS VALIDASI EKSTERNAL UNTUK SETIAP TOPIK LDA\n",
            "==================================================\n",
            "\n",
            "--- Menganalisis Topik LDA #0 ---\n",
            "Kata Kunci Topik: ['network', 'neural', 'model', 'training', 'learning', 'performance', 'architecture', 'deep', 'accuracy', 'data']\n",
            "\n",
            "5 Kategori Asli Teratas dalam Topik ini:\n",
            "categories\n",
            "cs.LG      308\n",
            "cs.AI      122\n",
            "cs.CV       78\n",
            "cs.DC       51\n",
            "stat.ML     40\n",
            "Name: count, dtype: int64\n",
            "-----------------------------\n",
            "\n",
            "--- Menganalisis Topik LDA #1 ---\n",
            "Kata Kunci Topik: ['star', 'observation', 'emission', 'source', 'spectrum', 'line', 'data', 'binary', 'stellar', 'mass']\n",
            "\n",
            "5 Kategori Asli Teratas dalam Topik ini:\n",
            "categories\n",
            "astro-ph.GA    176\n",
            "astro-ph.HE    148\n",
            "astro-ph.SR    129\n",
            "astro-ph.EP     94\n",
            "astro-ph.CO     59\n",
            "Name: count, dtype: int64\n",
            "-----------------------------\n",
            "\n",
            "--- Menganalisis Topik LDA #2 ---\n",
            "Kata Kunci Topik: ['optical', 'frequency', 'mode', 'material', 'electron', 'using', 'device', 'beam', 'high', 'signal']\n",
            "\n",
            "5 Kategori Asli Teratas dalam Topik ini:\n",
            "categories\n",
            "physics.optics       136\n",
            "cond-mat.mtrl-sci     99\n",
            "quant-ph              78\n",
            "cond-mat.mes-hall     75\n",
            "physics.app-ph        66\n",
            "Name: count, dtype: int64\n",
            "-----------------------------\n",
            "\n",
            "--- Menganalisis Topik LDA #3 ---\n",
            "Kata Kunci Topik: ['control', 'agent', 'policy', 'environment', 'robot', 'system', 'trajectory', 'vehicle', 'motion', 'reinforcement']\n",
            "\n",
            "5 Kategori Asli Teratas dalam Topik ini:\n",
            "categories\n",
            "cs.RO      68\n",
            "eess.SY    41\n",
            "cs.SY      41\n",
            "cs.AI      38\n",
            "cs.LG      38\n",
            "Name: count, dtype: int64\n",
            "-----------------------------\n",
            "\n",
            "--- Menganalisis Topik LDA #4 ---\n",
            "Kata Kunci Topik: ['equation', 'solution', 'system', 'condition', 'nonlinear', 'dynamic', 'numerical', 'boundary', 'method', 'time']\n",
            "\n",
            "5 Kategori Asli Teratas dalam Topik ini:\n",
            "categories\n",
            "math.AP    146\n",
            "math.NA     65\n",
            "cs.NA       64\n",
            "math.PR     37\n",
            "math.MP     33\n",
            "Name: count, dtype: int64\n",
            "-----------------------------\n",
            "\n",
            "--- Menganalisis Topik LDA #5 ---\n",
            "Kata Kunci Topik: ['group', 'category', 'finite', 'lattice', 'element', 'type', 'game', 'cluster', 'color', 'subgroup']\n",
            "\n",
            "5 Kategori Asli Teratas dalam Topik ini:\n",
            "categories\n",
            "math.GR    33\n",
            "math.RT    15\n",
            "math.CO    13\n",
            "math.GT    10\n",
            "math.AG     9\n",
            "Name: count, dtype: int64\n",
            "-----------------------------\n",
            "\n",
            "--- Menganalisis Topik LDA #6 ---\n",
            "Kata Kunci Topik: ['space', 'function', 'result', 'algebra', 'operator', 'theorem', 'prove', 'paper', 'class', 'polynomial']\n",
            "\n",
            "5 Kategori Asli Teratas dalam Topik ini:\n",
            "categories\n",
            "math.AG    139\n",
            "math.DG    115\n",
            "math.NT    115\n",
            "math.CO    103\n",
            "math-ph     95\n",
            "Name: count, dtype: int64\n",
            "-----------------------------\n",
            "\n",
            "--- Menganalisis Topik LDA #7 ---\n",
            "Kata Kunci Topik: ['field', 'wave', 'model', 'particle', 'hole', 'black', 'flow', 'energy', 'magnetic', 'effect']\n",
            "\n",
            "5 Kategori Asli Teratas dalam Topik ini:\n",
            "categories\n",
            "gr-qc              172\n",
            "hep-th             106\n",
            "physics.flu-dyn     84\n",
            "hep-ph              60\n",
            "astro-ph.CO         52\n",
            "Name: count, dtype: int64\n",
            "-----------------------------\n",
            "\n",
            "--- Menganalisis Topik LDA #8 ---\n",
            "Kata Kunci Topik: ['point', 'random', 'one', 'two', 'positive', 'entropy', 'result', 'process', 'probability', 'fixed']\n",
            "\n",
            "5 Kategori Asli Teratas dalam Topik ini:\n",
            "categories\n",
            "math.PR               35\n",
            "math.CO               30\n",
            "math.NT               12\n",
            "cond-mat.stat-mech    12\n",
            "math.MP               10\n",
            "Name: count, dtype: int64\n",
            "-----------------------------\n",
            "\n",
            "--- Menganalisis Topik LDA #9 ---\n",
            "Kata Kunci Topik: ['system', 'data', 'research', 'user', 'paper', 'application', 'design', 'study', 'challenge', 'analysis']\n",
            "\n",
            "5 Kategori Asli Teratas dalam Topik ini:\n",
            "categories\n",
            "cs.AI    146\n",
            "cs.LG    139\n",
            "cs.CR    114\n",
            "cs.HC    102\n",
            "cs.CY     88\n",
            "Name: count, dtype: int64\n",
            "-----------------------------\n",
            "\n",
            "--- Menganalisis Topik LDA #10 ---\n",
            "Kata Kunci Topik: ['graph', 'bound', 'number', 'set', 'show', 'vertex', 'tree', 'upper', 'result', 'lower']\n",
            "\n",
            "5 Kategori Asli Teratas dalam Topik ini:\n",
            "categories\n",
            "math.CO    124\n",
            "cs.DM       31\n",
            "cs.DS       31\n",
            "math.PR     24\n",
            "math.NT     22\n",
            "Name: count, dtype: int64\n",
            "------------------------------\n",
            "\n",
            "--- Menganalisis Topik LDA #11 ---\n",
            "Kata Kunci Topik: ['spin', 'model', 'state', 'coupling', 'dark', 'matter', 'symmetry', 'mass', 'magnetic', 'decay']\n",
            "\n",
            "5 Kategori Asli Teratas dalam Topik ini:\n",
            "categories\n",
            "hep-ph             237\n",
            "hep-ex              93\n",
            "nucl-th             55\n",
            "hep-th              45\n",
            "cond-mat.str-el     44\n",
            "Name: count, dtype: int64\n",
            "------------------------------\n",
            "\n",
            "--- Menganalisis Topik LDA #12 ---\n",
            "Kata Kunci Topik: ['algorithm', 'problem', 'method', 'optimization', 'optimal', 'proposed', 'approach', 'gradient', 'function', 'convergence']\n",
            "\n",
            "5 Kategori Asli Teratas dalam Topik ini:\n",
            "categories\n",
            "cs.LG      146\n",
            "math.OC    145\n",
            "math.NA     82\n",
            "cs.NA       78\n",
            "stat.ML     60\n",
            "Name: count, dtype: int64\n",
            "------------------------------\n",
            "\n",
            "--- Menganalisis Topik LDA #13 ---\n",
            "Kata Kunci Topik: ['code', 'galaxy', 'mass', 'channel', 'rate', 'formation', 'distribution', 'relation', 'gas', 'entanglement']\n",
            "\n",
            "5 Kategori Asli Teratas dalam Topik ini:\n",
            "categories\n",
            "astro-ph.GA    40\n",
            "astro-ph.CO    12\n",
            "quant-ph       11\n",
            "cs.IT           7\n",
            "math.IT         7\n",
            "Name: count, dtype: int64\n",
            "------------------------------\n",
            "\n",
            "--- Menganalisis Topik LDA #14 ---\n",
            "Kata Kunci Topik: ['learning', 'method', 'image', 'data', 'model', 'feature', 'detection', 'object', 'approach', 'training']\n",
            "\n",
            "5 Kategori Asli Teratas dalam Topik ini:\n",
            "categories\n",
            "cs.CV      665\n",
            "cs.LG      442\n",
            "cs.AI      260\n",
            "eess.IV    105\n",
            "cs.RO       97\n",
            "Name: count, dtype: int64\n",
            "------------------------------\n",
            "\n",
            "--- Menganalisis Topik LDA #15 ---\n",
            "Kata Kunci Topik: ['phase', 'system', 'state', 'transition', 'temperature', 'dynamic', 'surface', 'interaction', 'topological', 'property']\n",
            "\n",
            "5 Kategori Asli Teratas dalam Topik ini:\n",
            "categories\n",
            "cond-mat.mtrl-sci     152\n",
            "cond-mat.mes-hall     130\n",
            "cond-mat.str-el       106\n",
            "quant-ph              101\n",
            "cond-mat.stat-mech     87\n",
            "Name: count, dtype: int64\n",
            "------------------------------\n",
            "\n",
            "--- Menganalisis Topik LDA #16 ---\n",
            "Kata Kunci Topik: ['quantum', 'state', 'theory', 'classical', 'circuit', 'model', 'approach', 'information', 'using', 'work']\n",
            "\n",
            "5 Kategori Asli Teratas dalam Topik ini:\n",
            "categories\n",
            "quant-ph    157\n",
            "hep-th       30\n",
            "cs.LO        22\n",
            "math.MP      21\n",
            "math-ph      21\n",
            "Name: count, dtype: int64\n",
            "------------------------------\n",
            "\n",
            "--- Menganalisis Topik LDA #17 ---\n",
            "Kata Kunci Topik: ['model', 'data', 'distribution', 'method', 'parameter', 'analysis', 'time', 'estimation', 'using', 'uncertainty']\n",
            "\n",
            "5 Kategori Asli Teratas dalam Topik ini:\n",
            "categories\n",
            "stat.ME    138\n",
            "cs.LG      128\n",
            "stat.ML     87\n",
            "stat.TH     73\n",
            "math.ST     73\n",
            "Name: count, dtype: int64\n",
            "------------------------------\n",
            "\n",
            "--- Menganalisis Topik LDA #18 ---\n",
            "Kata Kunci Topik: ['model', 'language', 'task', 'llm', 'generation', 'large', 'text', 'performance', 'knowledge', 'benchmark']\n",
            "\n",
            "5 Kategori Asli Teratas dalam Topik ini:\n",
            "categories\n",
            "cs.CL    491\n",
            "cs.AI    286\n",
            "cs.LG    216\n",
            "cs.CV    209\n",
            "cs.IR     50\n",
            "Name: count, dtype: int64\n",
            "------------------------------\n",
            "\n",
            "--- Menganalisis Topik LDA #19 ---\n",
            "Kata Kunci Topik: ['model', 'study', 'using', 'data', 'analysis', 'result', 'prediction', 'social', 'different', 'machine']\n",
            "\n",
            "5 Kategori Asli Teratas dalam Topik ini:\n",
            "categories\n",
            "cs.LG      104\n",
            "cs.CV       59\n",
            "cs.AI       55\n",
            "eess.IV     33\n",
            "cs.CL       30\n",
            "Name: count, dtype: int64\n",
            "------------------------------\n"
          ]
        }
      ]
    },
    {
      "cell_type": "markdown",
      "source": [
        "## Perbandingan Kualitas Topik\n",
        "\n",
        "Bagian ini akan membandingkan kualitas hasil topik yang dihasilkan kedua model secara kualitatif. Fokus utama yaitu seberapa mudah topik-topik dari kedua model dapat dipahami, seberapa koheren istilah-istilah yang muncul, dan sejauh mana relevansinya dengan konteks artikel ilmiah.\n",
        "\n",
        "Perbandingan dilakukan dengan melihat sejumlah tema yang berhasil ditangkap oleh LDA—karena hasilnya lebih jelas, kemudian mencocokkannya dengan topik yang kira-kira serupa pada BERTopic.\n",
        "\n",
        "---\n",
        "\n",
        "## Machine Learning & Computer Vision\n",
        "\n",
        "**LDA (Topik 14)**  \n",
        "`['learning', 'method', 'image', 'data', 'model', 'feature', 'detection', 'object', 'approach', 'training']`\n",
        "\n",
        "**Interpretasi**  \n",
        "Topik ini muncul sangat koheren dan fokus. Kumpulan kata kunci yang muncul jelas mengarah ke ranah Computer Vision dan Machine Learning. Istilah seperti *image*, *detection*, dan *object* memperkuat dugaan ini. Validasi lebih lanjut juga menunjukkan bahwa topik ini memang berasal dari kategori cs.CV dan cs.LG, yang mempertegas relevansinya secara eksternal.\n",
        "\n",
        "**BERTopic (Topik 0)**  \n",
        "`['the', 'and', 'to', 'of', 'in', 'for', 'we', 'on', 'that', 'is']`\n",
        "\n",
        "**Interpretasi**  \n",
        "topik utama yang dihasilkan BERTopic justru dipenuhi kata-kata umum yang seharusnya sudah disaring (stopwords). Hasil ini sulit dimengerti karena tidak menyampaikan tema atau konteks apa pun secara jelas.\n",
        "\n",
        "**Kesimpulan Sementara**  \n",
        "Di tema ini, LDA memiliki performa jauh lebih baik. LDA mampu merangkum esensi ribuan abstrak dari domain Computer Vision ke dalam satu topik yang ringkas dan padat makna. Sebaliknya, BERTopic gagal memberikan representasi tematik yang berarti dengan konfigurasi standar yang digunakan.\n",
        "\n",
        "---\n",
        "\n",
        "## Fisika Kuantum\n",
        "\n",
        "**LDA (Topik 16)**  \n",
        "`['quantum', 'state', 'theory', 'classical', 'circuit', 'model', 'approach', 'information', 'using', 'work']`\n",
        "\n",
        "**Interpretasi**  \n",
        "Topik ini muncul dengan fokus yang kuat dan mudah diidentifikasi. Kata *quantum* menjadi pusatnya, disusul oleh istilah khas seperti *state*, *theory*, dan *circuit*. Secara keseluruhan, ini sangat menggambarkan ranah teori dan komputasi kuantum.\n",
        "\n",
        "**BERTopic (Topik 4)**  \n",
        "`['quantum', 'the', 'of', 'to', 'and', 'in', 'we', 'for', 'that', 'is']`\n",
        "\n",
        "**Interpretasi**  \n",
        "BERTopic sebenarnya cukup berhasil menangkap kata utama dengan menempatkan *quantum* di urutan pertama. Namun, representasi topiknya masih tercemar oleh kata-kata umum, membuatnya terasa kurang tajam dan sulit ditelaah secara tematik.\n",
        "\n",
        "**Kesimpulan Sementara**  \n",
        "Meskipun BERTopic bisa mendeteksi tema besarnya, LDA masih menghasilkan keluaran yang lebih bersih dan informatif. LDA tidak hanya menunjukkan kata utama, tetapi juga konteks dan struktur tematik yang lebih kuat.\n",
        "\n",
        "---\n",
        "\n",
        "## Matematika & Teori Graf\n",
        "\n",
        "**LDA (Topik 10)**  \n",
        "`['graph', 'bound', 'number', 'set', 'show', 'vertex', 'tree', 'upper', 'result', 'lower']`\n",
        "\n",
        "**Interpretasi**  \n",
        "Topik ini sangat relevan untuk matematika, terutama teori graf. Kata-kata seperti *graph*, *vertex*, *tree*, dan *bound* merupakan istilah khas yang biasa digunakan dalam bidang itu, sehingga topik ini sangat mudah dikenali oleh siapa pun yang familiar dengan area ini.\n",
        "\n",
        "**BERTopic (Topik 8)**  \n",
        "`['graphs', 'graph', 'of', 'the', 'is', 'for', 'and', 'we', 'in', 'this']`\n",
        "\n",
        "**Interpretasi**  \n",
        "Sama seperti pada tema kuantum, BERTopic berhasil menangkap kata utama seperti *graph* dan *graphs*. Tapi karena kata-kata pendukung lainnya terlalu umum, gambaran utuh topik ini jadi terasa dangkal.\n",
        "\n",
        "**Kesimpulan Sementara**  \n",
        "Masih seperti kondisi evaluasi topik sebelumnya, LDA menghasilkan topik yang lebih solid secara konten dan lebih mudah diinterpretasikan oleh peneliti di bidang terkait. Sementara BERTopic, meskipun menangkap kata inti, tidak menyajikan konteks yang cukup kaya.\n",
        "\n",
        "---\n",
        "\n",
        "## Kesimpulan Umum\n",
        "\n",
        "Dari ketiga tema yang dievaluasi, terlihat konsistensi yang cukup jelas: LDA secara konsisten menghasilkan topik-topik yang lebih jernih, spesifik, dan bermakna. Dengan dukungan *pre-processing* yang tepat dan pemilihan jumlah topik yang sesuai, LDA terbukti efektif dalam mengurai ribuan artikel ilmiah menjadi kumpulan tema yang informatif dan mudah dipahami. Sebaliknya, BERTopic dalam konfigurasi *default* masih tertinggal dalam menyaring kata-kata yang benar-benar relevan secara tematik.\n"
      ],
      "metadata": {
        "id": "uSMm9AfeXRsA"
      }
    },
    {
      "cell_type": "markdown",
      "source": [
        "## Kesimpulan\n",
        "\n",
        "Berdasarkan analisis dan evaluasi yang telah dilakukan pada 10.000 abstrak artikel dari dataset arXiv, berikut beberapa kesimpulan penting.\n",
        "\n",
        "### Metode Mana yang Menghasilkan Topik Paling Relevan?\n",
        "\n",
        "Untuk tugas ini, **Latent Dirichlet Allocation (LDA)** terbukti menghasilkan topik yang paling *interpretable* dan relevan. Dengan jumlah topik optimal sebanyak 20 (berdasarkan *coherence score* c_v sebesar 0.4753), LDA mampu mengelompokkan dokumen ke dalam klaster-klaster yang sangat koheren secara semantik dan sesuai dengan kategori asli artikel, seperti *Computer Vision*, *Fisika Kuantum*, dan *Teori Graf*.\n",
        "\n",
        "Di sisi lain, **BERTopic** dengan konfigurasi standar, meskipun secara teoretis lebih canggih, menghasilkan topik-topik yang kurang jernih. Representasi topiknya cenderung didominasi oleh kata-kata umum, sehingga sulit untuk diinterpretasikan dan kurang memberikan wawasan yang mendalam. Selain itu, terdapat 833 dokumen yang diklasifikasikan sebagai *outlier* (Topik -1), yang berarti tidak masuk ke dalam topik mana pun.\n",
        "\n",
        "---\n",
        "\n",
        "### Kelebihan dan Tantangan\n",
        "\n",
        "#### Latent Dirichlet Allocation (LDA)\n",
        "\n",
        "- **Kelebihan:**  \n",
        "  Kekuatan utama LDA dalam studi ini adalah kemampuannya menghasilkan topik yang *bersih* dan mudah dipahami ketika dikombinasikan dengan *pre-processing* yang baik. Adanya metrik kuantitatif seperti *coherence score* juga sangat membantu dalam proses validasi dan pemilihan model terbaik.\n",
        "\n",
        "- **Tantangan:**  \n",
        "  LDA sangat bergantung pada kualitas *pre-processing*. Selain itu, proses untuk menentukan jumlah topik yang optimal (K) bisa menjadi tantangan tersendiri dan memakan waktu komputasi.\n",
        "\n",
        "#### BERTopic\n",
        "\n",
        "- **Kelebihan:**  \n",
        "  BERTopic unggul karena kemampuannya memahami konteks berkat *transformer embeddings* dan tidak memerlukan proses penentuan jumlah topik secara manual. Secara teoretis, ia dapat menangkap nuansa makna yang mungkin terlewat oleh LDA.\n",
        "\n",
        "- **Tantangan:**  \n",
        "  Tantangan terbesar dari BERTopic adalah pada tahap representasi topik. Tanpa penyesuaian lebih lanjut, topik yang dihasilkan bisa jadi tidak informatif. Hal ini menunjukkan bahwa meskipun modelnya canggih, ia tetap memerlukan pemahaman dan penyesuaian untuk menghasilkan output yang optimal.\n",
        "\n",
        "---\n",
        "\n",
        "Secara keseluruhan, proyek ini menunjukkan bahwa algoritma yang lebih baru tidak selalu memberikan hasil terbaik. Untuk dataset teks yang terstruktur seperti abstrak ilmiah, pendekatan klasik seperti LDA, jika diterapkan dengan metodologi yang tepat, masih bisa menjadi alat yang sangat kuat dan efektif.\n"
      ],
      "metadata": {
        "id": "SJq3O_BFZDtv"
      }
    }
  ]
}